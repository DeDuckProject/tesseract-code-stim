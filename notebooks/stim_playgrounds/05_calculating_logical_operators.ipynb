{
 "cells": [
  {
   "cell_type": "markdown",
   "source": [
    "# Trying to extract logical operation from stabilzer lists - not sure if working\n",
    "\n",
    "Based on https://quantumcomputing.stackexchange.com/questions/37812/how-to-find-a-set-of-independent-logical-operators-for-a-stabilizer-code-with-st"
   ],
   "metadata": {
    "collapsed": false
   }
  },
  {
   "cell_type": "code",
   "execution_count": 1,
   "outputs": [],
   "source": [
    "import stim"
   ],
   "metadata": {
    "collapsed": false
   }
  },
  {
   "cell_type": "code",
   "execution_count": 2,
   "outputs": [],
   "source": [
    "def get_observables(\n",
    "        stabilizers: list[stim.PauliString],\n",
    ") -> list[tuple[stim.PauliString, stim.PauliString]]:\n",
    "    completed_tableau = stim.Tableau.from_stabilizers(\n",
    "        stabilizers,\n",
    "        allow_redundant=True,\n",
    "        allow_underconstrained=True,\n",
    "    )\n",
    "\n",
    "    observables = []\n",
    "    for k in range(len(completed_tableau))[::-1]:\n",
    "        z = completed_tableau.z_output(k)\n",
    "        if z in stabilizers:\n",
    "            break\n",
    "        x = completed_tableau.x_output(k)\n",
    "        observables.append((x, z))\n",
    "\n",
    "    return observables"
   ],
   "metadata": {
    "collapsed": false,
    "ExecuteTime": {
     "start_time": "2024-11-15T22:19:31.954935Z",
     "end_time": "2024-11-15T22:19:31.959499Z"
    }
   }
  },
  {
   "cell_type": "code",
   "execution_count": 3,
   "outputs": [
    {
     "name": "stdout",
     "output_type": "stream",
     "text": [
      "[[5,1,3]] perfect code observables\n",
      "(stim.PauliString(\"-Z_XX_\"), stim.PauliString(\"-_ZXZ_\"))\n"
     ]
    }
   ],
   "source": [
    "print(\"[[5,1,3]] perfect code observables\")\n",
    "for obs in get_observables([\n",
    "    stim.PauliString(\"XZZXI\"),\n",
    "    stim.PauliString(\"IXZZX\"),\n",
    "    stim.PauliString(\"XIXZZ\"),\n",
    "    stim.PauliString(\"ZXIXZ\")\n",
    "]):\n",
    "    print(obs)"
   ],
   "metadata": {
    "collapsed": false,
    "ExecuteTime": {
     "start_time": "2024-11-15T22:20:23.176217Z",
     "end_time": "2024-11-15T22:20:23.186407Z"
    }
   }
  },
  {
   "cell_type": "code",
   "execution_count": 4,
   "outputs": [
    {
     "name": "stdout",
     "output_type": "stream",
     "text": [
      "[[16,4,4]] tesseract code observables\n",
      "(stim.PauliString(\"+___X_X___X_____X\"), stim.PauliString(\"+_Z____Z_Z______Z\"))\n",
      "(stim.PauliString(\"+__X__X___X____X_\"), stim.PauliString(\"+Z_____Z_Z_____Z_\"))\n",
      "(stim.PauliString(\"+___X___X_X___X__\"), stim.PauliString(\"+_Z__Z___Z____Z__\"))\n",
      "(stim.PauliString(\"+__X____X_X__X___\"), stim.PauliString(\"+Z___Z___Z___Z___\"))\n",
      "(stim.PauliString(\"+_____X_X_X_X____\"), stim.PauliString(\"+ZZ__Z_Z_Z__Z____\"))\n",
      "(stim.PauliString(\"+__XX_X_X_XX_____\"), stim.PauliString(\"+____Z_Z_Z_Z_____\"))\n"
     ]
    }
   ],
   "source": [
    "print(\"[[16,4,4]] tesseract code observables\")\n",
    "for obs in get_observables([\n",
    "    stim.PauliString(\"XXXXXXXXIIIIIIII\"), #rows 1-2\n",
    "    stim.PauliString(\"IIIIXXXXXXXXIIII\"), #rows 2-3\n",
    "    stim.PauliString(\"IIIIIIIIXXXXXXXX\"), #rows 3-4\n",
    "    stim.PauliString(\"ZZZZZZZZIIIIIIII\"), #rows 1-2\n",
    "    stim.PauliString(\"IIIIZZZZZZZZIIII\"), #rows 2-3\n",
    "    stim.PauliString(\"IIIIIIIIZZZZZZZZ\"), #rows 3-4\n",
    "    stim.PauliString(\"XXIIXXIIXXIIXXII\"), #columns 1-2\n",
    "    stim.PauliString(\"ZZIIZZIIZZIIZZII\"), #columns 1-2\n",
    "    stim.PauliString(\"IXXIIXXIIXXIIXXI\"), #columns 2-3\n",
    "    stim.PauliString(\"IZZIIZZIIZZIIZZI\"), #columns 2-3\n",
    "]):\n",
    "    print(obs)"
   ],
   "metadata": {
    "collapsed": false,
    "ExecuteTime": {
     "start_time": "2024-11-15T22:21:00.619689Z",
     "end_time": "2024-11-15T22:21:00.646130Z"
    }
   }
  },
  {
   "cell_type": "code",
   "execution_count": 6,
   "outputs": [
    {
     "name": "stdout",
     "output_type": "stream",
     "text": [
      "[[16,4,4]] tesseract code observables (0-based index lists)\n",
      "X indices: [4, 6, 10, 16], Z indices: []\n",
      "X indices: [3, 6, 10, 15], Z indices: []\n",
      "X indices: [4, 8, 10, 14], Z indices: []\n",
      "X indices: [3, 8, 10, 13], Z indices: []\n",
      "X indices: [6, 8, 10, 12], Z indices: []\n",
      "X indices: [3, 4, 6, 8, 10, 11], Z indices: []\n"
     ]
    }
   ],
   "source": [
    "print(\"[[16,4,4]] tesseract code observables (0-based index lists)\")\n",
    "\n",
    "def extract_indices(pauli_string):\n",
    "    x_indices = [i - 1 for i, p in enumerate(pauli_string, start=1) if p == 'X']\n",
    "    z_indices = [i - 1 for i, p in enumerate(pauli_string, start=1) if p == 'Z']\n",
    "    return x_indices, z_indices\n",
    "\n",
    "for obs in get_observables([\n",
    "    stim.PauliString(\"XXXXXXXXIIIIIIII\"), # rows 1-2\n",
    "    stim.PauliString(\"IIIIXXXXXXXXIIII\"), # rows 2-3\n",
    "    stim.PauliString(\"IIIIIIIIXXXXXXXX\"), # rows 3-4\n",
    "    stim.PauliString(\"ZZZZZZZZIIIIIIII\"), # rows 1-2\n",
    "    stim.PauliString(\"IIIIZZZZZZZZIIII\"), # rows 2-3\n",
    "    stim.PauliString(\"IIIIIIIIZZZZZZZZ\"), # rows 3-4\n",
    "    stim.PauliString(\"XXIIXXIIXXIIXXII\"), # columns 1-2\n",
    "    stim.PauliString(\"ZZIIZZIIZZIIZZII\"), # columns 1-2\n",
    "    stim.PauliString(\"IXXIIXXIIXXIIXXI\"), # columns 2-3\n",
    "    stim.PauliString(\"IZZIIZZIIZZIIZZI\"), # columns 2-3\n",
    "]):\n",
    "    x_indices, z_indices = extract_indices(str(obs[0]))\n",
    "    print(f\"X indices: {x_indices}, Z indices: {z_indices}\")\n"
   ],
   "metadata": {
    "collapsed": false,
    "ExecuteTime": {
     "start_time": "2024-11-15T22:25:44.675482Z",
     "end_time": "2024-11-15T22:25:44.687846Z"
    }
   }
  },
  {
   "cell_type": "code",
   "execution_count": null,
   "outputs": [],
   "source": [],
   "metadata": {
    "collapsed": false
   }
  }
 ],
 "metadata": {
  "kernelspec": {
   "display_name": "Python 3",
   "language": "python",
   "name": "python3"
  },
  "language_info": {
   "codemirror_mode": {
    "name": "ipython",
    "version": 2
   },
   "file_extension": ".py",
   "mimetype": "text/x-python",
   "name": "python",
   "nbconvert_exporter": "python",
   "pygments_lexer": "ipython2",
   "version": "2.7.6"
  }
 },
 "nbformat": 4,
 "nbformat_minor": 0
}
