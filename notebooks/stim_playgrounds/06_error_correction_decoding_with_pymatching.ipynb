{
 "cells": [
  {
   "cell_type": "code",
   "execution_count": 2,
   "outputs": [],
   "source": [
    "import stim\n",
    "import pymatching\n",
    "import numpy as np"
   ],
   "metadata": {
    "collapsed": false,
    "ExecuteTime": {
     "start_time": "2024-11-18T23:15:02.241720Z",
     "end_time": "2024-11-18T23:15:04.883712Z"
    }
   }
  },
  {
   "cell_type": "code",
   "execution_count": 3,
   "outputs": [
    {
     "name": "stdout",
     "output_type": "stream",
     "text": [
      "there were 89 wrong predictions (logical errors) out of 100000 shots\n"
     ]
    }
   ],
   "source": [
    "# code from https://github.com/quantumlib/Stim/blob/main/doc/getting_started.ipynb\n",
    "def count_logical_errors(circuit: stim.Circuit, num_shots: int) -> int:\n",
    "    # Sample the circuit.\n",
    "    sampler = circuit.compile_detector_sampler()\n",
    "    detection_events, observable_flips = sampler.sample(num_shots, separate_observables=True)\n",
    "\n",
    "    # Configure a decoder using the circuit.\n",
    "    detector_error_model = circuit.detector_error_model(decompose_errors=True)\n",
    "    matcher = pymatching.Matching.from_detector_error_model(detector_error_model)\n",
    "\n",
    "    # Run the decoder.\n",
    "    predictions = matcher.decode_batch(detection_events)\n",
    "\n",
    "    # Count the mistakes.\n",
    "    num_errors = 0\n",
    "    for shot in range(num_shots):\n",
    "        actual_for_shot = observable_flips[shot]\n",
    "        predicted_for_shot = predictions[shot]\n",
    "        if not np.array_equal(actual_for_shot, predicted_for_shot):\n",
    "            num_errors += 1\n",
    "    return num_errors\n",
    "\n",
    "circuit = stim.Circuit.generated(\"repetition_code:memory\", rounds=1, distance=9, before_round_data_depolarization=0.15)\n",
    "num_shots = 100_000\n",
    "num_logical_errors = count_logical_errors(circuit, num_shots)\n",
    "print(\"there were\", num_logical_errors, \"wrong predictions (logical errors) out of\", num_shots, \"shots\")"
   ],
   "metadata": {
    "collapsed": false,
    "ExecuteTime": {
     "start_time": "2024-11-18T23:15:04.892486Z",
     "end_time": "2024-11-18T23:15:05.473168Z"
    }
   }
  },
  {
   "cell_type": "markdown",
   "source": [
    "## Testing this method on the 5-qubit code"
   ],
   "metadata": {
    "collapsed": false
   }
  },
  {
   "cell_type": "code",
   "execution_count": 88,
   "outputs": [],
   "source": [
    "def init_circuit():\n",
    "    circuit = stim.Circuit()\n",
    "    # Adding qubit coordinates metadata\n",
    "    print(\"Initialization complete.\")\n",
    "    return circuit\n",
    "\n",
    "def encode(circuit):\n",
    "    # Encoding step: Measuring X and Z stabilizers\n",
    "    circuit += stim.Circuit(\"\"\"\n",
    "\n",
    "        MPP X0*Z1*Z2*X3\n",
    "        MPP X1*Z2*Z3*X4\n",
    "        MPP X0*X2*Z3*Z4\n",
    "        MPP Z0*X1*X3*Z4\n",
    "    \"\"\")\n",
    "    print(\"Encoding complete.\")\n",
    "\n",
    "def channel(circuit, error_rate, noisy_qubits=list(range(5))):\n",
    "    # Noise channel: Adding X errors with probability 0 (for testing, can be adjusted)\n",
    "    circuit.append(\"TICK\")\n",
    "    circuit.append(\"X_ERROR\", noisy_qubits, error_rate)  # 10% error probability for demonstration\n",
    "    circuit.append(\"TICK\")\n",
    "    print(\"Noise channel applied.\")\n",
    "\n",
    "def error_correction(circuit):\n",
    "    # Error correction: Measuring the stabilizers again\n",
    "    circuit += stim.Circuit(\"\"\"\n",
    "        MPP X0*Z1*Z2*X3\n",
    "        MPP X1*Z2*Z3*X4\n",
    "        MPP X0*X2*Z3*Z4\n",
    "        MPP Z0*X1*X3*Z4\n",
    "    \"\"\")\n",
    "    # TODO we extracted the syndromes but didn't correct errors.\n",
    "\n",
    "    # Adding detectors for error syndrome extraction\n",
    "    circuit += stim.Circuit(\"\"\"\n",
    "        DETECTOR rec[-4] rec[-8]\n",
    "        DETECTOR rec[-3] rec[-7]\n",
    "        DETECTOR rec[-2] rec[-6]\n",
    "        DETECTOR rec[-1] rec[-5]\n",
    "    \"\"\")\n",
    "\n",
    "    circuit += stim.Circuit(\"\"\"\n",
    "        # Logical Z operator for the 5-qubit code\n",
    "        MPP Z0*Z1*Z2*Z3*Z4\n",
    "        OBSERVABLE_INCLUDE(0) rec[-1]\n",
    "\n",
    "        # Logical X operator for the 5-qubit code\n",
    "        # MPP X0*X1*X2*X3*X4\n",
    "        # OBSERVABLE_INCLUDE(1) rec[-1]\n",
    "    \"\"\")\n",
    "    print(\"Error correction complete.\")"
   ],
   "metadata": {
    "collapsed": false,
    "ExecuteTime": {
     "start_time": "2024-11-18T23:34:26.853602Z",
     "end_time": "2024-11-18T23:34:26.857366Z"
    }
   }
  },
  {
   "cell_type": "code",
   "execution_count": 89,
   "outputs": [
    {
     "name": "stdout",
     "output_type": "stream",
     "text": [
      "Initialization complete.\n",
      "Encoding complete.\n",
      "Noise channel applied.\n",
      "Error correction complete.\n",
      "MPP X0*Z1*Z2*X3 X1*Z2*Z3*X4 X0*X2*Z3*Z4 Z0*X1*X3*Z4\n",
      "TICK\n",
      "X_ERROR(0.3) 0 1 2 3 4\n",
      "TICK\n",
      "MPP X0*Z1*Z2*X3 X1*Z2*Z3*X4 X0*X2*Z3*Z4 Z0*X1*X3*Z4\n",
      "DETECTOR rec[-4] rec[-8]\n",
      "DETECTOR rec[-3] rec[-7]\n",
      "DETECTOR rec[-2] rec[-6]\n",
      "DETECTOR rec[-1] rec[-5]\n",
      "MPP Z0*Z1*Z2*Z3*Z4\n",
      "OBSERVABLE_INCLUDE(0) rec[-1]\n"
     ]
    }
   ],
   "source": [
    "\n",
    "# Initialize the circuit\n",
    "circuit = init_circuit()\n",
    "\n",
    "# Encode the logical qubit\n",
    "encode(circuit)\n",
    "\n",
    "# Apply noise channel\n",
    "channel(circuit, 0.3, [0,1,2,3,4])\n",
    "\n",
    "# Perform error correction\n",
    "error_correction(circuit)\n",
    "\n",
    "# Print the final circuit for verification\n",
    "print(circuit)"
   ],
   "metadata": {
    "collapsed": false,
    "ExecuteTime": {
     "start_time": "2024-11-18T23:34:27.600359Z",
     "end_time": "2024-11-18T23:34:27.604450Z"
    }
   }
  },
  {
   "cell_type": "code",
   "execution_count": 90,
   "outputs": [
    {
     "data": {
      "text/plain": "array([[ True, False,  True,  True],\n       [ True, False, False, False],\n       [False, False, False, False],\n       [ True, False,  True, False],\n       [False,  True, False,  True],\n       [False, False,  True,  True],\n       [ True, False, False, False],\n       [False, False,  True,  True],\n       [ True, False, False, False],\n       [False, False, False, False]])"
     },
     "execution_count": 90,
     "metadata": {},
     "output_type": "execute_result"
    }
   ],
   "source": [
    "circuit.compile_detector_sampler().sample(shots=10)"
   ],
   "metadata": {
    "collapsed": false,
    "ExecuteTime": {
     "start_time": "2024-11-18T23:34:28.220700Z",
     "end_time": "2024-11-18T23:34:28.225799Z"
    }
   }
  },
  {
   "cell_type": "code",
   "execution_count": 91,
   "outputs": [
    {
     "name": "stdout",
     "output_type": "stream",
     "text": [
      "there were 16266 wrong predictions (logical errors) out of 100000 shots\n"
     ]
    }
   ],
   "source": [
    "num_shots = 100_000\n",
    "num_logical_errors = count_logical_errors(circuit, num_shots)\n",
    "print(\"there were\", num_logical_errors, \"wrong predictions (logical errors) out of\", num_shots, \"shots\")"
   ],
   "metadata": {
    "collapsed": false,
    "ExecuteTime": {
     "start_time": "2024-11-18T23:34:28.807707Z",
     "end_time": "2024-11-18T23:34:29.297736Z"
    }
   }
  },
  {
   "cell_type": "code",
   "execution_count": 92,
   "outputs": [
    {
     "data": {
      "text/plain": "<svg viewBox=\"0 0 1696 416\"  version=\"1.1\" xmlns=\"http://www.w3.org/2000/svg\">\n<g id=\"qubit_lines\">\n<path id=\"qubit_line:0\" d=\"M64,64 L1664,64 \" stroke=\"black\"/>\n<text dominant-baseline=\"central\" text-anchor=\"end\" font-family=\"monospace\" font-size=\"12\" x=\"64\" y=\"64\">q0</text>\n<path id=\"qubit_line:1\" d=\"M64,128 L1664,128 \" stroke=\"black\"/>\n<text dominant-baseline=\"central\" text-anchor=\"end\" font-family=\"monospace\" font-size=\"12\" x=\"64\" y=\"128\">q1</text>\n<path id=\"qubit_line:2\" d=\"M64,192 L1664,192 \" stroke=\"black\"/>\n<text dominant-baseline=\"central\" text-anchor=\"end\" font-family=\"monospace\" font-size=\"12\" x=\"64\" y=\"192\">q2</text>\n<path id=\"qubit_line:3\" d=\"M64,256 L1664,256 \" stroke=\"black\"/>\n<text dominant-baseline=\"central\" text-anchor=\"end\" font-family=\"monospace\" font-size=\"12\" x=\"64\" y=\"256\">q3</text>\n<path id=\"qubit_line:4\" d=\"M64,320 L1664,320 \" stroke=\"black\"/>\n<text dominant-baseline=\"central\" text-anchor=\"end\" font-family=\"monospace\" font-size=\"12\" x=\"64\" y=\"320\">q4</text>\n</g>\n<path d=\"M96,64 L96,256 \" stroke=\"black\"/>\n<rect x=\"80\" y=\"48\" width=\"32\" height=\"32\" stroke=\"black\" fill=\"black\"/>\n<text dominant-baseline=\"central\" text-anchor=\"middle\" font-family=\"monospace\" font-size=\"12\" x=\"96\" y=\"64\" fill=\"white\">MPP<tspan baseline-shift=\"sub\" font-size=\"10\">X</tspan></text>\n<text text-anchor=\"middle\" font-family=\"monospace\" font-size=\"8\" x=\"96\" y=\"44\">rec[0]</text>\n<rect x=\"80\" y=\"112\" width=\"32\" height=\"32\" stroke=\"black\" fill=\"black\"/>\n<text dominant-baseline=\"central\" text-anchor=\"middle\" font-family=\"monospace\" font-size=\"12\" x=\"96\" y=\"128\" fill=\"white\">MPP<tspan baseline-shift=\"sub\" font-size=\"10\">Z</tspan></text>\n<rect x=\"80\" y=\"176\" width=\"32\" height=\"32\" stroke=\"black\" fill=\"black\"/>\n<text dominant-baseline=\"central\" text-anchor=\"middle\" font-family=\"monospace\" font-size=\"12\" x=\"96\" y=\"192\" fill=\"white\">MPP<tspan baseline-shift=\"sub\" font-size=\"10\">Z</tspan></text>\n<rect x=\"80\" y=\"240\" width=\"32\" height=\"32\" stroke=\"black\" fill=\"black\"/>\n<text dominant-baseline=\"central\" text-anchor=\"middle\" font-family=\"monospace\" font-size=\"12\" x=\"96\" y=\"256\" fill=\"white\">MPP<tspan baseline-shift=\"sub\" font-size=\"10\">X</tspan></text>\n<path d=\"M160,128 L160,320 \" stroke=\"black\"/>\n<rect x=\"144\" y=\"112\" width=\"32\" height=\"32\" stroke=\"black\" fill=\"black\"/>\n<text dominant-baseline=\"central\" text-anchor=\"middle\" font-family=\"monospace\" font-size=\"12\" x=\"160\" y=\"128\" fill=\"white\">MPP<tspan baseline-shift=\"sub\" font-size=\"10\">X</tspan></text>\n<text text-anchor=\"middle\" font-family=\"monospace\" font-size=\"8\" x=\"160\" y=\"108\">rec[1]</text>\n<rect x=\"144\" y=\"176\" width=\"32\" height=\"32\" stroke=\"black\" fill=\"black\"/>\n<text dominant-baseline=\"central\" text-anchor=\"middle\" font-family=\"monospace\" font-size=\"12\" x=\"160\" y=\"192\" fill=\"white\">MPP<tspan baseline-shift=\"sub\" font-size=\"10\">Z</tspan></text>\n<rect x=\"144\" y=\"240\" width=\"32\" height=\"32\" stroke=\"black\" fill=\"black\"/>\n<text dominant-baseline=\"central\" text-anchor=\"middle\" font-family=\"monospace\" font-size=\"12\" x=\"160\" y=\"256\" fill=\"white\">MPP<tspan baseline-shift=\"sub\" font-size=\"10\">Z</tspan></text>\n<rect x=\"144\" y=\"304\" width=\"32\" height=\"32\" stroke=\"black\" fill=\"black\"/>\n<text dominant-baseline=\"central\" text-anchor=\"middle\" font-family=\"monospace\" font-size=\"12\" x=\"160\" y=\"320\" fill=\"white\">MPP<tspan baseline-shift=\"sub\" font-size=\"10\">X</tspan></text>\n<path d=\"M224,64 L224,320 \" stroke=\"black\"/>\n<rect x=\"208\" y=\"48\" width=\"32\" height=\"32\" stroke=\"black\" fill=\"black\"/>\n<text dominant-baseline=\"central\" text-anchor=\"middle\" font-family=\"monospace\" font-size=\"12\" x=\"224\" y=\"64\" fill=\"white\">MPP<tspan baseline-shift=\"sub\" font-size=\"10\">X</tspan></text>\n<text text-anchor=\"middle\" font-family=\"monospace\" font-size=\"8\" x=\"224\" y=\"44\">rec[2]</text>\n<rect x=\"208\" y=\"176\" width=\"32\" height=\"32\" stroke=\"black\" fill=\"black\"/>\n<text dominant-baseline=\"central\" text-anchor=\"middle\" font-family=\"monospace\" font-size=\"12\" x=\"224\" y=\"192\" fill=\"white\">MPP<tspan baseline-shift=\"sub\" font-size=\"10\">X</tspan></text>\n<rect x=\"208\" y=\"240\" width=\"32\" height=\"32\" stroke=\"black\" fill=\"black\"/>\n<text dominant-baseline=\"central\" text-anchor=\"middle\" font-family=\"monospace\" font-size=\"12\" x=\"224\" y=\"256\" fill=\"white\">MPP<tspan baseline-shift=\"sub\" font-size=\"10\">Z</tspan></text>\n<rect x=\"208\" y=\"304\" width=\"32\" height=\"32\" stroke=\"black\" fill=\"black\"/>\n<text dominant-baseline=\"central\" text-anchor=\"middle\" font-family=\"monospace\" font-size=\"12\" x=\"224\" y=\"320\" fill=\"white\">MPP<tspan baseline-shift=\"sub\" font-size=\"10\">Z</tspan></text>\n<path d=\"M288,64 L288,320 \" stroke=\"black\"/>\n<rect x=\"272\" y=\"48\" width=\"32\" height=\"32\" stroke=\"black\" fill=\"black\"/>\n<text dominant-baseline=\"central\" text-anchor=\"middle\" font-family=\"monospace\" font-size=\"12\" x=\"288\" y=\"64\" fill=\"white\">MPP<tspan baseline-shift=\"sub\" font-size=\"10\">Z</tspan></text>\n<text text-anchor=\"middle\" font-family=\"monospace\" font-size=\"8\" x=\"288\" y=\"44\">rec[3]</text>\n<rect x=\"272\" y=\"112\" width=\"32\" height=\"32\" stroke=\"black\" fill=\"black\"/>\n<text dominant-baseline=\"central\" text-anchor=\"middle\" font-family=\"monospace\" font-size=\"12\" x=\"288\" y=\"128\" fill=\"white\">MPP<tspan baseline-shift=\"sub\" font-size=\"10\">X</tspan></text>\n<rect x=\"272\" y=\"240\" width=\"32\" height=\"32\" stroke=\"black\" fill=\"black\"/>\n<text dominant-baseline=\"central\" text-anchor=\"middle\" font-family=\"monospace\" font-size=\"12\" x=\"288\" y=\"256\" fill=\"white\">MPP<tspan baseline-shift=\"sub\" font-size=\"10\">X</tspan></text>\n<rect x=\"272\" y=\"304\" width=\"32\" height=\"32\" stroke=\"black\" fill=\"black\"/>\n<text dominant-baseline=\"central\" text-anchor=\"middle\" font-family=\"monospace\" font-size=\"12\" x=\"288\" y=\"320\" fill=\"white\">MPP<tspan baseline-shift=\"sub\" font-size=\"10\">Z</tspan></text>\n<path d=\"M68,40 L68,32 L316,32 L316,40 \" stroke=\"black\" fill=\"none\"/>\n<path d=\"M68,376 L68,384 L316,384 L316,376 \" stroke=\"black\" fill=\"none\"/>\n<rect x=\"336\" y=\"48\" width=\"32\" height=\"32\" stroke=\"black\" fill=\"pink\"/>\n<text dominant-baseline=\"central\" text-anchor=\"middle\" font-family=\"monospace\" font-size=\"12\" x=\"352\" y=\"64\">ERR<tspan baseline-shift=\"sub\" font-size=\"10\">X</tspan></text>\n<text dominant-baseline=\"hanging\" text-anchor=\"middle\" font-family=\"monospace\" font-size=\"10\" stroke=\"red\" x=\"352\" y=\"84\">0.3</text>\n<rect x=\"336\" y=\"112\" width=\"32\" height=\"32\" stroke=\"black\" fill=\"pink\"/>\n<text dominant-baseline=\"central\" text-anchor=\"middle\" font-family=\"monospace\" font-size=\"12\" x=\"352\" y=\"128\">ERR<tspan baseline-shift=\"sub\" font-size=\"10\">X</tspan></text>\n<text dominant-baseline=\"hanging\" text-anchor=\"middle\" font-family=\"monospace\" font-size=\"10\" stroke=\"red\" x=\"352\" y=\"148\">0.3</text>\n<rect x=\"336\" y=\"176\" width=\"32\" height=\"32\" stroke=\"black\" fill=\"pink\"/>\n<text dominant-baseline=\"central\" text-anchor=\"middle\" font-family=\"monospace\" font-size=\"12\" x=\"352\" y=\"192\">ERR<tspan baseline-shift=\"sub\" font-size=\"10\">X</tspan></text>\n<text dominant-baseline=\"hanging\" text-anchor=\"middle\" font-family=\"monospace\" font-size=\"10\" stroke=\"red\" x=\"352\" y=\"212\">0.3</text>\n<rect x=\"336\" y=\"240\" width=\"32\" height=\"32\" stroke=\"black\" fill=\"pink\"/>\n<text dominant-baseline=\"central\" text-anchor=\"middle\" font-family=\"monospace\" font-size=\"12\" x=\"352\" y=\"256\">ERR<tspan baseline-shift=\"sub\" font-size=\"10\">X</tspan></text>\n<text dominant-baseline=\"hanging\" text-anchor=\"middle\" font-family=\"monospace\" font-size=\"10\" stroke=\"red\" x=\"352\" y=\"276\">0.3</text>\n<rect x=\"336\" y=\"304\" width=\"32\" height=\"32\" stroke=\"black\" fill=\"pink\"/>\n<text dominant-baseline=\"central\" text-anchor=\"middle\" font-family=\"monospace\" font-size=\"12\" x=\"352\" y=\"320\">ERR<tspan baseline-shift=\"sub\" font-size=\"10\">X</tspan></text>\n<text dominant-baseline=\"hanging\" text-anchor=\"middle\" font-family=\"monospace\" font-size=\"10\" stroke=\"red\" x=\"352\" y=\"340\">0.3</text>\n<path d=\"M416,64 L416,256 \" stroke=\"black\"/>\n<rect x=\"400\" y=\"48\" width=\"32\" height=\"32\" stroke=\"black\" fill=\"black\"/>\n<text dominant-baseline=\"central\" text-anchor=\"middle\" font-family=\"monospace\" font-size=\"12\" x=\"416\" y=\"64\" fill=\"white\">MPP<tspan baseline-shift=\"sub\" font-size=\"10\">X</tspan></text>\n<text text-anchor=\"middle\" font-family=\"monospace\" font-size=\"8\" x=\"416\" y=\"44\">rec[4]</text>\n<rect x=\"400\" y=\"112\" width=\"32\" height=\"32\" stroke=\"black\" fill=\"black\"/>\n<text dominant-baseline=\"central\" text-anchor=\"middle\" font-family=\"monospace\" font-size=\"12\" x=\"416\" y=\"128\" fill=\"white\">MPP<tspan baseline-shift=\"sub\" font-size=\"10\">Z</tspan></text>\n<rect x=\"400\" y=\"176\" width=\"32\" height=\"32\" stroke=\"black\" fill=\"black\"/>\n<text dominant-baseline=\"central\" text-anchor=\"middle\" font-family=\"monospace\" font-size=\"12\" x=\"416\" y=\"192\" fill=\"white\">MPP<tspan baseline-shift=\"sub\" font-size=\"10\">Z</tspan></text>\n<rect x=\"400\" y=\"240\" width=\"32\" height=\"32\" stroke=\"black\" fill=\"black\"/>\n<text dominant-baseline=\"central\" text-anchor=\"middle\" font-family=\"monospace\" font-size=\"12\" x=\"416\" y=\"256\" fill=\"white\">MPP<tspan baseline-shift=\"sub\" font-size=\"10\">X</tspan></text>\n<path d=\"M480,128 L480,320 \" stroke=\"black\"/>\n<rect x=\"464\" y=\"112\" width=\"32\" height=\"32\" stroke=\"black\" fill=\"black\"/>\n<text dominant-baseline=\"central\" text-anchor=\"middle\" font-family=\"monospace\" font-size=\"12\" x=\"480\" y=\"128\" fill=\"white\">MPP<tspan baseline-shift=\"sub\" font-size=\"10\">X</tspan></text>\n<text text-anchor=\"middle\" font-family=\"monospace\" font-size=\"8\" x=\"480\" y=\"108\">rec[5]</text>\n<rect x=\"464\" y=\"176\" width=\"32\" height=\"32\" stroke=\"black\" fill=\"black\"/>\n<text dominant-baseline=\"central\" text-anchor=\"middle\" font-family=\"monospace\" font-size=\"12\" x=\"480\" y=\"192\" fill=\"white\">MPP<tspan baseline-shift=\"sub\" font-size=\"10\">Z</tspan></text>\n<rect x=\"464\" y=\"240\" width=\"32\" height=\"32\" stroke=\"black\" fill=\"black\"/>\n<text dominant-baseline=\"central\" text-anchor=\"middle\" font-family=\"monospace\" font-size=\"12\" x=\"480\" y=\"256\" fill=\"white\">MPP<tspan baseline-shift=\"sub\" font-size=\"10\">Z</tspan></text>\n<rect x=\"464\" y=\"304\" width=\"32\" height=\"32\" stroke=\"black\" fill=\"black\"/>\n<text dominant-baseline=\"central\" text-anchor=\"middle\" font-family=\"monospace\" font-size=\"12\" x=\"480\" y=\"320\" fill=\"white\">MPP<tspan baseline-shift=\"sub\" font-size=\"10\">X</tspan></text>\n<path d=\"M544,64 L544,320 \" stroke=\"black\"/>\n<rect x=\"528\" y=\"48\" width=\"32\" height=\"32\" stroke=\"black\" fill=\"black\"/>\n<text dominant-baseline=\"central\" text-anchor=\"middle\" font-family=\"monospace\" font-size=\"12\" x=\"544\" y=\"64\" fill=\"white\">MPP<tspan baseline-shift=\"sub\" font-size=\"10\">X</tspan></text>\n<text text-anchor=\"middle\" font-family=\"monospace\" font-size=\"8\" x=\"544\" y=\"44\">rec[6]</text>\n<rect x=\"528\" y=\"176\" width=\"32\" height=\"32\" stroke=\"black\" fill=\"black\"/>\n<text dominant-baseline=\"central\" text-anchor=\"middle\" font-family=\"monospace\" font-size=\"12\" x=\"544\" y=\"192\" fill=\"white\">MPP<tspan baseline-shift=\"sub\" font-size=\"10\">X</tspan></text>\n<rect x=\"528\" y=\"240\" width=\"32\" height=\"32\" stroke=\"black\" fill=\"black\"/>\n<text dominant-baseline=\"central\" text-anchor=\"middle\" font-family=\"monospace\" font-size=\"12\" x=\"544\" y=\"256\" fill=\"white\">MPP<tspan baseline-shift=\"sub\" font-size=\"10\">Z</tspan></text>\n<rect x=\"528\" y=\"304\" width=\"32\" height=\"32\" stroke=\"black\" fill=\"black\"/>\n<text dominant-baseline=\"central\" text-anchor=\"middle\" font-family=\"monospace\" font-size=\"12\" x=\"544\" y=\"320\" fill=\"white\">MPP<tspan baseline-shift=\"sub\" font-size=\"10\">Z</tspan></text>\n<path d=\"M608,64 L608,320 \" stroke=\"black\"/>\n<rect x=\"592\" y=\"48\" width=\"32\" height=\"32\" stroke=\"black\" fill=\"black\"/>\n<text dominant-baseline=\"central\" text-anchor=\"middle\" font-family=\"monospace\" font-size=\"12\" x=\"608\" y=\"64\" fill=\"white\">MPP<tspan baseline-shift=\"sub\" font-size=\"10\">Z</tspan></text>\n<text text-anchor=\"middle\" font-family=\"monospace\" font-size=\"8\" x=\"608\" y=\"44\">rec[7]</text>\n<rect x=\"592\" y=\"112\" width=\"32\" height=\"32\" stroke=\"black\" fill=\"black\"/>\n<text dominant-baseline=\"central\" text-anchor=\"middle\" font-family=\"monospace\" font-size=\"12\" x=\"608\" y=\"128\" fill=\"white\">MPP<tspan baseline-shift=\"sub\" font-size=\"10\">X</tspan></text>\n<rect x=\"592\" y=\"240\" width=\"32\" height=\"32\" stroke=\"black\" fill=\"black\"/>\n<text dominant-baseline=\"central\" text-anchor=\"middle\" font-family=\"monospace\" font-size=\"12\" x=\"608\" y=\"256\" fill=\"white\">MPP<tspan baseline-shift=\"sub\" font-size=\"10\">X</tspan></text>\n<rect x=\"592\" y=\"304\" width=\"32\" height=\"32\" stroke=\"black\" fill=\"black\"/>\n<text dominant-baseline=\"central\" text-anchor=\"middle\" font-family=\"monospace\" font-size=\"12\" x=\"608\" y=\"320\" fill=\"white\">MPP<tspan baseline-shift=\"sub\" font-size=\"10\">Z</tspan></text>\n<rect x=\"656\" y=\"48\" width=\"224\" height=\"32\" stroke=\"black\" fill=\"lightgray\"/>\n<text dominant-baseline=\"central\" text-anchor=\"middle\" font-family=\"monospace\" font-size=\"16\" x=\"768\" y=\"64\">DETECTOR</text>\n<text text-anchor=\"middle\" font-family=\"monospace\" font-size=\"8\" x=\"768\" y=\"44\">D0 = rec[4]*rec[0]</text>\n<rect x=\"656\" y=\"112\" width=\"224\" height=\"32\" stroke=\"black\" fill=\"lightgray\"/>\n<text dominant-baseline=\"central\" text-anchor=\"middle\" font-family=\"monospace\" font-size=\"16\" x=\"768\" y=\"128\">DETECTOR</text>\n<text text-anchor=\"middle\" font-family=\"monospace\" font-size=\"8\" x=\"768\" y=\"108\">D1 = rec[5]*rec[1]</text>\n<rect x=\"912\" y=\"48\" width=\"224\" height=\"32\" stroke=\"black\" fill=\"lightgray\"/>\n<text dominant-baseline=\"central\" text-anchor=\"middle\" font-family=\"monospace\" font-size=\"16\" x=\"1024\" y=\"64\">DETECTOR</text>\n<text text-anchor=\"middle\" font-family=\"monospace\" font-size=\"8\" x=\"1024\" y=\"44\">D2 = rec[6]*rec[2]</text>\n<rect x=\"1168\" y=\"48\" width=\"224\" height=\"32\" stroke=\"black\" fill=\"lightgray\"/>\n<text dominant-baseline=\"central\" text-anchor=\"middle\" font-family=\"monospace\" font-size=\"16\" x=\"1280\" y=\"64\">DETECTOR</text>\n<text text-anchor=\"middle\" font-family=\"monospace\" font-size=\"8\" x=\"1280\" y=\"44\">D3 = rec[7]*rec[3]</text>\n<path d=\"M1440,64 L1440,320 \" stroke=\"black\"/>\n<rect x=\"1424\" y=\"48\" width=\"32\" height=\"32\" stroke=\"black\" fill=\"black\"/>\n<text dominant-baseline=\"central\" text-anchor=\"middle\" font-family=\"monospace\" font-size=\"12\" x=\"1440\" y=\"64\" fill=\"white\">MPP<tspan baseline-shift=\"sub\" font-size=\"10\">Z</tspan></text>\n<text text-anchor=\"middle\" font-family=\"monospace\" font-size=\"8\" x=\"1440\" y=\"44\">rec[8]</text>\n<rect x=\"1424\" y=\"112\" width=\"32\" height=\"32\" stroke=\"black\" fill=\"black\"/>\n<text dominant-baseline=\"central\" text-anchor=\"middle\" font-family=\"monospace\" font-size=\"12\" x=\"1440\" y=\"128\" fill=\"white\">MPP<tspan baseline-shift=\"sub\" font-size=\"10\">Z</tspan></text>\n<rect x=\"1424\" y=\"176\" width=\"32\" height=\"32\" stroke=\"black\" fill=\"black\"/>\n<text dominant-baseline=\"central\" text-anchor=\"middle\" font-family=\"monospace\" font-size=\"12\" x=\"1440\" y=\"192\" fill=\"white\">MPP<tspan baseline-shift=\"sub\" font-size=\"10\">Z</tspan></text>\n<rect x=\"1424\" y=\"240\" width=\"32\" height=\"32\" stroke=\"black\" fill=\"black\"/>\n<text dominant-baseline=\"central\" text-anchor=\"middle\" font-family=\"monospace\" font-size=\"12\" x=\"1440\" y=\"256\" fill=\"white\">MPP<tspan baseline-shift=\"sub\" font-size=\"10\">Z</tspan></text>\n<rect x=\"1424\" y=\"304\" width=\"32\" height=\"32\" stroke=\"black\" fill=\"black\"/>\n<text dominant-baseline=\"central\" text-anchor=\"middle\" font-family=\"monospace\" font-size=\"12\" x=\"1440\" y=\"320\" fill=\"white\">MPP<tspan baseline-shift=\"sub\" font-size=\"10\">Z</tspan></text>\n<rect x=\"1488\" y=\"48\" width=\"160\" height=\"32\" stroke=\"black\" fill=\"lightgray\"/>\n<text dominant-baseline=\"central\" text-anchor=\"middle\" font-family=\"monospace\" font-size=\"16\" x=\"1568\" y=\"64\">OBS_INCLUDE(0)</text>\n<text text-anchor=\"middle\" font-family=\"monospace\" font-size=\"8\" x=\"1568\" y=\"44\">L0 *= rec[8]</text>\n<path d=\"M388,40 L388,32 L1660,32 L1660,40 \" stroke=\"black\" fill=\"none\"/>\n<path d=\"M388,376 L388,384 L1660,384 L1660,376 \" stroke=\"black\" fill=\"none\"/>\n</svg>",
      "image/svg+xml": "<svg viewBox=\"0 0 1696 416\"  version=\"1.1\" xmlns=\"http://www.w3.org/2000/svg\">\n<g id=\"qubit_lines\">\n<path id=\"qubit_line:0\" d=\"M64,64 L1664,64 \" stroke=\"black\"/>\n<text dominant-baseline=\"central\" text-anchor=\"end\" font-family=\"monospace\" font-size=\"12\" x=\"64\" y=\"64\">q0</text>\n<path id=\"qubit_line:1\" d=\"M64,128 L1664,128 \" stroke=\"black\"/>\n<text dominant-baseline=\"central\" text-anchor=\"end\" font-family=\"monospace\" font-size=\"12\" x=\"64\" y=\"128\">q1</text>\n<path id=\"qubit_line:2\" d=\"M64,192 L1664,192 \" stroke=\"black\"/>\n<text dominant-baseline=\"central\" text-anchor=\"end\" font-family=\"monospace\" font-size=\"12\" x=\"64\" y=\"192\">q2</text>\n<path id=\"qubit_line:3\" d=\"M64,256 L1664,256 \" stroke=\"black\"/>\n<text dominant-baseline=\"central\" text-anchor=\"end\" font-family=\"monospace\" font-size=\"12\" x=\"64\" y=\"256\">q3</text>\n<path id=\"qubit_line:4\" d=\"M64,320 L1664,320 \" stroke=\"black\"/>\n<text dominant-baseline=\"central\" text-anchor=\"end\" font-family=\"monospace\" font-size=\"12\" x=\"64\" y=\"320\">q4</text>\n</g>\n<path d=\"M96,64 L96,256 \" stroke=\"black\"/>\n<rect x=\"80\" y=\"48\" width=\"32\" height=\"32\" stroke=\"black\" fill=\"black\"/>\n<text dominant-baseline=\"central\" text-anchor=\"middle\" font-family=\"monospace\" font-size=\"12\" x=\"96\" y=\"64\" fill=\"white\">MPP<tspan baseline-shift=\"sub\" font-size=\"10\">X</tspan></text>\n<text text-anchor=\"middle\" font-family=\"monospace\" font-size=\"8\" x=\"96\" y=\"44\">rec[0]</text>\n<rect x=\"80\" y=\"112\" width=\"32\" height=\"32\" stroke=\"black\" fill=\"black\"/>\n<text dominant-baseline=\"central\" text-anchor=\"middle\" font-family=\"monospace\" font-size=\"12\" x=\"96\" y=\"128\" fill=\"white\">MPP<tspan baseline-shift=\"sub\" font-size=\"10\">Z</tspan></text>\n<rect x=\"80\" y=\"176\" width=\"32\" height=\"32\" stroke=\"black\" fill=\"black\"/>\n<text dominant-baseline=\"central\" text-anchor=\"middle\" font-family=\"monospace\" font-size=\"12\" x=\"96\" y=\"192\" fill=\"white\">MPP<tspan baseline-shift=\"sub\" font-size=\"10\">Z</tspan></text>\n<rect x=\"80\" y=\"240\" width=\"32\" height=\"32\" stroke=\"black\" fill=\"black\"/>\n<text dominant-baseline=\"central\" text-anchor=\"middle\" font-family=\"monospace\" font-size=\"12\" x=\"96\" y=\"256\" fill=\"white\">MPP<tspan baseline-shift=\"sub\" font-size=\"10\">X</tspan></text>\n<path d=\"M160,128 L160,320 \" stroke=\"black\"/>\n<rect x=\"144\" y=\"112\" width=\"32\" height=\"32\" stroke=\"black\" fill=\"black\"/>\n<text dominant-baseline=\"central\" text-anchor=\"middle\" font-family=\"monospace\" font-size=\"12\" x=\"160\" y=\"128\" fill=\"white\">MPP<tspan baseline-shift=\"sub\" font-size=\"10\">X</tspan></text>\n<text text-anchor=\"middle\" font-family=\"monospace\" font-size=\"8\" x=\"160\" y=\"108\">rec[1]</text>\n<rect x=\"144\" y=\"176\" width=\"32\" height=\"32\" stroke=\"black\" fill=\"black\"/>\n<text dominant-baseline=\"central\" text-anchor=\"middle\" font-family=\"monospace\" font-size=\"12\" x=\"160\" y=\"192\" fill=\"white\">MPP<tspan baseline-shift=\"sub\" font-size=\"10\">Z</tspan></text>\n<rect x=\"144\" y=\"240\" width=\"32\" height=\"32\" stroke=\"black\" fill=\"black\"/>\n<text dominant-baseline=\"central\" text-anchor=\"middle\" font-family=\"monospace\" font-size=\"12\" x=\"160\" y=\"256\" fill=\"white\">MPP<tspan baseline-shift=\"sub\" font-size=\"10\">Z</tspan></text>\n<rect x=\"144\" y=\"304\" width=\"32\" height=\"32\" stroke=\"black\" fill=\"black\"/>\n<text dominant-baseline=\"central\" text-anchor=\"middle\" font-family=\"monospace\" font-size=\"12\" x=\"160\" y=\"320\" fill=\"white\">MPP<tspan baseline-shift=\"sub\" font-size=\"10\">X</tspan></text>\n<path d=\"M224,64 L224,320 \" stroke=\"black\"/>\n<rect x=\"208\" y=\"48\" width=\"32\" height=\"32\" stroke=\"black\" fill=\"black\"/>\n<text dominant-baseline=\"central\" text-anchor=\"middle\" font-family=\"monospace\" font-size=\"12\" x=\"224\" y=\"64\" fill=\"white\">MPP<tspan baseline-shift=\"sub\" font-size=\"10\">X</tspan></text>\n<text text-anchor=\"middle\" font-family=\"monospace\" font-size=\"8\" x=\"224\" y=\"44\">rec[2]</text>\n<rect x=\"208\" y=\"176\" width=\"32\" height=\"32\" stroke=\"black\" fill=\"black\"/>\n<text dominant-baseline=\"central\" text-anchor=\"middle\" font-family=\"monospace\" font-size=\"12\" x=\"224\" y=\"192\" fill=\"white\">MPP<tspan baseline-shift=\"sub\" font-size=\"10\">X</tspan></text>\n<rect x=\"208\" y=\"240\" width=\"32\" height=\"32\" stroke=\"black\" fill=\"black\"/>\n<text dominant-baseline=\"central\" text-anchor=\"middle\" font-family=\"monospace\" font-size=\"12\" x=\"224\" y=\"256\" fill=\"white\">MPP<tspan baseline-shift=\"sub\" font-size=\"10\">Z</tspan></text>\n<rect x=\"208\" y=\"304\" width=\"32\" height=\"32\" stroke=\"black\" fill=\"black\"/>\n<text dominant-baseline=\"central\" text-anchor=\"middle\" font-family=\"monospace\" font-size=\"12\" x=\"224\" y=\"320\" fill=\"white\">MPP<tspan baseline-shift=\"sub\" font-size=\"10\">Z</tspan></text>\n<path d=\"M288,64 L288,320 \" stroke=\"black\"/>\n<rect x=\"272\" y=\"48\" width=\"32\" height=\"32\" stroke=\"black\" fill=\"black\"/>\n<text dominant-baseline=\"central\" text-anchor=\"middle\" font-family=\"monospace\" font-size=\"12\" x=\"288\" y=\"64\" fill=\"white\">MPP<tspan baseline-shift=\"sub\" font-size=\"10\">Z</tspan></text>\n<text text-anchor=\"middle\" font-family=\"monospace\" font-size=\"8\" x=\"288\" y=\"44\">rec[3]</text>\n<rect x=\"272\" y=\"112\" width=\"32\" height=\"32\" stroke=\"black\" fill=\"black\"/>\n<text dominant-baseline=\"central\" text-anchor=\"middle\" font-family=\"monospace\" font-size=\"12\" x=\"288\" y=\"128\" fill=\"white\">MPP<tspan baseline-shift=\"sub\" font-size=\"10\">X</tspan></text>\n<rect x=\"272\" y=\"240\" width=\"32\" height=\"32\" stroke=\"black\" fill=\"black\"/>\n<text dominant-baseline=\"central\" text-anchor=\"middle\" font-family=\"monospace\" font-size=\"12\" x=\"288\" y=\"256\" fill=\"white\">MPP<tspan baseline-shift=\"sub\" font-size=\"10\">X</tspan></text>\n<rect x=\"272\" y=\"304\" width=\"32\" height=\"32\" stroke=\"black\" fill=\"black\"/>\n<text dominant-baseline=\"central\" text-anchor=\"middle\" font-family=\"monospace\" font-size=\"12\" x=\"288\" y=\"320\" fill=\"white\">MPP<tspan baseline-shift=\"sub\" font-size=\"10\">Z</tspan></text>\n<path d=\"M68,40 L68,32 L316,32 L316,40 \" stroke=\"black\" fill=\"none\"/>\n<path d=\"M68,376 L68,384 L316,384 L316,376 \" stroke=\"black\" fill=\"none\"/>\n<rect x=\"336\" y=\"48\" width=\"32\" height=\"32\" stroke=\"black\" fill=\"pink\"/>\n<text dominant-baseline=\"central\" text-anchor=\"middle\" font-family=\"monospace\" font-size=\"12\" x=\"352\" y=\"64\">ERR<tspan baseline-shift=\"sub\" font-size=\"10\">X</tspan></text>\n<text dominant-baseline=\"hanging\" text-anchor=\"middle\" font-family=\"monospace\" font-size=\"10\" stroke=\"red\" x=\"352\" y=\"84\">0.3</text>\n<rect x=\"336\" y=\"112\" width=\"32\" height=\"32\" stroke=\"black\" fill=\"pink\"/>\n<text dominant-baseline=\"central\" text-anchor=\"middle\" font-family=\"monospace\" font-size=\"12\" x=\"352\" y=\"128\">ERR<tspan baseline-shift=\"sub\" font-size=\"10\">X</tspan></text>\n<text dominant-baseline=\"hanging\" text-anchor=\"middle\" font-family=\"monospace\" font-size=\"10\" stroke=\"red\" x=\"352\" y=\"148\">0.3</text>\n<rect x=\"336\" y=\"176\" width=\"32\" height=\"32\" stroke=\"black\" fill=\"pink\"/>\n<text dominant-baseline=\"central\" text-anchor=\"middle\" font-family=\"monospace\" font-size=\"12\" x=\"352\" y=\"192\">ERR<tspan baseline-shift=\"sub\" font-size=\"10\">X</tspan></text>\n<text dominant-baseline=\"hanging\" text-anchor=\"middle\" font-family=\"monospace\" font-size=\"10\" stroke=\"red\" x=\"352\" y=\"212\">0.3</text>\n<rect x=\"336\" y=\"240\" width=\"32\" height=\"32\" stroke=\"black\" fill=\"pink\"/>\n<text dominant-baseline=\"central\" text-anchor=\"middle\" font-family=\"monospace\" font-size=\"12\" x=\"352\" y=\"256\">ERR<tspan baseline-shift=\"sub\" font-size=\"10\">X</tspan></text>\n<text dominant-baseline=\"hanging\" text-anchor=\"middle\" font-family=\"monospace\" font-size=\"10\" stroke=\"red\" x=\"352\" y=\"276\">0.3</text>\n<rect x=\"336\" y=\"304\" width=\"32\" height=\"32\" stroke=\"black\" fill=\"pink\"/>\n<text dominant-baseline=\"central\" text-anchor=\"middle\" font-family=\"monospace\" font-size=\"12\" x=\"352\" y=\"320\">ERR<tspan baseline-shift=\"sub\" font-size=\"10\">X</tspan></text>\n<text dominant-baseline=\"hanging\" text-anchor=\"middle\" font-family=\"monospace\" font-size=\"10\" stroke=\"red\" x=\"352\" y=\"340\">0.3</text>\n<path d=\"M416,64 L416,256 \" stroke=\"black\"/>\n<rect x=\"400\" y=\"48\" width=\"32\" height=\"32\" stroke=\"black\" fill=\"black\"/>\n<text dominant-baseline=\"central\" text-anchor=\"middle\" font-family=\"monospace\" font-size=\"12\" x=\"416\" y=\"64\" fill=\"white\">MPP<tspan baseline-shift=\"sub\" font-size=\"10\">X</tspan></text>\n<text text-anchor=\"middle\" font-family=\"monospace\" font-size=\"8\" x=\"416\" y=\"44\">rec[4]</text>\n<rect x=\"400\" y=\"112\" width=\"32\" height=\"32\" stroke=\"black\" fill=\"black\"/>\n<text dominant-baseline=\"central\" text-anchor=\"middle\" font-family=\"monospace\" font-size=\"12\" x=\"416\" y=\"128\" fill=\"white\">MPP<tspan baseline-shift=\"sub\" font-size=\"10\">Z</tspan></text>\n<rect x=\"400\" y=\"176\" width=\"32\" height=\"32\" stroke=\"black\" fill=\"black\"/>\n<text dominant-baseline=\"central\" text-anchor=\"middle\" font-family=\"monospace\" font-size=\"12\" x=\"416\" y=\"192\" fill=\"white\">MPP<tspan baseline-shift=\"sub\" font-size=\"10\">Z</tspan></text>\n<rect x=\"400\" y=\"240\" width=\"32\" height=\"32\" stroke=\"black\" fill=\"black\"/>\n<text dominant-baseline=\"central\" text-anchor=\"middle\" font-family=\"monospace\" font-size=\"12\" x=\"416\" y=\"256\" fill=\"white\">MPP<tspan baseline-shift=\"sub\" font-size=\"10\">X</tspan></text>\n<path d=\"M480,128 L480,320 \" stroke=\"black\"/>\n<rect x=\"464\" y=\"112\" width=\"32\" height=\"32\" stroke=\"black\" fill=\"black\"/>\n<text dominant-baseline=\"central\" text-anchor=\"middle\" font-family=\"monospace\" font-size=\"12\" x=\"480\" y=\"128\" fill=\"white\">MPP<tspan baseline-shift=\"sub\" font-size=\"10\">X</tspan></text>\n<text text-anchor=\"middle\" font-family=\"monospace\" font-size=\"8\" x=\"480\" y=\"108\">rec[5]</text>\n<rect x=\"464\" y=\"176\" width=\"32\" height=\"32\" stroke=\"black\" fill=\"black\"/>\n<text dominant-baseline=\"central\" text-anchor=\"middle\" font-family=\"monospace\" font-size=\"12\" x=\"480\" y=\"192\" fill=\"white\">MPP<tspan baseline-shift=\"sub\" font-size=\"10\">Z</tspan></text>\n<rect x=\"464\" y=\"240\" width=\"32\" height=\"32\" stroke=\"black\" fill=\"black\"/>\n<text dominant-baseline=\"central\" text-anchor=\"middle\" font-family=\"monospace\" font-size=\"12\" x=\"480\" y=\"256\" fill=\"white\">MPP<tspan baseline-shift=\"sub\" font-size=\"10\">Z</tspan></text>\n<rect x=\"464\" y=\"304\" width=\"32\" height=\"32\" stroke=\"black\" fill=\"black\"/>\n<text dominant-baseline=\"central\" text-anchor=\"middle\" font-family=\"monospace\" font-size=\"12\" x=\"480\" y=\"320\" fill=\"white\">MPP<tspan baseline-shift=\"sub\" font-size=\"10\">X</tspan></text>\n<path d=\"M544,64 L544,320 \" stroke=\"black\"/>\n<rect x=\"528\" y=\"48\" width=\"32\" height=\"32\" stroke=\"black\" fill=\"black\"/>\n<text dominant-baseline=\"central\" text-anchor=\"middle\" font-family=\"monospace\" font-size=\"12\" x=\"544\" y=\"64\" fill=\"white\">MPP<tspan baseline-shift=\"sub\" font-size=\"10\">X</tspan></text>\n<text text-anchor=\"middle\" font-family=\"monospace\" font-size=\"8\" x=\"544\" y=\"44\">rec[6]</text>\n<rect x=\"528\" y=\"176\" width=\"32\" height=\"32\" stroke=\"black\" fill=\"black\"/>\n<text dominant-baseline=\"central\" text-anchor=\"middle\" font-family=\"monospace\" font-size=\"12\" x=\"544\" y=\"192\" fill=\"white\">MPP<tspan baseline-shift=\"sub\" font-size=\"10\">X</tspan></text>\n<rect x=\"528\" y=\"240\" width=\"32\" height=\"32\" stroke=\"black\" fill=\"black\"/>\n<text dominant-baseline=\"central\" text-anchor=\"middle\" font-family=\"monospace\" font-size=\"12\" x=\"544\" y=\"256\" fill=\"white\">MPP<tspan baseline-shift=\"sub\" font-size=\"10\">Z</tspan></text>\n<rect x=\"528\" y=\"304\" width=\"32\" height=\"32\" stroke=\"black\" fill=\"black\"/>\n<text dominant-baseline=\"central\" text-anchor=\"middle\" font-family=\"monospace\" font-size=\"12\" x=\"544\" y=\"320\" fill=\"white\">MPP<tspan baseline-shift=\"sub\" font-size=\"10\">Z</tspan></text>\n<path d=\"M608,64 L608,320 \" stroke=\"black\"/>\n<rect x=\"592\" y=\"48\" width=\"32\" height=\"32\" stroke=\"black\" fill=\"black\"/>\n<text dominant-baseline=\"central\" text-anchor=\"middle\" font-family=\"monospace\" font-size=\"12\" x=\"608\" y=\"64\" fill=\"white\">MPP<tspan baseline-shift=\"sub\" font-size=\"10\">Z</tspan></text>\n<text text-anchor=\"middle\" font-family=\"monospace\" font-size=\"8\" x=\"608\" y=\"44\">rec[7]</text>\n<rect x=\"592\" y=\"112\" width=\"32\" height=\"32\" stroke=\"black\" fill=\"black\"/>\n<text dominant-baseline=\"central\" text-anchor=\"middle\" font-family=\"monospace\" font-size=\"12\" x=\"608\" y=\"128\" fill=\"white\">MPP<tspan baseline-shift=\"sub\" font-size=\"10\">X</tspan></text>\n<rect x=\"592\" y=\"240\" width=\"32\" height=\"32\" stroke=\"black\" fill=\"black\"/>\n<text dominant-baseline=\"central\" text-anchor=\"middle\" font-family=\"monospace\" font-size=\"12\" x=\"608\" y=\"256\" fill=\"white\">MPP<tspan baseline-shift=\"sub\" font-size=\"10\">X</tspan></text>\n<rect x=\"592\" y=\"304\" width=\"32\" height=\"32\" stroke=\"black\" fill=\"black\"/>\n<text dominant-baseline=\"central\" text-anchor=\"middle\" font-family=\"monospace\" font-size=\"12\" x=\"608\" y=\"320\" fill=\"white\">MPP<tspan baseline-shift=\"sub\" font-size=\"10\">Z</tspan></text>\n<rect x=\"656\" y=\"48\" width=\"224\" height=\"32\" stroke=\"black\" fill=\"lightgray\"/>\n<text dominant-baseline=\"central\" text-anchor=\"middle\" font-family=\"monospace\" font-size=\"16\" x=\"768\" y=\"64\">DETECTOR</text>\n<text text-anchor=\"middle\" font-family=\"monospace\" font-size=\"8\" x=\"768\" y=\"44\">D0 = rec[4]*rec[0]</text>\n<rect x=\"656\" y=\"112\" width=\"224\" height=\"32\" stroke=\"black\" fill=\"lightgray\"/>\n<text dominant-baseline=\"central\" text-anchor=\"middle\" font-family=\"monospace\" font-size=\"16\" x=\"768\" y=\"128\">DETECTOR</text>\n<text text-anchor=\"middle\" font-family=\"monospace\" font-size=\"8\" x=\"768\" y=\"108\">D1 = rec[5]*rec[1]</text>\n<rect x=\"912\" y=\"48\" width=\"224\" height=\"32\" stroke=\"black\" fill=\"lightgray\"/>\n<text dominant-baseline=\"central\" text-anchor=\"middle\" font-family=\"monospace\" font-size=\"16\" x=\"1024\" y=\"64\">DETECTOR</text>\n<text text-anchor=\"middle\" font-family=\"monospace\" font-size=\"8\" x=\"1024\" y=\"44\">D2 = rec[6]*rec[2]</text>\n<rect x=\"1168\" y=\"48\" width=\"224\" height=\"32\" stroke=\"black\" fill=\"lightgray\"/>\n<text dominant-baseline=\"central\" text-anchor=\"middle\" font-family=\"monospace\" font-size=\"16\" x=\"1280\" y=\"64\">DETECTOR</text>\n<text text-anchor=\"middle\" font-family=\"monospace\" font-size=\"8\" x=\"1280\" y=\"44\">D3 = rec[7]*rec[3]</text>\n<path d=\"M1440,64 L1440,320 \" stroke=\"black\"/>\n<rect x=\"1424\" y=\"48\" width=\"32\" height=\"32\" stroke=\"black\" fill=\"black\"/>\n<text dominant-baseline=\"central\" text-anchor=\"middle\" font-family=\"monospace\" font-size=\"12\" x=\"1440\" y=\"64\" fill=\"white\">MPP<tspan baseline-shift=\"sub\" font-size=\"10\">Z</tspan></text>\n<text text-anchor=\"middle\" font-family=\"monospace\" font-size=\"8\" x=\"1440\" y=\"44\">rec[8]</text>\n<rect x=\"1424\" y=\"112\" width=\"32\" height=\"32\" stroke=\"black\" fill=\"black\"/>\n<text dominant-baseline=\"central\" text-anchor=\"middle\" font-family=\"monospace\" font-size=\"12\" x=\"1440\" y=\"128\" fill=\"white\">MPP<tspan baseline-shift=\"sub\" font-size=\"10\">Z</tspan></text>\n<rect x=\"1424\" y=\"176\" width=\"32\" height=\"32\" stroke=\"black\" fill=\"black\"/>\n<text dominant-baseline=\"central\" text-anchor=\"middle\" font-family=\"monospace\" font-size=\"12\" x=\"1440\" y=\"192\" fill=\"white\">MPP<tspan baseline-shift=\"sub\" font-size=\"10\">Z</tspan></text>\n<rect x=\"1424\" y=\"240\" width=\"32\" height=\"32\" stroke=\"black\" fill=\"black\"/>\n<text dominant-baseline=\"central\" text-anchor=\"middle\" font-family=\"monospace\" font-size=\"12\" x=\"1440\" y=\"256\" fill=\"white\">MPP<tspan baseline-shift=\"sub\" font-size=\"10\">Z</tspan></text>\n<rect x=\"1424\" y=\"304\" width=\"32\" height=\"32\" stroke=\"black\" fill=\"black\"/>\n<text dominant-baseline=\"central\" text-anchor=\"middle\" font-family=\"monospace\" font-size=\"12\" x=\"1440\" y=\"320\" fill=\"white\">MPP<tspan baseline-shift=\"sub\" font-size=\"10\">Z</tspan></text>\n<rect x=\"1488\" y=\"48\" width=\"160\" height=\"32\" stroke=\"black\" fill=\"lightgray\"/>\n<text dominant-baseline=\"central\" text-anchor=\"middle\" font-family=\"monospace\" font-size=\"16\" x=\"1568\" y=\"64\">OBS_INCLUDE(0)</text>\n<text text-anchor=\"middle\" font-family=\"monospace\" font-size=\"8\" x=\"1568\" y=\"44\">L0 *= rec[8]</text>\n<path d=\"M388,40 L388,32 L1660,32 L1660,40 \" stroke=\"black\" fill=\"none\"/>\n<path d=\"M388,376 L388,384 L1660,384 L1660,376 \" stroke=\"black\" fill=\"none\"/>\n</svg>"
     },
     "execution_count": 92,
     "metadata": {},
     "output_type": "execute_result"
    }
   ],
   "source": [
    "circuit.diagram('timeline-svg')"
   ],
   "metadata": {
    "collapsed": false,
    "ExecuteTime": {
     "start_time": "2024-11-18T23:34:30.105052Z",
     "end_time": "2024-11-18T23:34:30.109453Z"
    }
   }
  },
  {
   "cell_type": "code",
   "execution_count": 29,
   "outputs": [
    {
     "data": {
      "text/plain": "'https://algassert.com/crumble#circuit=MPP_X0*Z1*Z2*X3_X1*Z2*Z3*X4_X0*X2*Z3*Z4_Z0*X1*X3*Z4_X0*Z1*Z2*X3_X1*Z2*Z3*X4_X0*X2*Z3*Z4_Z0*X1*X3*Z4_X0*Z1*Z2*X3_X1*Z2*Z3*X4_X0*X2*Z3*Z4_Z0*X1*X3*Z4_X0*Z1*Z2*X3_X1*Z2*Z3*X4_X0*X2*Z3*Z4_Z0*X1*X3*Z4;DT_rec[-4]_rec[-8];DT_rec[-3]_rec[-7];DT_rec[-2]_rec[-6];DT_rec[-1]_rec[-5];MPP_Z0*X2*X3;OI(0)rec[-1]'"
     },
     "execution_count": 29,
     "metadata": {},
     "output_type": "execute_result"
    }
   ],
   "source": [
    "circuit.to_crumble_url()"
   ],
   "metadata": {
    "collapsed": false,
    "ExecuteTime": {
     "start_time": "2024-11-18T23:23:03.168027Z",
     "end_time": "2024-11-18T23:23:03.182542Z"
    }
   }
  },
  {
   "cell_type": "code",
   "execution_count": null,
   "outputs": [],
   "source": [],
   "metadata": {
    "collapsed": false
   }
  }
 ],
 "metadata": {
  "kernelspec": {
   "display_name": "Python 3",
   "language": "python",
   "name": "python3"
  },
  "language_info": {
   "codemirror_mode": {
    "name": "ipython",
    "version": 2
   },
   "file_extension": ".py",
   "mimetype": "text/x-python",
   "name": "python",
   "nbconvert_exporter": "python",
   "pygments_lexer": "ipython2",
   "version": "2.7.6"
  }
 },
 "nbformat": 4,
 "nbformat_minor": 0
}
