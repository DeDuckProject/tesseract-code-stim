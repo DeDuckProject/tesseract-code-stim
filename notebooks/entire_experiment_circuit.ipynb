{
 "cells": [
  {
   "cell_type": "markdown",
   "id": "651f0914d0994690",
   "metadata": {},
   "source": [
    "# Experiment running error correction\n",
    "It uses the encoding specified in the original paper in Fig. 9a, then runs error correction steps."
   ]
  },
  {
   "cell_type": "code",
   "execution_count": 1,
   "id": "55439266f3050263",
   "metadata": {
    "ExecuteTime": {
     "end_time": "2025-09-09T20:37:42.859573Z",
     "start_time": "2025-09-09T20:37:42.696278Z"
    }
   },
   "outputs": [
    {
     "name": "stdout",
     "output_type": "stream",
     "text": [
      "QUBIT_COORDS(0, 0) 0\n",
      "QUBIT_COORDS(1, 0) 1\n",
      "QUBIT_COORDS(2, 0) 2\n",
      "QUBIT_COORDS(3, 0) 3\n",
      "QUBIT_COORDS(0, 1) 4\n",
      "QUBIT_COORDS(1, 1) 5\n",
      "QUBIT_COORDS(2, 1) 6\n",
      "QUBIT_COORDS(3, 1) 7\n",
      "QUBIT_COORDS(0, 2) 8\n",
      "QUBIT_COORDS(1, 2) 9\n",
      "QUBIT_COORDS(2, 2) 10\n",
      "QUBIT_COORDS(3, 2) 11\n",
      "QUBIT_COORDS(0, 3) 12\n",
      "QUBIT_COORDS(1, 3) 13\n",
      "QUBIT_COORDS(2, 3) 14\n",
      "QUBIT_COORDS(3, 3) 15\n",
      "QUBIT_COORDS(5, 0) 16\n",
      "QUBIT_COORDS(5, 1) 17\n",
      "TICK\n",
      "H 0 1 2 3 4 8 12\n",
      "CX 4 20 4 5 4 6 4 7 4 20 8 21 8 9 8 10 8 11 8 21 12 22 12 13 12 14 12 15 12 22 0 16 1 17 2 18 3 19 0 4 1 5 2 6 3 7 0 8 1 9 2 10 3 11 0 12 1 13 2 14 3 15 0 16 1 17 2 18 3 19\n",
      "R 18 19\n",
      "H 19\n",
      "CX 19 18 19 0 19 1 19 2 19 3 19 18\n",
      "TICK\n",
      "R 16 17\n",
      "H 16\n",
      "CX 0 17 16 1 1 17 16 0 2 17 16 3 3 17 16 2\n",
      "H 16\n",
      "M 16 17\n",
      "R 16 17\n",
      "H 16\n",
      "CX 4 17 16 5 5 17 16 4 6 17 16 7 7 17 16 6\n",
      "H 16\n",
      "M 16 17\n",
      "R 16 17\n",
      "H 16\n",
      "CX 8 17 16 9 9 17 16 8 10 17 16 11 11 17 16 10\n",
      "H 16\n",
      "M 16 17\n",
      "R 16 17\n",
      "H 16\n",
      "CX 12 17 16 13 13 17 16 12 14 17 16 15 15 17 16 14\n",
      "H 16\n",
      "M 16 17\n",
      "R 16 17\n",
      "H 16\n",
      "CX 0 17 16 4 4 17 16 0 8 17 16 12 12 17 16 8\n",
      "H 16\n",
      "M 16 17\n",
      "R 16 17\n",
      "H 16\n",
      "CX 1 17 16 5 5 17 16 1 9 17 16 13 13 17 16 9\n",
      "H 16\n",
      "M 16 17\n",
      "R 16 17\n",
      "H 16\n",
      "CX 2 17 16 6 6 17 16 2 10 17 16 14 14 17 16 10\n",
      "H 16\n",
      "M 16 17\n",
      "R 16 17\n",
      "H 16\n",
      "CX 3 17 16 7 7 17 16 3 11 17 16 15 15 17 16 11\n",
      "H 16\n",
      "M 16 17\n",
      "TICK\n",
      "CX 0 12 1 13 2 14 3 15 4 8 5 9 6 10 7 11\n",
      "H 0 1 2 3 4 5 6 7\n",
      "M 0 1 2 3 4 5 6 7 8 9 10 11 12 13 14 15\n",
      "TICK\n"
     ]
    }
   ],
   "source": [
    "from tesseract_sim.run import build_circuit_ec_experiment\n",
    "from tesseract_sim.noise.noise_cfg import NO_NOISE\n",
    "\n",
    "# Initialize circuit with experiment 2 parameters\n",
    "circuit = build_circuit_ec_experiment(rounds=1, cfg=NO_NOISE, encoding_mode='9a')\n",
    "\n",
    "# Print the circuit to visualize it\n",
    "print(circuit)"
   ]
  },
  {
   "cell_type": "code",
   "execution_count": null,
   "id": "2a2aba13f5b2dc7f",
   "metadata": {},
   "outputs": [],
   "source": []
  }
 ],
 "metadata": {
  "kernelspec": {
   "display_name": "Python 3",
   "language": "python",
   "name": "python3"
  },
  "language_info": {
   "codemirror_mode": {
    "name": "ipython",
    "version": 2
   },
   "file_extension": ".py",
   "mimetype": "text/x-python",
   "name": "python",
   "nbconvert_exporter": "python",
   "pygments_lexer": "ipython2",
   "version": "2.7.6"
  }
 },
 "nbformat": 4,
 "nbformat_minor": 5
}
