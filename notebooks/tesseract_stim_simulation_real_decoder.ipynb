{
 "cells": [
  {
   "cell_type": "code",
   "execution_count": 2,
   "id": "5119a2420ac9a7b0",
   "metadata": {
    "ExecuteTime": {
     "end_time": "2025-07-21T05:53:35.315489Z",
     "start_time": "2025-07-21T05:53:35.303900Z"
    }
   },
   "outputs": [
    {
     "name": "stdout",
     "output_type": "stream",
     "text": [
      "The autoreload extension is already loaded. To reload it, use:\n",
      "  %reload_ext autoreload\n",
      "1.14.0\n"
     ]
    }
   ],
   "source": [
    "from tesseract_sim.run import run_simulation_experiment2\n",
    "%load_ext autoreload\n",
    "%autoreload 2\n",
    "\n",
    "import stim\n",
    "import numpy as np\n",
    "from tesseract_sim import run_simulation_experiment1\n",
    "print(stim.__version__)"
   ]
  },
  {
   "cell_type": "markdown",
   "id": "524f2a5b0af5aa15",
   "metadata": {},
   "source": [
    "# Implementing real encoder/decoder\n",
    "## Encoding procedure for $|++0000>$\n",
    "as in the original paper http://arxiv.org/abs/2409.04628 (Demonstration of quantum computation and error correction with a tesseract code)"
   ]
  },
  {
   "cell_type": "markdown",
   "id": "ba7497ac8fdf7a3d",
   "metadata": {},
   "source": [
    "## Error correction rules\n",
    "Processing rows and columns of tesseract. Here we rely mainly on Fig.7 from the paper and expand it to all the other settings (row/column X/Z)"
   ]
  },
  {
   "cell_type": "markdown",
   "id": "83ab2f0d59aaca69",
   "metadata": {},
   "source": [
    "## Error correction - manual implementation\n",
    "Using the error correction rules, we implement a decoder. In every round, we measure rows and columns, correcting errors accordingly. Note that this code uses flag qubits, and so errors are corrected on subsequent row/column measurement and the Pauli frame is updated. See Fig. 8 in the paper for reference"
   ]
  },
  {
   "cell_type": "code",
   "id": "5b6e69994a0155e5",
   "metadata": {
    "ExecuteTime": {
     "end_time": "2025-07-21T05:55:28.740920Z",
     "start_time": "2025-07-21T05:55:26.428041Z"
    }
   },
   "source": [
    "# --- Test Simulation ---\n",
    "# Define parameters for our test run\n",
    "ROUNDS = 10\n",
    "SHOTS = 100000\n",
    "\n",
    "# Create noise configuration\n",
    "from tesseract_sim.noise_cfg import NoiseCfg\n",
    "noise_cfg = NoiseCfg(\n",
    "    ec_active=True,  # Enable noise during error correction\n",
    "    ec_rate_1q=0.001,  # 0.1% error rate for 1-qubit gates\n",
    "    ec_rate_2q=0.001,  # 0.1% error rate for 2-qubit gates\n",
    "    op1=\"DEPOLARIZE1\",  # Type of 1-qubit noise\n",
    "    op2=\"DEPOLARIZE2\"   # Type of 2-qubit noise\n",
    ")\n",
    "\n",
    "# Run the simulation using the tesseract_sim package\n",
    "accept_count, reject_count = run_simulation_experiment1(\n",
    "    rounds=ROUNDS,\n",
    "    shots=SHOTS,\n",
    "    cfg=noise_cfg\n",
    ")\n"
   ],
   "outputs": [
    {
     "name": "stdout",
     "output_type": "stream",
     "text": [
      "--- Running Manual Error Correction Simulation (Corrected) ---\n",
      "Rounds: 10, Shots: 100000\n",
      "Accepted: 85573/100000\n",
      "Rejected: 14427/100000\n",
      "Acceptance Rate: 85.57%\n"
     ]
    }
   ],
   "execution_count": 4
  },
  {
   "cell_type": "code",
   "id": "b9c8e1af87ae5176",
   "metadata": {
    "ExecuteTime": {
     "end_time": "2025-07-21T05:55:32.291604Z",
     "start_time": "2025-07-21T05:55:29.759687Z"
    }
   },
   "source": [
    "# --- Test Simulation ---\n",
    "# Define parameters for our test run\n",
    "ROUNDS = 10\n",
    "SHOTS = 100000\n",
    "\n",
    "# Create noise configuration\n",
    "from tesseract_sim.noise_cfg import NoiseCfg\n",
    "noise_cfg = NoiseCfg(\n",
    "    ec_active=True,  # Enable noise during error correction\n",
    "    ec_rate_1q=0.001,  # 0.1% error rate for 1-qubit gates\n",
    "    ec_rate_2q=0.001,  # 0.1% error rate for 2-qubit gates\n",
    "    op1=\"DEPOLARIZE1\",  # Type of 1-qubit noise\n",
    "    op2=\"DEPOLARIZE2\"   # Type of 2-qubit noise\n",
    ")\n",
    "\n",
    "# Run the simulation using the tesseract_sim package\n",
    "ec_accept, logical_pass, logical_fail = run_simulation_experiment2(\n",
    "    rounds=ROUNDS,\n",
    "    shots=SHOTS,\n",
    "    cfg=noise_cfg\n",
    ")\n"
   ],
   "outputs": [
    {
     "name": "stdout",
     "output_type": "stream",
     "text": [
      "--- Running Manual Error Correction Simulation (with Logical Check) ---\n",
      "Rounds: 10, Shots: 100000\n",
      "After EC rounds → 56800/100000 accepted\n",
      "Final logical check → 52842/56800 pass\n",
      "Overall acceptance → 52.84%\n"
     ]
    }
   ],
   "execution_count": 5
  },
  {
   "cell_type": "code",
   "execution_count": null,
   "id": "41b6b0ec127f2caf",
   "metadata": {},
   "outputs": [],
   "source": []
  }
 ],
 "metadata": {
  "kernelspec": {
   "display_name": "Python 3 (ipykernel)",
   "language": "python",
   "name": "python3"
  },
  "language_info": {
   "name": "python"
  }
 },
 "nbformat": 5,
 "nbformat_minor": 9
}
