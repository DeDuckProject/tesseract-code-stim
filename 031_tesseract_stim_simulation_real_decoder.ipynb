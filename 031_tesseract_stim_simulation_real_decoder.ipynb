{
 "cells": [
  {
   "cell_type": "code",
   "id": "5119a2420ac9a7b0",
   "metadata": {
    "ExecuteTime": {
     "end_time": "2025-07-18T12:23:52.006351Z",
     "start_time": "2025-07-18T12:23:51.836929Z"
    }
   },
   "source": [
    "%load_ext autoreload\n",
    "%autoreload 2\n",
    "\n",
    "import stim\n",
    "import numpy as np\n",
    "from tesseract_sim import run_simulation_experiment1\n",
    "print(stim.__version__)"
   ],
   "outputs": [
    {
     "name": "stdout",
     "output_type": "stream",
     "text": [
      "1.14.0\n"
     ]
    }
   ],
   "execution_count": 2
  },
  {
   "cell_type": "markdown",
   "id": "524f2a5b0af5aa15",
   "metadata": {},
   "source": [
    "# Implementing real encoder/decoder\n",
    "## Encoding procedure for $|++0000>$\n",
    "as in the original paper http://arxiv.org/abs/2409.04628 (Demonstration of quantum computation and error correction with a tesseract code)"
   ]
  },
  {
   "cell_type": "markdown",
   "id": "ba7497ac8fdf7a3d",
   "metadata": {},
   "source": [
    "## Error correction rules\n",
    "Processing rows and columns of tesseract. Here we rely mainly on Fig.7 from the paper and expand it to all the other settings (row/column X/Z)"
   ]
  },
  {
   "cell_type": "markdown",
   "id": "83ab2f0d59aaca69",
   "metadata": {},
   "source": [
    "## Error correction - manual implementation\n",
    "Using the error correction rules, we implement a decoder. In every round, we measure rows and columns, correcting errors accordingly. Note that this code uses flag qubits, and so errors are corrected on subsequent row/column measurement and the Pauli frame is updated. See Fig. 8 in the paper for reference"
   ]
  },
  {
   "cell_type": "code",
   "id": "5b6e69994a0155e5",
   "metadata": {
    "ExecuteTime": {
     "end_time": "2025-07-18T12:23:56.834010Z",
     "start_time": "2025-07-18T12:23:54.867725Z"
    }
   },
   "source": [
    "# --- Test Simulation ---\n",
    "# Define parameters for our test run\n",
    "ROUNDS = 10\n",
    "SHOTS = 100000\n",
    "NOISE_LEVEL = 0.1  # Corresponds to a 0.1% physical error rate\n",
    "\n",
    "# Run the simulation using the tesseract_sim package\n",
    "accept_count, reject_count = run_simulation_experiment1(\n",
    "    rounds=ROUNDS,\n",
    "    shots=SHOTS,\n",
    "    noise_level=NOISE_LEVEL,\n",
    "    noise_type=\"X_ERROR\"\n",
    ")\n"
   ],
   "outputs": [
    {
     "name": "stdout",
     "output_type": "stream",
     "text": [
      "--- Running Manual Error Correction Simulation (Corrected) ---\n",
      "Rounds: 10, Shots: 100000, Noise: 0.1\n",
      "Accepted: 67649/100000\n",
      "Rejected: 32351/100000\n",
      "Acceptance Rate: 67.65%\n"
     ]
    }
   ],
   "execution_count": 4
  }
 ],
 "metadata": {
  "language_info": {
   "name": "python"
  },
  "kernelspec": {
   "name": "python3",
   "language": "python",
   "display_name": "Python 3 (ipykernel)"
  }
 },
 "nbformat": 5,
 "nbformat_minor": 9
}
