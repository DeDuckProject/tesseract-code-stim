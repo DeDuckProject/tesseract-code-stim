{
 "cells": [
  {
   "cell_type": "code",
   "execution_count": 1,
   "metadata": {
    "collapsed": true,
    "ExecuteTime": {
     "start_time": "2024-12-04T13:58:28.006903Z",
     "end_time": "2024-12-04T13:58:31.385570Z"
    }
   },
   "outputs": [
    {
     "name": "stdout",
     "output_type": "stream",
     "text": [
      "1.14.0\n"
     ]
    }
   ],
   "source": [
    "%load_ext autoreload\n",
    "%autoreload 2\n",
    "\n",
    "import stim\n",
    "import numpy as np\n",
    "# import matplotlib.pyplot as plt\n",
    "from stim_utils import *\n",
    "from stim_simulation_utils import *\n",
    "from circuit_commons import *\n",
    "print(stim.__version__)"
   ]
  },
  {
   "cell_type": "code",
   "execution_count": 2,
   "outputs": [],
   "source": [
    "import importlib.util\n",
    "import sys\n",
    "\n",
    "\n",
    "def reload_file(name, path):\n",
    "    spec = importlib.util.spec_from_file_location(name, path)\n",
    "    your_file = importlib.util.module_from_spec(spec)\n",
    "    sys.modules[name] = your_file\n",
    "    spec.loader.exec_module(your_file)\n",
    "\n",
    "\n",
    "reload_file(\"stim_simulation_utils\", \"stim_simulation_utils.py\")\n",
    "reload_file(\"stim_utils\", \"stim_utils.py\")\n"
   ],
   "metadata": {
    "collapsed": false,
    "ExecuteTime": {
     "start_time": "2024-12-04T13:58:31.391272Z",
     "end_time": "2024-12-04T13:58:31.440613Z"
    }
   }
  },
  {
   "cell_type": "code",
   "execution_count": 39,
   "outputs": [],
   "source": [
    "# Attempting to implement the actual encoder and decoders from http://arxiv.org/abs/2409.04628 (Demonstration of quantum computation and error correction with a tesseract code)\n",
    "\n",
    "measurement_operators_rows = [\n",
    "    [0,1,2,3],\n",
    "    [4,5,6,7],\n",
    "    [8,9,10,11],\n",
    "    [12,13,14,15]\n",
    "]\n",
    "\n",
    "measurement_operators_columns = [\n",
    "    [0,4,8,12],\n",
    "    [1,5,9,13],\n",
    "    [2,6,10,14],\n",
    "    [3,7,11,15]\n",
    "]\n",
    "\n",
    "def encode_sub_circuit_quad(circuit, ancilla, qubits):\n",
    "    circuit.append(\"CNOT\", [qubits[0], ancilla]) # Flag qubit\n",
    "    circuit.append(\"CNOT\", [qubits[0], qubits[1]])\n",
    "    circuit.append(\"CNOT\", [qubits[0], qubits[2]])\n",
    "    circuit.append(\"CNOT\", [qubits[0], qubits[3]])\n",
    "    circuit.append(\"CNOT\", [qubits[0], ancilla]) # Flag qubit\n",
    "\n",
    "def add_cnot_gates(circuit, start1, start2, num_gates=4):\n",
    "    \"\"\"\n",
    "    Adds CNOT gates to the circuit.\n",
    "\n",
    "    Parameters:\n",
    "    - circuit: The quantum circuit object to modify.\n",
    "    - start1: The starting index for the first qubit in the CNOT pairs.\n",
    "    - start2: The starting index for the second qubit in the CNOT pairs.\n",
    "    - num_gates: The number of CNOT gates to append (default is 4).\n",
    "    \"\"\"\n",
    "    for i in range(num_gates):\n",
    "        circuit.append(\"CNOT\", [start1 + i, start2 + i])\n",
    "\n",
    "def encode_manual(circuit):\n",
    "    # Here we encode the state |++0000> as can be seen in Fig. 9 of that paper\n",
    "    # initialize qubits:\n",
    "    circuit.append(\"H\", [0,1,2,3,4,8,12])\n",
    "\n",
    "    encode_sub_circuit_quad(circuit, 20, [4, 5, 6, 7])\n",
    "    encode_sub_circuit_quad(circuit, 21, [8, 9, 10, 11])\n",
    "    encode_sub_circuit_quad(circuit, 22, [12, 13, 14, 15])\n",
    "\n",
    "    add_cnot_gates(circuit, 0, 16) # working on ancilla qubits as flag qubits\n",
    "    add_cnot_gates(circuit, 0, 4)\n",
    "    add_cnot_gates(circuit, 0, 8)\n",
    "    add_cnot_gates(circuit, 0, 12)\n",
    "    add_cnot_gates(circuit, 0, 16) # working on ancilla qubits as flag qubits\n",
    "\n",
    "    circuit.append(\"R\", [18, 19]) # Reset ancillas 18,19 since their role is done and we need them for the following\n",
    "    circuit.append(\"H\", [19])\n",
    "    circuit.append(\"CNOT\", [19, 18]) # cnot to flag qubit\n",
    "    circuit.append(\"CNOT\", [19, 0]) # measuring stabilizer\n",
    "    circuit.append(\"CNOT\", [19, 1]) # measuring stabilizer\n",
    "    circuit.append(\"CNOT\", [19, 2]) # measuring stabilizer\n",
    "    circuit.append(\"CNOT\", [19, 3]) # measuring stabilizer\n",
    "    circuit.append(\"CNOT\", [19, 18]) # cnot to flag qubit\n",
    "\n",
    "def append_detector_on_last_n_measurements(circuit, num_measurements=4):\n",
    "    circuit.append(\"DETECTOR\", [\n",
    "        stim.target_rec(-i) for i in range(1,num_measurements+1)\n",
    "    ])\n",
    "\n",
    "def error_correction_round_rows(circuit):\n",
    "    # TODO consider changing this to manual implementation as seen in Fig. 4(d)\n",
    "    for row in measurement_operators_rows:\n",
    "        append_stabilizer(circuit, \"X\", row)\n",
    "\n",
    "    append_detector_on_last_n_measurements(circuit)\n",
    "\n",
    "    for row in measurement_operators_rows:\n",
    "        append_stabilizer(circuit, \"Z\", row)\n",
    "\n",
    "    append_detector_on_last_n_measurements(circuit)\n",
    "\n",
    "\n",
    "def error_correction_round_columns(circuit):\n",
    "    # TODO consider changing this to manual implementation as seen in Fig. 4(d)\n",
    "    for column in measurement_operators_columns:\n",
    "        append_stabilizer(circuit, \"X\", column)\n",
    "\n",
    "    append_detector_on_last_n_measurements(circuit)\n",
    "\n",
    "    for column in measurement_operators_columns:\n",
    "        append_stabilizer(circuit, \"Z\", column)\n",
    "\n",
    "    append_detector_on_last_n_measurements(circuit)\n",
    "\n",
    "\n",
    "def error_correct_manual(circuit):\n",
    "    flagX = -1\n",
    "    flagZ = -1\n",
    "    # TODO need to implement. these functions are the basis:\n",
    "    error_correction_round_rows(circuit)\n",
    "    error_correction_round_columns(circuit)\n",
    "\n",
    "\n",
    "\n",
    "# Reference code for correcting Z error in column:\n",
    "def correct_column_Z(flagX: int, measX, frameZ):\n",
    "    if flagX == -1:  # no row flagged already\n",
    "        if sum(measX) == 2:\n",
    "            return \"reject\"\n",
    "        if sum(measX) in (1, 3):\n",
    "            if sum(measX) == 1:\n",
    "                # Disagreeing measurement is 1 -> flag the index of 1\n",
    "                flagX = measX.index(1)\n",
    "            else:\n",
    "                # Disagreeing measurement is 0 -> flag the index of 0\n",
    "                flagX = measX.index(0)\n",
    "    else:  # row flagX in (0, 1, 2, 3) flagged\n",
    "        if sum(measX) in (1, 3):\n",
    "            if sum(measX) == 1:\n",
    "                col = measX.index(1)\n",
    "            else:\n",
    "                col = measX.index(0)\n",
    "            frameZ[4 * flagX + col] += 1  # Z correction\n",
    "        if sum(measX) == 2:\n",
    "            if measX in ([0, 0, 1, 1], [1, 1, 0, 0]):\n",
    "                frameZ[[4 * flagX, 4 * flagX + 1]] += 1  # ZZII on flagged row\n",
    "            else:\n",
    "                return \"reject\"\n",
    "        flagX = -1\n",
    "    return flagX, measX, frameZ\n",
    "\n",
    "# Deduced from above example:\n",
    "# TODO test following correction - I went over them manually and they look ok. and make sense as far as I understand\n",
    "def correct_column_X(flagZ, measZ, frameX):\n",
    "    if flagZ == -1:  # No row flagged already\n",
    "        if sum(measZ) == 2:\n",
    "            return \"reject\"\n",
    "        if sum(measZ) in (1, 3):\n",
    "            if sum(measZ) == 1:\n",
    "                flagZ = measZ.index(1)\n",
    "            else:\n",
    "                flagZ = measZ.index(0)\n",
    "    else:  # Row flagZ in (0, 1, 2, 3) flagged\n",
    "        if sum(measZ) in (1, 3):\n",
    "            if sum(measZ) == 1:\n",
    "                col = measZ.index(1)\n",
    "            else:\n",
    "                col = measZ.index(0)\n",
    "            frameX[4 * flagZ + col] += 1  # Apply X correction\n",
    "        elif sum(measZ) == 2:\n",
    "            if measZ in ([0, 0, 1, 1], [1, 1, 0, 0]):\n",
    "                frameX[[4 * flagZ, 4 * flagZ + 1]] += 1  # XXII on flagged row\n",
    "            else:\n",
    "                return \"reject\"\n",
    "        flagZ = -1\n",
    "    return flagZ, measZ, frameX\n",
    "\n",
    "def correct_row_Z(flagX, measX, frameZ):\n",
    "    if flagX == -1:  # No column flagged already\n",
    "        if sum(measX) == 2:\n",
    "            return \"reject\"\n",
    "        if sum(measX) in (1, 3):\n",
    "            if sum(measX) == 1:\n",
    "                flagX = measX.index(1)\n",
    "            else:\n",
    "                flagX = measX.index(0)\n",
    "    else:  # Column flagX in (0, 1, 2, 3) flagged\n",
    "        if sum(measX) in (1, 3):\n",
    "            if sum(measX) == 1:\n",
    "                row = measX.index(1)\n",
    "            else:\n",
    "                row = measX.index(0)\n",
    "            frameZ[4 * row + flagX] += 1  # Apply Z correction\n",
    "        elif sum(measX) == 2:\n",
    "            if measX in ([0, 0, 1, 1], [1, 1, 0, 0]):\n",
    "                frameZ[[4 * 0 + flagX, 4 * 1 + flagX]] += 1  # ZZII on flagged column. multiplication by 0 is for readability.\n",
    "            else:\n",
    "                return \"reject\"\n",
    "        flagX = -1\n",
    "    return flagX, measX, frameZ\n",
    "\n",
    "def correct_row_X(flagZ, measZ, frameX):\n",
    "    if flagZ == -1:  # No column flagged already\n",
    "        if sum(measZ) == 2:\n",
    "            return \"reject\"\n",
    "        if sum(measZ) in (1, 3):\n",
    "            if sum(measZ) == 1:\n",
    "                flagZ = measZ.index(1)\n",
    "            else:\n",
    "                flagZ = measZ.index(0)\n",
    "    else:  # Column flagZ in (0, 1, 2, 3) flagged\n",
    "        if sum(measZ) in (1, 3):\n",
    "            if sum(measZ) == 1:\n",
    "                row = measZ.index(1)\n",
    "            else:\n",
    "                row = measZ.index(0)\n",
    "            frameX[4 * row + flagZ] += 1  # Apply X correction\n",
    "        elif sum(measZ) == 2:\n",
    "            if measZ in ([0, 0, 1, 1], [1, 1, 0, 0]):\n",
    "                frameX[[4 * 0 + flagZ, 4 * 1 + flagZ]] += 1  # XXII on flagged column. multiplication by 0 is for readability.\n",
    "            else:\n",
    "                return \"reject\"\n",
    "        flagZ = -1\n",
    "    return flagZ, measZ, frameX\n"
   ],
   "metadata": {
    "collapsed": false,
    "ExecuteTime": {
     "start_time": "2024-12-04T23:05:28.919435Z",
     "end_time": "2024-12-04T23:05:29.016820Z"
    }
   }
  },
  {
   "cell_type": "code",
   "execution_count": 10,
   "outputs": [],
   "source": [
    "def manual_noise(circuit, list_qubits=[]):\n",
    "    circuit.append(\"TICK\")\n",
    "    circuit.append(\"X\", list_qubits)\n",
    "    circuit.append(\"TICK\")"
   ],
   "metadata": {
    "collapsed": false,
    "ExecuteTime": {
     "start_time": "2024-12-04T17:10:52.772309Z",
     "end_time": "2024-12-04T17:10:52.825727Z"
    }
   }
  },
  {
   "cell_type": "markdown",
   "source": [
    "## creating cirucit with \"real\" encoder/decoder/error-correction"
   ],
   "metadata": {
    "collapsed": false
   }
  },
  {
   "cell_type": "code",
   "execution_count": 74,
   "outputs": [
    {
     "data": {
      "text/plain": "'https://algassert.com/crumble#circuit=Q(0,0)0;Q(1,0)1;Q(2,0)2;Q(3,0)3;Q(0,1)4;Q(1,1)5;Q(2,1)6;Q(3,1)7;Q(0,2)8;Q(1,2)9;Q(2,2)10;Q(3,2)11;Q(0,3)12;Q(1,3)13;Q(2,3)14;Q(3,3)15;H_0_1_2_3_4_8_12;CX_4_20_4_5_4_6_4_7_4_20_8_21_8_9_8_10_8_11_8_21_12_22_12_13_12_14_12_15_12_22_0_16_1_17_2_18_3_19_0_4_1_5_2_6_3_7_0_8_1_9_2_10_3_11_0_12_1_13_2_14_3_15_0_16_1_17_2_18_3_19;R_18_19;H_19;CX_19_18_19_0_19_1_19_2_19_3_19_18;TICK;X_ERROR(0.1)0_1_2_3_4_5_6_7_8_9_10_11_12_13_14_15;TICK;MPP_X0*X1*X2*X3;TICK;MPP_X4*X5*X6*X7;TICK;MPP_X8*X9*X10*X11;TICK;MPP_X12*X13*X14*X15;TICK;DT_rec[-1]_rec[-2]_rec[-3]_rec[-4];MPP_Z0*Z1*Z2*Z3;TICK;MPP_Z4*Z5*Z6*Z7;TICK;MPP_Z8*Z9*Z10*Z11;TICK;MPP_Z12*Z13*Z14*Z15;TICK;DT_rec[-1]_rec[-2]_rec[-3]_rec[-4];MPP_X0*X4*X8*X12;TICK;MPP_X1*X5*X9*X13;TICK;MPP_X2*X6*X10*X14;TICK;MPP_X3*X7*X11*X15;TICK;DT_rec[-1]_rec[-2]_rec[-3]_rec[-4];MPP_Z0*Z4*Z8*Z12;TICK;MPP_Z1*Z5*Z9*Z13;TICK;MPP_Z2*Z6*Z10*Z14;TICK;MPP_Z3*Z7*Z11*Z15;TICK;DT_rec[-1]_rec[-2]_rec[-3]_rec[-4]'"
     },
     "execution_count": 74,
     "metadata": {},
     "output_type": "execute_result"
    }
   ],
   "source": [
    "# Initialize the circuit\n",
    "circuit = init_circuit()\n",
    "\n",
    "# Encode the logical qubit\n",
    "encode_manual(circuit)\n",
    "\n",
    "# Apply noise channel\n",
    "channel(circuit, 0.1)\n",
    "# manual_noise(circuit, [0])\n",
    "\n",
    "\n",
    "error_correct_manual(circuit)\n",
    "# Perform error correction\n",
    "# error_correction(circuit)\n",
    "\n",
    "# Print the final circuit for verification\n",
    "# print(circuit)\n",
    "# circuit.diagram()\n",
    "circuit.to_crumble_url()"
   ],
   "metadata": {
    "collapsed": false,
    "ExecuteTime": {
     "start_time": "2024-12-04T23:17:22.971205Z",
     "end_time": "2024-12-04T23:17:23.043430Z"
    }
   }
  },
  {
   "cell_type": "code",
   "execution_count": 75,
   "outputs": [
    {
     "name": "stdout",
     "output_type": "stream",
     "text": [
      "[[False False False False]\n",
      " [False  True False  True]\n",
      " [False  True False  True]\n",
      " [False  True False  True]\n",
      " [False False False False]\n",
      " [False False False False]\n",
      " [False  True False  True]\n",
      " [False False False False]\n",
      " [False  True False  True]\n",
      " [False False False False]]\n"
     ]
    }
   ],
   "source": [
    "sampler = circuit.compile_detector_sampler()\n",
    "print(sampler.sample(shots=10))"
   ],
   "metadata": {
    "collapsed": false,
    "ExecuteTime": {
     "start_time": "2024-12-04T23:17:23.728531Z",
     "end_time": "2024-12-04T23:17:23.767803Z"
    }
   }
  },
  {
   "cell_type": "code",
   "execution_count": 76,
   "outputs": [
    {
     "data": {
      "text/plain": "[False,\n False,\n False,\n False,\n False,\n True,\n True,\n True,\n False,\n False,\n False,\n False,\n True,\n False,\n False,\n False]"
     },
     "execution_count": 76,
     "metadata": {},
     "output_type": "execute_result"
    }
   ],
   "source": [
    "# Flag qubits simulation - see reference: https://quantumcomputing.stackexchange.com/questions/22281/simulating-flag-qubits-and-conditional-branches-using-stim\n",
    "simulator = stim.TableauSimulator()\n",
    "simulator.do(circuit)\n",
    "\n",
    "simulator.current_measurement_record()"
   ],
   "metadata": {
    "collapsed": false,
    "ExecuteTime": {
     "start_time": "2024-12-04T23:17:24.485424Z",
     "end_time": "2024-12-04T23:17:24.519349Z"
    }
   }
  },
  {
   "cell_type": "code",
   "execution_count": 80,
   "outputs": [
    {
     "data": {
      "text/plain": "array([[False, False, False, False, False, False, False, False, False,\n        False],\n       [ True,  True, False,  True,  True,  True,  True, False, False,\n        False],\n       [False, False, False, False, False, False, False, False, False,\n        False],\n       [ True,  True, False,  True,  True,  True,  True, False, False,\n        False]])"
     },
     "execution_count": 80,
     "metadata": {},
     "output_type": "execute_result"
    }
   ],
   "source": [
    "# Since TableauSimulator doesn't natively support detection events, we are trying the flip simulator. see here for more details:\n",
    "# https://quantumcomputing.stackexchange.com/questions/34496/sample-detection-events-with-tableausimulator\n",
    "flipSimulator = stim.FlipSimulator(batch_size=10)\n",
    "flipSimulator.do(circuit)\n",
    "\n",
    "flipSimulator.get_detector_flips()"
   ],
   "metadata": {
    "collapsed": false,
    "ExecuteTime": {
     "start_time": "2024-12-04T23:17:30.396239Z",
     "end_time": "2024-12-04T23:17:30.430118Z"
    }
   }
  },
  {
   "cell_type": "code",
   "execution_count": null,
   "outputs": [],
   "source": [],
   "metadata": {
    "collapsed": false
   }
  }
 ],
 "metadata": {
  "kernelspec": {
   "display_name": "Python 3",
   "language": "python",
   "name": "python3"
  },
  "language_info": {
   "codemirror_mode": {
    "name": "ipython",
    "version": 2
   },
   "file_extension": ".py",
   "mimetype": "text/x-python",
   "name": "python",
   "nbconvert_exporter": "python",
   "pygments_lexer": "ipython2",
   "version": "2.7.6"
  }
 },
 "nbformat": 4,
 "nbformat_minor": 0
}
