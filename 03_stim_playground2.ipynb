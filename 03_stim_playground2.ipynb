{
 "cells": [
  {
   "cell_type": "code",
   "execution_count": null,
   "metadata": {
    "collapsed": true,
    "ExecuteTime": {
     "start_time": "2024-11-22T22:37:50.224081Z",
     "end_time": "2024-11-22T22:37:56.529515Z"
    }
   },
   "outputs": [],
   "source": [
    "!pip install stim~=1.14\n",
    "!pip install numpy~=1.0  # 1.0 instead of 2.0 for pymatching compatibility later\n",
    "!pip install scipy"
   ]
  },
  {
   "cell_type": "code",
   "execution_count": 126,
   "outputs": [
    {
     "name": "stdout",
     "output_type": "stream",
     "text": [
      "The autoreload extension is already loaded. To reload it, use:\n",
      "  %reload_ext autoreload\n",
      "1.14.0\n"
     ]
    }
   ],
   "source": [
    "%load_ext autoreload\n",
    "%autoreload 2\n",
    "\n",
    "import stim\n",
    "import numpy as np\n",
    "# import matplotlib.pyplot as plt\n",
    "from stim_utils import *\n",
    "from stim_simulation_utils import *\n",
    "print(stim.__version__)"
   ],
   "metadata": {
    "collapsed": false,
    "ExecuteTime": {
     "start_time": "2024-11-22T22:57:33.103118Z",
     "end_time": "2024-11-22T22:57:33.110735Z"
    }
   }
  },
  {
   "cell_type": "code",
   "execution_count": 127,
   "outputs": [],
   "source": [
    "import importlib.util\n",
    "import sys\n",
    "\n",
    "\n",
    "def reload_file(name, path):\n",
    "    spec = importlib.util.spec_from_file_location(name, path)\n",
    "    your_file = importlib.util.module_from_spec(spec)\n",
    "    sys.modules[name] = your_file\n",
    "    spec.loader.exec_module(your_file)\n",
    "\n",
    "\n",
    "reload_file(\"stim_simulation_utils\", \"stim_simulation_utils.py\")\n",
    "reload_file(\"stim_utils\", \"stim_utils.py\")\n"
   ],
   "metadata": {
    "collapsed": false,
    "ExecuteTime": {
     "start_time": "2024-11-22T22:57:33.595528Z",
     "end_time": "2024-11-22T22:57:33.655360Z"
    }
   }
  },
  {
   "cell_type": "code",
   "execution_count": 140,
   "outputs": [],
   "source": [
    "#Code stabilizer definitions:\n",
    "# X-type stabilizers\n",
    "x_stabilizers = [\n",
    "    [0, 1, 2, 3, 4, 5, 6, 7],\n",
    "    [4, 5, 6, 7, 8, 9, 10, 11],\n",
    "    [8, 9, 10, 11, 12, 13, 14, 15],\n",
    "    [0, 1, 4, 5, 8, 9, 12, 13],\n",
    "    [1, 2, 5, 6, 9, 10, 13, 14],\n",
    "]\n",
    "\n",
    "# Z-type stabilizers\n",
    "z_stabilizers = [\n",
    "    [0, 1, 2, 3, 4, 5, 6, 7],\n",
    "    [4, 5, 6, 7, 8, 9, 10, 11],\n",
    "    [8, 9, 10, 11, 12, 13, 14, 15],\n",
    "    [0, 1, 4, 5, 8, 9, 12, 13],\n",
    "    [1, 2, 5, 6, 9, 10, 13, 14],\n",
    "]\n",
    "\n",
    "\n",
    "# general circuit helper functions:\n",
    "def append_stabilizer(circuit, pauli_type, targets):\n",
    "    \"\"\"Append a multi-qubit Pauli product measurement to the circuit.\"\"\"\n",
    "    pauli_targets = []\n",
    "    for t in targets:\n",
    "        if pauli_type == 'X':\n",
    "            pauli_targets.append(stim.target_x(t))\n",
    "        elif pauli_type == 'Z':\n",
    "            pauli_targets.append(stim.target_z(t))\n",
    "        # Add a combiner for each qubit except the last one\n",
    "        pauli_targets.append(stim.target_combiner())\n",
    "\n",
    "    # Remove the last combiner (no combiner after the final target)\n",
    "    pauli_targets.pop()\n",
    "\n",
    "    # Append the MPP operation with the constructed targets\n",
    "    circuit.append(\"MPP\", pauli_targets)\n",
    "    circuit.append(\"TICK\")\n",
    "\n",
    "\n",
    "def append_detector(circuit, index1, index2):\n",
    "    \"\"\"Append a DETECTOR instruction with two recorded targets.\"\"\"\n",
    "    circuit.append(\"DETECTOR\", [\n",
    "        stim.target_rec(index1),\n",
    "        stim.target_rec(index2)\n",
    "    ])\n",
    "\n",
    "\n",
    "#Tesseract code circuit creation functions:\n",
    "\n",
    "## Trying to create circuit from tableau based on stabilizer generators\n",
    "# In order to encode some codeword in the codespace, I've used this reference:\n",
    "# https://quantumcomputing.stackexchange.com/questions/32437/a-simple-way-of-encoding-qubit-in-stabilizer-codes-with-stim\n",
    "def init_circuit():\n",
    "    circuit = stim.Circuit()\n",
    "    # Adding qubit coordinates metadata\n",
    "    for qubit in range(16):\n",
    "        x = qubit % 4\n",
    "        y = qubit // 4\n",
    "        circuit.append_operation(\"QUBIT_COORDS\", [qubit], [x, y])\n",
    "    print(\"Initialization complete.\")\n",
    "    return circuit\n",
    "\n",
    "\n",
    "def encode(circuit):\n",
    "    # Encoding step: Measuring X and Z stabilizers:\n",
    "\n",
    "    # Append X-type stabilizers\n",
    "    for targets in x_stabilizers:\n",
    "        append_stabilizer(circuit, 'X', targets)\n",
    "\n",
    "    # Append Z-type stabilizers\n",
    "    for targets in z_stabilizers:\n",
    "        append_stabilizer(circuit, 'Z', targets)\n",
    "\n",
    "    print(\"Encoding complete.\")\n",
    "\n",
    "\n",
    "def channel(circuit, error_rate, noisy_qubits=list(range(16))):\n",
    "    # Noise channel: Adding X errors with probability 0 (for testing, can be adjusted)\n",
    "    circuit.append(\"TICK\")\n",
    "    circuit.append(\"DEPOLARIZE1\", noisy_qubits, error_rate)  # 10% error probability for demonstration\n",
    "    circuit.append(\"TICK\")\n",
    "    print(\"Noise channel applied.\")\n",
    "\n",
    "\n",
    "def error_correction(circuit):\n",
    "    # Error correction: Measuring the stabilizers again\n",
    "\n",
    "    # Append X-type stabilizers\n",
    "    for targets in x_stabilizers:\n",
    "        append_stabilizer(circuit, 'X', targets)\n",
    "\n",
    "    # Append Z-type stabilizers\n",
    "    for targets in z_stabilizers:\n",
    "        append_stabilizer(circuit, 'Z', targets)\n",
    "\n",
    "    # Adding detectors for error syndrome extraction\n",
    "    # Append DETECTOR instructions to matching measurements\n",
    "    for i in range(10):\n",
    "        append_detector(circuit, index1=-(10 - i), index2=-(20 - i))\n",
    "\n",
    "    # Logical observables and corresponding observable indices\n",
    "    logical_observables = [\n",
    "        (['Z', [0, 4, 8, 12]], 0),\n",
    "        (['Z', [0, 1, 2, 3]], 1),\n",
    "        (['Z', [0, 1, 4, 5]], 2),\n",
    "        (['Z', [5, 6, 9, 10]], 3),\n",
    "        (['Z', [4, 5, 8, 9]], 4),\n",
    "        (['Z', [1, 2, 5, 6]], 5),\n",
    "    ]\n",
    "\n",
    "    # Append logical observables\n",
    "    for (pauli_type, targets), observable_index in logical_observables:\n",
    "        # Append the stabilizer measurement\n",
    "        append_stabilizer(circuit, pauli_type, targets)\n",
    "\n",
    "        # Inline the OBSERVABLE_INCLUDE operation\n",
    "        circuit.append(\"OBSERVABLE_INCLUDE\", [stim.target_rec(-1)], observable_index)\n",
    "\n",
    "    print(\"Error correction complete.\")\n"
   ],
   "metadata": {
    "collapsed": false,
    "ExecuteTime": {
     "start_time": "2024-11-22T22:58:31.722860Z",
     "end_time": "2024-11-22T22:58:31.788583Z"
    }
   }
  },
  {
   "cell_type": "markdown",
   "source": [
    "## Creating 1 circuit:"
   ],
   "metadata": {
    "collapsed": false
   }
  },
  {
   "cell_type": "code",
   "execution_count": 141,
   "outputs": [
    {
     "name": "stdout",
     "output_type": "stream",
     "text": [
      "Initialization complete.\n",
      "Encoding complete.\n",
      "Noise channel applied.\n",
      "Error correction complete.\n",
      "QUBIT_COORDS(0, 0) 0\n",
      "QUBIT_COORDS(1, 0) 1\n",
      "QUBIT_COORDS(2, 0) 2\n",
      "QUBIT_COORDS(3, 0) 3\n",
      "QUBIT_COORDS(0, 1) 4\n",
      "QUBIT_COORDS(1, 1) 5\n",
      "QUBIT_COORDS(2, 1) 6\n",
      "QUBIT_COORDS(3, 1) 7\n",
      "QUBIT_COORDS(0, 2) 8\n",
      "QUBIT_COORDS(1, 2) 9\n",
      "QUBIT_COORDS(2, 2) 10\n",
      "QUBIT_COORDS(3, 2) 11\n",
      "QUBIT_COORDS(0, 3) 12\n",
      "QUBIT_COORDS(1, 3) 13\n",
      "QUBIT_COORDS(2, 3) 14\n",
      "QUBIT_COORDS(3, 3) 15\n",
      "MPP X0*X1*X2*X3*X4*X5*X6*X7\n",
      "TICK\n",
      "MPP X4*X5*X6*X7*X8*X9*X10*X11\n",
      "TICK\n",
      "MPP X8*X9*X10*X11*X12*X13*X14*X15\n",
      "TICK\n",
      "MPP X0*X1*X4*X5*X8*X9*X12*X13\n",
      "TICK\n",
      "MPP X1*X2*X5*X6*X9*X10*X13*X14\n",
      "TICK\n",
      "MPP Z0*Z1*Z2*Z3*Z4*Z5*Z6*Z7\n",
      "TICK\n",
      "MPP Z4*Z5*Z6*Z7*Z8*Z9*Z10*Z11\n",
      "TICK\n",
      "MPP Z8*Z9*Z10*Z11*Z12*Z13*Z14*Z15\n",
      "TICK\n",
      "MPP Z0*Z1*Z4*Z5*Z8*Z9*Z12*Z13\n",
      "TICK\n",
      "MPP Z1*Z2*Z5*Z6*Z9*Z10*Z13*Z14\n",
      "TICK\n",
      "TICK\n",
      "DEPOLARIZE1(0.5) 0\n",
      "TICK\n",
      "MPP X0*X1*X2*X3*X4*X5*X6*X7\n",
      "TICK\n",
      "MPP X4*X5*X6*X7*X8*X9*X10*X11\n",
      "TICK\n",
      "MPP X8*X9*X10*X11*X12*X13*X14*X15\n",
      "TICK\n",
      "MPP X0*X1*X4*X5*X8*X9*X12*X13\n",
      "TICK\n",
      "MPP X1*X2*X5*X6*X9*X10*X13*X14\n",
      "TICK\n",
      "MPP Z0*Z1*Z2*Z3*Z4*Z5*Z6*Z7\n",
      "TICK\n",
      "MPP Z4*Z5*Z6*Z7*Z8*Z9*Z10*Z11\n",
      "TICK\n",
      "MPP Z8*Z9*Z10*Z11*Z12*Z13*Z14*Z15\n",
      "TICK\n",
      "MPP Z0*Z1*Z4*Z5*Z8*Z9*Z12*Z13\n",
      "TICK\n",
      "MPP Z1*Z2*Z5*Z6*Z9*Z10*Z13*Z14\n",
      "TICK\n",
      "DETECTOR rec[-10] rec[-20]\n",
      "DETECTOR rec[-9] rec[-19]\n",
      "DETECTOR rec[-8] rec[-18]\n",
      "DETECTOR rec[-7] rec[-17]\n",
      "DETECTOR rec[-6] rec[-16]\n",
      "DETECTOR rec[-5] rec[-15]\n",
      "DETECTOR rec[-4] rec[-14]\n",
      "DETECTOR rec[-3] rec[-13]\n",
      "DETECTOR rec[-2] rec[-12]\n",
      "DETECTOR rec[-1] rec[-11]\n",
      "MPP Z0*Z4*Z8*Z12\n",
      "TICK\n",
      "OBSERVABLE_INCLUDE(0) rec[-1]\n",
      "MPP Z0*Z1*Z2*Z3\n",
      "TICK\n",
      "OBSERVABLE_INCLUDE(1) rec[-1]\n",
      "MPP Z0*Z1*Z4*Z5\n",
      "TICK\n",
      "OBSERVABLE_INCLUDE(2) rec[-1]\n",
      "MPP Z5*Z6*Z9*Z10\n",
      "TICK\n",
      "OBSERVABLE_INCLUDE(3) rec[-1]\n",
      "MPP Z4*Z5*Z8*Z9\n",
      "TICK\n",
      "OBSERVABLE_INCLUDE(4) rec[-1]\n",
      "MPP Z1*Z2*Z5*Z6\n",
      "TICK\n",
      "OBSERVABLE_INCLUDE(5) rec[-1]\n"
     ]
    }
   ],
   "source": [
    "# Initialize the circuit\n",
    "circuit = init_circuit()\n",
    "\n",
    "# Encode the logical qubit\n",
    "encode(circuit)\n",
    "\n",
    "# Apply noise channel\n",
    "channel(circuit, 0.5, [0])\n",
    "\n",
    "# Perform error correction\n",
    "error_correction(circuit)\n",
    "\n",
    "# Print the final circuit for verification\n",
    "print(circuit)"
   ],
   "metadata": {
    "collapsed": false,
    "ExecuteTime": {
     "start_time": "2024-11-22T22:58:32.557626Z",
     "end_time": "2024-11-22T22:58:32.639975Z"
    }
   }
  },
  {
   "cell_type": "markdown",
   "source": [
    "## plot multiple runs with different error rates"
   ],
   "metadata": {
    "collapsed": false
   }
  },
  {
   "cell_type": "code",
   "execution_count": 142,
   "outputs": [
    {
     "name": "stdout",
     "output_type": "stream",
     "text": [
      "Initialization complete.\n",
      "Encoding complete.\n",
      "Running simulation for error rate: 0.00\n",
      "Noise channel applied.\n",
      "Error correction complete.\n",
      "Running simulation for error rate: 0.01\n",
      "Noise channel applied.\n",
      "Error correction complete.\n",
      "Running simulation for error rate: 0.03\n",
      "Noise channel applied.\n",
      "Error correction complete.\n",
      "Running simulation for error rate: 0.04\n",
      "Noise channel applied.\n",
      "Error correction complete.\n",
      "Running simulation for error rate: 0.06\n",
      "Noise channel applied.\n",
      "Error correction complete.\n",
      "Running simulation for error rate: 0.07\n",
      "Noise channel applied.\n",
      "Error correction complete.\n",
      "Running simulation for error rate: 0.09\n",
      "Noise channel applied.\n",
      "Error correction complete.\n",
      "Running simulation for error rate: 0.10\n",
      "Noise channel applied.\n",
      "Error correction complete.\n",
      "Running simulation for error rate: 0.12\n",
      "Noise channel applied.\n",
      "Error correction complete.\n",
      "Running simulation for error rate: 0.14\n",
      "Noise channel applied.\n",
      "Error correction complete.\n",
      "Running simulation for error rate: 0.15\n",
      "Noise channel applied.\n",
      "Error correction complete.\n",
      "Running simulation for error rate: 0.16\n",
      "Noise channel applied.\n",
      "Error correction complete.\n",
      "Running simulation for error rate: 0.18\n",
      "Noise channel applied.\n",
      "Error correction complete.\n",
      "Running simulation for error rate: 0.20\n",
      "Noise channel applied.\n",
      "Error correction complete.\n",
      "Running simulation for error rate: 0.21\n",
      "Noise channel applied.\n",
      "Error correction complete.\n",
      "Running simulation for error rate: 0.22\n",
      "Noise channel applied.\n",
      "Error correction complete.\n",
      "Running simulation for error rate: 0.24\n",
      "Noise channel applied.\n",
      "Error correction complete.\n",
      "Running simulation for error rate: 0.26\n",
      "Noise channel applied.\n",
      "Error correction complete.\n",
      "Running simulation for error rate: 0.27\n",
      "Noise channel applied.\n",
      "Error correction complete.\n",
      "Running simulation for error rate: 0.28\n",
      "Noise channel applied.\n",
      "Error correction complete.\n",
      "Running simulation for error rate: 0.30\n",
      "Noise channel applied.\n",
      "Error correction complete.\n"
     ]
    },
    {
     "data": {
      "text/plain": "<Figure size 1000x600 with 1 Axes>",
      "image/png": "[encoded data removed]"
     },
     "metadata": {},
     "output_type": "display_data"
    }
   ],
   "source": [
    "# Initialize the circuit\n",
    "circuit = init_circuit()\n",
    "\n",
    "# Encode the logical qubit\n",
    "encode(circuit)\n",
    "\n",
    "# Define a range of error rates to test\n",
    "error_rates = np.linspace(0, 0.3, 21)  # From 0 to 0.2 in steps of 0.01\n",
    "detection_probabilities = []\n",
    "\n",
    "# Run the simulation for each error rate\n",
    "for error_rate in error_rates:\n",
    "    print(f\"Running simulation for error rate: {error_rate:.2f}\")\n",
    "    detection_probability = run_simulation(circuit.copy(), channel, error_correction, error_rate)\n",
    "    detection_probabilities.append(detection_probability)\n",
    "\n",
    "# Plot the results\n",
    "plot_detection_probability(error_rates, detection_probabilities)"
   ],
   "metadata": {
    "collapsed": false,
    "ExecuteTime": {
     "start_time": "2024-11-22T22:58:34.801297Z",
     "end_time": "2024-11-22T22:58:35.446830Z"
    }
   }
  },
  {
   "cell_type": "markdown",
   "source": [
    "## Plot multiple runs with different error rates - fidelity\n",
    "(probably not correct, was done with help of GPT)"
   ],
   "metadata": {
    "collapsed": false
   }
  },
  {
   "cell_type": "code",
   "execution_count": 143,
   "outputs": [
    {
     "name": "stdout",
     "output_type": "stream",
     "text": [
      "Initialization complete.\n",
      "Encoding complete.\n",
      "Calculating fidelity for error rate: 0.00\n",
      "Noise channel applied.\n",
      "Error correction complete.\n",
      "Calculating fidelity for error rate: 0.01\n",
      "Noise channel applied.\n",
      "Error correction complete.\n",
      "Calculating fidelity for error rate: 0.02\n",
      "Noise channel applied.\n",
      "Error correction complete.\n",
      "Calculating fidelity for error rate: 0.03\n",
      "Noise channel applied.\n",
      "Error correction complete.\n",
      "Calculating fidelity for error rate: 0.04\n",
      "Noise channel applied.\n",
      "Error correction complete.\n",
      "Calculating fidelity for error rate: 0.05\n",
      "Noise channel applied.\n",
      "Error correction complete.\n",
      "Calculating fidelity for error rate: 0.06\n",
      "Noise channel applied.\n",
      "Error correction complete.\n",
      "Calculating fidelity for error rate: 0.07\n",
      "Noise channel applied.\n",
      "Error correction complete.\n",
      "Calculating fidelity for error rate: 0.08\n",
      "Noise channel applied.\n",
      "Error correction complete.\n",
      "Calculating fidelity for error rate: 0.09\n",
      "Noise channel applied.\n",
      "Error correction complete.\n",
      "Calculating fidelity for error rate: 0.10\n",
      "Noise channel applied.\n",
      "Error correction complete.\n",
      "Calculating fidelity for error rate: 0.11\n",
      "Noise channel applied.\n",
      "Error correction complete.\n",
      "Calculating fidelity for error rate: 0.12\n",
      "Noise channel applied.\n",
      "Error correction complete.\n",
      "Calculating fidelity for error rate: 0.13\n",
      "Noise channel applied.\n",
      "Error correction complete.\n",
      "Calculating fidelity for error rate: 0.14\n",
      "Noise channel applied.\n",
      "Error correction complete.\n",
      "Calculating fidelity for error rate: 0.15\n",
      "Noise channel applied.\n",
      "Error correction complete.\n",
      "Calculating fidelity for error rate: 0.16\n",
      "Noise channel applied.\n",
      "Error correction complete.\n",
      "Calculating fidelity for error rate: 0.17\n",
      "Noise channel applied.\n",
      "Error correction complete.\n",
      "Calculating fidelity for error rate: 0.18\n",
      "Noise channel applied.\n",
      "Error correction complete.\n",
      "Calculating fidelity for error rate: 0.19\n",
      "Noise channel applied.\n",
      "Error correction complete.\n",
      "Calculating fidelity for error rate: 0.20\n",
      "Noise channel applied.\n",
      "Error correction complete.\n"
     ]
    },
    {
     "data": {
      "text/plain": "<Figure size 1000x600 with 1 Axes>",
      "image/png": "[encoded data removed]"
     },
     "metadata": {},
     "output_type": "display_data"
    }
   ],
   "source": [
    "# Initialize the circuit\n",
    "circuit = init_circuit()\n",
    "encode(circuit)\n",
    "\n",
    "# Define a range of error rates to test\n",
    "error_rates = np.linspace(0, 0.2, 21)\n",
    "fidelities = []\n",
    "\n",
    "# Run fidelity calculations for each error rate\n",
    "for error_rate in error_rates:\n",
    "    print(f\"Calculating fidelity for error rate: {error_rate:.2f}\")\n",
    "    fidelity = calculate_fidelity(circuit.copy(), channel, error_correction, error_rate)\n",
    "    fidelities.append(fidelity)\n",
    "\n",
    "# Plot the fidelity results\n",
    "plot_fidelity(error_rates, fidelities)"
   ],
   "metadata": {
    "collapsed": false,
    "ExecuteTime": {
     "start_time": "2024-11-22T22:58:36.699609Z",
     "end_time": "2024-11-22T22:58:37.460265Z"
    }
   }
  },
  {
   "cell_type": "code",
   "execution_count": 144,
   "outputs": [
    {
     "data": {
      "text/plain": "'https://algassert.com/crumble#circuit=Q(0,0)0;Q(1,0)1;Q(2,0)2;Q(3,0)3;Q(0,1)4;Q(1,1)5;Q(2,1)6;Q(3,1)7;Q(0,2)8;Q(1,2)9;Q(2,2)10;Q(3,2)11;Q(0,3)12;Q(1,3)13;Q(2,3)14;Q(3,3)15;MPP_X0*X1*X2*X3*X4*X5*X6*X7;TICK;MPP_X4*X5*X6*X7*X8*X9*X10*X11;TICK;MPP_X8*X9*X10*X11*X12*X13*X14*X15;TICK;MPP_X0*X1*X4*X5*X8*X9*X12*X13;TICK;MPP_X1*X2*X5*X6*X9*X10*X13*X14;TICK;MPP_Z0*Z1*Z2*Z3*Z4*Z5*Z6*Z7;TICK;MPP_Z4*Z5*Z6*Z7*Z8*Z9*Z10*Z11;TICK;MPP_Z8*Z9*Z10*Z11*Z12*Z13*Z14*Z15;TICK;MPP_Z0*Z1*Z4*Z5*Z8*Z9*Z12*Z13;TICK;MPP_Z1*Z2*Z5*Z6*Z9*Z10*Z13*Z14;TICK'"
     },
     "execution_count": 144,
     "metadata": {},
     "output_type": "execute_result"
    }
   ],
   "source": [
    "circuit.to_crumble_url()"
   ],
   "metadata": {
    "collapsed": false,
    "ExecuteTime": {
     "start_time": "2024-11-22T22:58:38.151266Z",
     "end_time": "2024-11-22T22:58:38.210888Z"
    }
   }
  },
  {
   "cell_type": "code",
   "execution_count": 145,
   "outputs": [
    {
     "data": {
      "text/plain": "array([[False,  True,  True, False, False, False, False, False, False,\n        False],\n       [ True, False, False, False,  True, False, False, False, False,\n        False],\n       [False, False,  True,  True,  True, False, False, False, False,\n        False],\n       [ True, False, False,  True, False, False, False, False, False,\n        False],\n       [False,  True, False,  True, False, False, False, False, False,\n        False],\n       [ True, False, False,  True,  True, False, False, False, False,\n        False],\n       [ True,  True,  True,  True, False, False, False, False, False,\n        False],\n       [False,  True, False, False, False, False, False, False, False,\n        False],\n       [ True,  True,  True,  True,  True, False, False, False, False,\n        False],\n       [False,  True, False,  True,  True, False, False, False, False,\n        False]])"
     },
     "execution_count": 145,
     "metadata": {},
     "output_type": "execute_result"
    }
   ],
   "source": [
    "sampler = circuit.compile_sampler()\n",
    "sampler.sample(shots=10)"
   ],
   "metadata": {
    "collapsed": false,
    "ExecuteTime": {
     "start_time": "2024-11-22T22:58:38.576417Z",
     "end_time": "2024-11-22T22:58:38.623096Z"
    }
   }
  },
  {
   "cell_type": "code",
   "execution_count": 146,
   "outputs": [
    {
     "data": {
      "text/plain": "array([], shape=(5, 0), dtype=bool)"
     },
     "execution_count": 146,
     "metadata": {},
     "output_type": "execute_result"
    }
   ],
   "source": [
    "sampler = circuit.compile_detector_sampler()\n",
    "sampler.sample(shots=5)"
   ],
   "metadata": {
    "collapsed": false,
    "ExecuteTime": {
     "start_time": "2024-11-22T22:58:39.625580Z",
     "end_time": "2024-11-22T22:58:39.678416Z"
    }
   }
  },
  {
   "cell_type": "markdown",
   "source": [
    "## Error correction with pymatching\n",
    "Attempt at actually doing the error correction using pymatching\n",
    "currently not working"
   ],
   "metadata": {
    "collapsed": false
   }
  },
  {
   "cell_type": "code",
   "execution_count": 150,
   "outputs": [
    {
     "name": "stdout",
     "output_type": "stream",
     "text": [
      "Initialization complete.\n",
      "Encoding complete.\n",
      "Noise channel applied.\n",
      "Error correction complete.\n",
      "QUBIT_COORDS(0, 0) 0\n",
      "QUBIT_COORDS(1, 0) 1\n",
      "QUBIT_COORDS(2, 0) 2\n",
      "QUBIT_COORDS(3, 0) 3\n",
      "QUBIT_COORDS(0, 1) 4\n",
      "QUBIT_COORDS(1, 1) 5\n",
      "QUBIT_COORDS(2, 1) 6\n",
      "QUBIT_COORDS(3, 1) 7\n",
      "QUBIT_COORDS(0, 2) 8\n",
      "QUBIT_COORDS(1, 2) 9\n",
      "QUBIT_COORDS(2, 2) 10\n",
      "QUBIT_COORDS(3, 2) 11\n",
      "QUBIT_COORDS(0, 3) 12\n",
      "QUBIT_COORDS(1, 3) 13\n",
      "QUBIT_COORDS(2, 3) 14\n",
      "QUBIT_COORDS(3, 3) 15\n",
      "MPP X0*X1*X2*X3*X4*X5*X6*X7\n",
      "TICK\n",
      "MPP X4*X5*X6*X7*X8*X9*X10*X11\n",
      "TICK\n",
      "MPP X8*X9*X10*X11*X12*X13*X14*X15\n",
      "TICK\n",
      "MPP X0*X1*X4*X5*X8*X9*X12*X13\n",
      "TICK\n",
      "MPP X1*X2*X5*X6*X9*X10*X13*X14\n",
      "TICK\n",
      "MPP Z0*Z1*Z2*Z3*Z4*Z5*Z6*Z7\n",
      "TICK\n",
      "MPP Z4*Z5*Z6*Z7*Z8*Z9*Z10*Z11\n",
      "TICK\n",
      "MPP Z8*Z9*Z10*Z11*Z12*Z13*Z14*Z15\n",
      "TICK\n",
      "MPP Z0*Z1*Z4*Z5*Z8*Z9*Z12*Z13\n",
      "TICK\n",
      "MPP Z1*Z2*Z5*Z6*Z9*Z10*Z13*Z14\n",
      "TICK\n",
      "TICK\n",
      "DEPOLARIZE1(0.5) 0 1 2\n",
      "TICK\n",
      "MPP X0*X1*X2*X3*X4*X5*X6*X7\n",
      "TICK\n",
      "MPP X4*X5*X6*X7*X8*X9*X10*X11\n",
      "TICK\n",
      "MPP X8*X9*X10*X11*X12*X13*X14*X15\n",
      "TICK\n",
      "MPP X0*X1*X4*X5*X8*X9*X12*X13\n",
      "TICK\n",
      "MPP X1*X2*X5*X6*X9*X10*X13*X14\n",
      "TICK\n",
      "MPP Z0*Z1*Z2*Z3*Z4*Z5*Z6*Z7\n",
      "TICK\n",
      "MPP Z4*Z5*Z6*Z7*Z8*Z9*Z10*Z11\n",
      "TICK\n",
      "MPP Z8*Z9*Z10*Z11*Z12*Z13*Z14*Z15\n",
      "TICK\n",
      "MPP Z0*Z1*Z4*Z5*Z8*Z9*Z12*Z13\n",
      "TICK\n",
      "MPP Z1*Z2*Z5*Z6*Z9*Z10*Z13*Z14\n",
      "TICK\n",
      "DETECTOR rec[-10] rec[-20]\n",
      "DETECTOR rec[-9] rec[-19]\n",
      "DETECTOR rec[-8] rec[-18]\n",
      "DETECTOR rec[-7] rec[-17]\n",
      "DETECTOR rec[-6] rec[-16]\n",
      "DETECTOR rec[-5] rec[-15]\n",
      "DETECTOR rec[-4] rec[-14]\n",
      "DETECTOR rec[-3] rec[-13]\n",
      "DETECTOR rec[-2] rec[-12]\n",
      "DETECTOR rec[-1] rec[-11]\n",
      "MPP Z0*Z4*Z8*Z12\n",
      "TICK\n",
      "OBSERVABLE_INCLUDE(0) rec[-1]\n",
      "MPP Z0*Z1*Z2*Z3\n",
      "TICK\n",
      "OBSERVABLE_INCLUDE(1) rec[-1]\n",
      "MPP Z0*Z1*Z4*Z5\n",
      "TICK\n",
      "OBSERVABLE_INCLUDE(2) rec[-1]\n",
      "MPP Z5*Z6*Z9*Z10\n",
      "TICK\n",
      "OBSERVABLE_INCLUDE(3) rec[-1]\n",
      "MPP Z4*Z5*Z8*Z9\n",
      "TICK\n",
      "OBSERVABLE_INCLUDE(4) rec[-1]\n",
      "MPP Z1*Z2*Z5*Z6\n",
      "TICK\n",
      "OBSERVABLE_INCLUDE(5) rec[-1]\n",
      "******************************\n",
      "Noise model:\n",
      "stim.DetectorErrorModel('''\n",
      "    error(0.211325) D0 D3\n",
      "    error(0.211325) D0 D3 ^ D4\n",
      "    error(0.211325) D0 D3 ^ D5 D8 L0 L1 L2\n",
      "    error(0.211325) D0 D3 ^ D5 D8 L0 L1 L2 ^ D4 D9 L0 L5\n",
      "    error(0.211325) D0 D4\n",
      "    error(0.211325) D0 D4 ^ D5 D9 L1 L5\n",
      "    error(0.211325) D5 D8 L0 L1 L2\n",
      "    error(0.211325) D5 D8 L0 L1 L2 ^ D9 L0 L5\n",
      "    error(0.211325) D5 D9 L1 L5\n",
      "    detector D1\n",
      "    detector D2\n",
      "    detector D6\n",
      "    detector D7\n",
      "    logical_observable L3\n",
      "    logical_observable L4\n",
      "''')\n"
     ]
    }
   ],
   "source": [
    "# Creating another circuit (Can delete this - duplicate. this is just for easier work)\n",
    "# Initialize the circuit\n",
    "circuit = init_circuit()\n",
    "\n",
    "# Encode the logical qubit\n",
    "encode(circuit)\n",
    "\n",
    "# Apply noise channel\n",
    "# channel(circuit, 0.05)\n",
    "channel(circuit, 0.5, [0,1,2])\n",
    "\n",
    "# Perform error correction\n",
    "error_correction(circuit)\n",
    "\n",
    "# Print the final circuit for verification\n",
    "print(circuit)\n",
    "\n",
    "dem = circuit.detector_error_model(decompose_errors=True)\n",
    "print(\"******************************\")\n",
    "print(\"Noise model:\")\n",
    "print(repr(dem))"
   ],
   "metadata": {
    "collapsed": false,
    "ExecuteTime": {
     "start_time": "2024-11-22T22:59:00.299858Z",
     "end_time": "2024-11-22T22:59:00.384815Z"
    }
   }
  },
  {
   "cell_type": "code",
   "execution_count": 151,
   "outputs": [
    {
     "name": "stdout",
     "output_type": "stream",
     "text": [
      "there were 0 wrong predictions (logical errors) out of 100000 shots\n"
     ]
    }
   ],
   "source": [
    "num_shots = 100_000\n",
    "num_logical_errors = count_logical_errors(circuit, num_shots)\n",
    "print(\"there were\", num_logical_errors, \"wrong predictions (logical errors) out of\", num_shots, \"shots\")"
   ],
   "metadata": {
    "collapsed": false,
    "ExecuteTime": {
     "start_time": "2024-11-22T22:59:02.441780Z",
     "end_time": "2024-11-22T22:59:03.121116Z"
    }
   }
  },
  {
   "cell_type": "code",
   "execution_count": 137,
   "outputs": [
    {
     "data": {
      "text/plain": "      /-----------------------------\\                                                                                                                                                                                                                                                                                                    /------------------------------------------------------------------------------------------------------------------------\\ /-------------------------------------------\\ /-------------------------------------------\\                                /-------------------------------------------\\ /-------------------------------------------\\\n q0: -QUBIT_COORDS(0,0)-MPP[X]:rec[0]-----------------------------MPP[X]:rec[3]---------------MPP[Z]:rec[5]-----------------------------MPP[Z]:rec[8]-----------------Z_ERROR(0.5)-MPP[X]:rec[10]-------------------------------MPP[X]:rec[13]----------------MPP[Z]:rec[15]-------------------------------MPP[Z]:rec[18]----------------DETECTOR:D0=rec[10]*rec[0]-DETECTOR:D3=rec[13]*rec[3]-DETECTOR:D5=rec[15]*rec[5]-DETECTOR:D8=rec[18]*rec[8]-MPP[Z]:rec[20]-OBSERVABLE_INCLUDE:L0*=rec[20]-MPP[Z]:rec[21]-OBSERVABLE_INCLUDE:L1*=rec[21]-MPP[Z]:rec[22]-OBSERVABLE_INCLUDE:L2*=rec[22]----------------------------------------------------------------------------------------------------------------------------\n                        |                                         |                           |                                         |                                          |                                            |                             |                                            |                                                                                                                                         |                                             |                                             |\n q1: -QUBIT_COORDS(1,0)-MPP[X]:rec[0]-----------------------------MPP[X]:rec[3]-MPP[X]:rec[4]-MPP[Z]:rec[5]-----------------------------MPP[Z]:rec[8]-MPP[Z]:rec[9]---Z_ERROR(0.5)-MPP[X]:rec[10]-------------------------------MPP[X]:rec[13]-MPP[X]:rec[14]-MPP[Z]:rec[15]-------------------------------MPP[Z]:rec[18]-MPP[Z]:rec[19]----------------------------DETECTOR:D4=rec[14]*rec[4]----------------------------DETECTOR:D9=rec[19]*rec[9]-|---------------------------------------------MPP[Z]:rec[21]--------------------------------MPP[Z]:rec[22]-------------------------------------------------------------------------------------------------------------MPP[Z]:rec[25]-OBSERVABLE_INCLUDE:L5*=rec[25]-\n                        |                                         |             |             |                                         |             |                            |                                            |              |              |                                            |              |                                                                                                                          |                                             |                                             |                                                                                                                          |\n q2: -QUBIT_COORDS(2,0)-MPP[X]:rec[0]-----------------------------|-------------MPP[X]:rec[4]-MPP[Z]:rec[5]-----------------------------|-------------MPP[Z]:rec[9]---Z_ERROR(0.5)-MPP[X]:rec[10]-------------------------------|--------------MPP[X]:rec[14]-MPP[Z]:rec[15]-------------------------------|--------------MPP[Z]:rec[19]-------------------------------------------------------------------------------------------------------------|---------------------------------------------MPP[Z]:rec[21]--------------------------------|--------------------------------------------------------------------------------------------------------------------------MPP[Z]:rec[25]--------------------------------\n                        |                                         |             |             |                                         |             |                            |                                            |              |              |                                            |              |                                                                                                                          |                                             |                                             |                                                                                                                          |\n q3: -QUBIT_COORDS(3,0)-MPP[X]:rec[0]-----------------------------|-------------|-------------MPP[Z]:rec[5]-----------------------------|-------------|----------------------------MPP[X]:rec[10]-------------------------------|--------------|--------------MPP[Z]:rec[15]-------------------------------|--------------|--------------------------------------------------------------------------------------------------------------------------|---------------------------------------------MPP[Z]:rec[21]--------------------------------|--------------------------------------------------------------------------------------------------------------------------|---------------------------------------------\n                        |                                         |             |             |                                         |             |                            |                                            |              |              |                                            |              |                                                                                                                          |                                                                                           |                                                                                                                          |\n q4: -QUBIT_COORDS(0,1)-MPP[X]:rec[0]-MPP[X]:rec[1]---------------MPP[X]:rec[3]-|-------------MPP[Z]:rec[5]-MPP[Z]:rec[6]---------------MPP[Z]:rec[8]-|----------------------------MPP[X]:rec[10]-MPP[X]:rec[11]----------------MPP[X]:rec[13]-|--------------MPP[Z]:rec[15]-MPP[Z]:rec[16]----------------MPP[Z]:rec[18]-|--------------DETECTOR:D1=rec[11]*rec[1]----------------------------DETECTOR:D6=rec[16]*rec[6]----------------------------MPP[Z]:rec[20]------------------------------------------------------------------------------MPP[Z]:rec[22]---------------------------------------------------------------MPP[Z]:rec[24]-OBSERVABLE_INCLUDE:L4*=rec[24]-|---------------------------------------------\n                        |             |                           |             |             |             |                           |             |                            |              |                             |              |              |              |                             |              |                                                                                                                          |                                                                                           |                                                                            |                                             |\n q5: -QUBIT_COORDS(1,1)-MPP[X]:rec[0]-MPP[X]:rec[1]---------------MPP[X]:rec[3]-MPP[X]:rec[4]-MPP[Z]:rec[5]-MPP[Z]:rec[6]---------------MPP[Z]:rec[8]-MPP[Z]:rec[9]---Z_ERROR(0.5)-MPP[X]:rec[10]-MPP[X]:rec[11]----------------MPP[X]:rec[13]-MPP[X]:rec[14]-MPP[Z]:rec[15]-MPP[Z]:rec[16]----------------MPP[Z]:rec[18]-MPP[Z]:rec[19]-------------------------------------------------------------------------------------------------------------|-------------------------------------------------------------------------------------------MPP[Z]:rec[22]-MPP[Z]:rec[23]-----------------OBSERVABLE_INCLUDE:L3*=rec[23]-MPP[Z]:rec[24]--------------------------------MPP[Z]:rec[25]--------------------------------\n                        |             |                           |             |             |             |                           |             |                            |              |                             |              |              |              |                             |              |                                                                                                                          |                                                                                                          |                                                             |                                             |\n q6: -QUBIT_COORDS(2,1)-MPP[X]:rec[0]-MPP[X]:rec[1]---------------|-------------MPP[X]:rec[4]-MPP[Z]:rec[5]-MPP[Z]:rec[6]---------------|-------------MPP[Z]:rec[9]----------------MPP[X]:rec[10]-MPP[X]:rec[11]----------------|--------------MPP[X]:rec[14]-MPP[Z]:rec[15]-MPP[Z]:rec[16]----------------|--------------MPP[Z]:rec[19]-------------------------------------------------------------------------------------------------------------|----------------------------------------------------------------------------------------------------------MPP[Z]:rec[23]------------------------------------------------|---------------------------------------------MPP[Z]:rec[25]--------------------------------\n                        |             |                           |             |             |             |                           |             |                            |              |                             |              |              |              |                             |              |                                                                                                                          |                                                                                                          |                                                             |\n q7: -QUBIT_COORDS(3,1)-MPP[X]:rec[0]-MPP[X]:rec[1]---------------|-------------|-------------MPP[Z]:rec[5]-MPP[Z]:rec[6]---------------|-------------|----------------------------MPP[X]:rec[10]-MPP[X]:rec[11]----------------|--------------|--------------MPP[Z]:rec[15]-MPP[Z]:rec[16]----------------|--------------|--------------------------------------------------------------------------------------------------------------------------|----------------------------------------------------------------------------------------------------------|-------------------------------------------------------------|-------------------------------------------------------------------------------------------\n                                      |                           |             |                           |                           |             |                                           |                             |              |                             |                             |              |                                                                                                                          |                                                                                                          |                                                             |\n q8: -QUBIT_COORDS(0,2)---------------MPP[X]:rec[1]-MPP[X]:rec[2]-MPP[X]:rec[3]-|---------------------------MPP[Z]:rec[6]-MPP[Z]:rec[7]-MPP[Z]:rec[8]-|-------------------------------------------MPP[X]:rec[11]-MPP[X]:rec[12]-MPP[X]:rec[13]-|-----------------------------MPP[Z]:rec[16]-MPP[Z]:rec[17]-MPP[Z]:rec[18]-|--------------DETECTOR:D2=rec[12]*rec[2]----------------------------DETECTOR:D7=rec[17]*rec[7]----------------------------MPP[Z]:rec[20]---------------------------------------------------------------------------------------------|-------------------------------------------------------------MPP[Z]:rec[24]------------------------------------------------------------------------------\n                                      |             |             |             |                           |             |             |             |                                           |              |              |              |                             |              |              |              |                                                                                                                          |                                                                                                          |                                                             |\n q9: -QUBIT_COORDS(1,2)---------------MPP[X]:rec[1]-MPP[X]:rec[2]-MPP[X]:rec[3]-MPP[X]:rec[4]---------------MPP[Z]:rec[6]-MPP[Z]:rec[7]-MPP[Z]:rec[8]-MPP[Z]:rec[9]-------------------------------MPP[X]:rec[11]-MPP[X]:rec[12]-MPP[X]:rec[13]-MPP[X]:rec[14]----------------MPP[Z]:rec[16]-MPP[Z]:rec[17]-MPP[Z]:rec[18]-MPP[Z]:rec[19]-------------------------------------------------------------------------------------------------------------|----------------------------------------------------------------------------------------------------------MPP[Z]:rec[23]------------------------------------------------MPP[Z]:rec[24]------------------------------------------------------------------------------\n                                      |             |             |             |                           |             |             |             |                                           |              |              |              |                             |              |              |              |                                                                                                                          |                                                                                                          |\nq10: -QUBIT_COORDS(2,2)---------------MPP[X]:rec[1]-MPP[X]:rec[2]-|-------------MPP[X]:rec[4]---------------MPP[Z]:rec[6]-MPP[Z]:rec[7]-|-------------MPP[Z]:rec[9]-------------------------------MPP[X]:rec[11]-MPP[X]:rec[12]-|--------------MPP[X]:rec[14]----------------MPP[Z]:rec[16]-MPP[Z]:rec[17]-|--------------MPP[Z]:rec[19]-------------------------------------------------------------------------------------------------------------|----------------------------------------------------------------------------------------------------------MPP[Z]:rec[23]--------------------------------------------------------------------------------------------------------------------------------------------\n                                      |             |             |             |                           |             |             |             |                                           |              |              |              |                             |              |              |              |                                                                                                                          |\nq11: -QUBIT_COORDS(3,2)---------------MPP[X]:rec[1]-MPP[X]:rec[2]-|-------------|---------------------------MPP[Z]:rec[6]-MPP[Z]:rec[7]-|-------------|-------------------------------------------MPP[X]:rec[11]-MPP[X]:rec[12]-|--------------|-----------------------------MPP[Z]:rec[16]-MPP[Z]:rec[17]-|--------------|--------------------------------------------------------------------------------------------------------------------------|--------------------------------------------------------------------------------------------------------------------------------------------------------------------------------------------------------------------------------------------------------------------\n                                                    |             |             |                                         |             |             |                                                          |              |              |                                            |              |              |                                                                                                                          |\nq12: -QUBIT_COORDS(0,3)-----------------------------MPP[X]:rec[2]-MPP[X]:rec[3]-|-----------------------------------------MPP[Z]:rec[7]-MPP[Z]:rec[8]-|----------------------------------------------------------MPP[X]:rec[12]-MPP[X]:rec[13]-|--------------------------------------------MPP[Z]:rec[17]-MPP[Z]:rec[18]-|--------------------------------------------------------------------------------------------------------------------------MPP[Z]:rec[20]-------------------------------------------------------------------------------------------------------------------------------------------------------------------------------------------------------------------------------------------------------\n                                                    |             |             |                                         |             |             |                                                          |              |              |                                            |              |              |\nq13: -QUBIT_COORDS(1,3)-----------------------------MPP[X]:rec[2]-MPP[X]:rec[3]-MPP[X]:rec[4]-----------------------------MPP[Z]:rec[7]-MPP[Z]:rec[8]-MPP[Z]:rec[9]----------------------------------------------MPP[X]:rec[12]-MPP[X]:rec[13]-MPP[X]:rec[14]-------------------------------MPP[Z]:rec[17]-MPP[Z]:rec[18]-MPP[Z]:rec[19]----------------------------------------------------------------------------------------------------------------------------------------------------------------------------------------------------------------------------------------------------------------------------------------------------------------------------------------------------------------------------------\n                                                    |                           |                                         |                           |                                                          |                             |                                            |                             |\nq14: -QUBIT_COORDS(2,3)-----------------------------MPP[X]:rec[2]---------------MPP[X]:rec[4]-----------------------------MPP[Z]:rec[7]---------------MPP[Z]:rec[9]----------------------------------------------MPP[X]:rec[12]----------------MPP[X]:rec[14]-------------------------------MPP[Z]:rec[17]----------------MPP[Z]:rec[19]----------------------------------------------------------------------------------------------------------------------------------------------------------------------------------------------------------------------------------------------------------------------------------------------------------------------------------------------------------------------------------\n                                                    |                                                                     |                                                                                      |                                                                          |\nq15: -QUBIT_COORDS(3,3)-----------------------------MPP[X]:rec[2]---------------------------------------------------------MPP[Z]:rec[7]-------------------------------Z_ERROR(0.5)-------------------------------MPP[X]:rec[12]-------------------------------------------------------------MPP[Z]:rec[17]----------------------------------------------------------------------------------------------------------------------------------------------------------------------------------------------------------------------------------------------------------------------------------------------------------------------------------------------------------------------------------------------------------------\n      \\-----------------------------/                                                                                                                                                                                                                                                                                                    \\------------------------------------------------------------------------------------------------------------------------/ \\-------------------------------------------/ \\-------------------------------------------/                                \\-------------------------------------------/ \\-------------------------------------------/",
      "text/html": "<pre>      /-----------------------------\\                                                                                                                                                                                                                                                                                                    /------------------------------------------------------------------------------------------------------------------------\\ /-------------------------------------------\\ /-------------------------------------------\\                                /-------------------------------------------\\ /-------------------------------------------\\\n q0: -QUBIT_COORDS(0,0)-MPP[X]:rec[0]-----------------------------MPP[X]:rec[3]---------------MPP[Z]:rec[5]-----------------------------MPP[Z]:rec[8]-----------------Z_ERROR(0.5)-MPP[X]:rec[10]-------------------------------MPP[X]:rec[13]----------------MPP[Z]:rec[15]-------------------------------MPP[Z]:rec[18]----------------DETECTOR:D0=rec[10]*rec[0]-DETECTOR:D3=rec[13]*rec[3]-DETECTOR:D5=rec[15]*rec[5]-DETECTOR:D8=rec[18]*rec[8]-MPP[Z]:rec[20]-OBSERVABLE_INCLUDE:L0*=rec[20]-MPP[Z]:rec[21]-OBSERVABLE_INCLUDE:L1*=rec[21]-MPP[Z]:rec[22]-OBSERVABLE_INCLUDE:L2*=rec[22]----------------------------------------------------------------------------------------------------------------------------\n                        |                                         |                           |                                         |                                          |                                            |                             |                                            |                                                                                                                                         |                                             |                                             |\n q1: -QUBIT_COORDS(1,0)-MPP[X]:rec[0]-----------------------------MPP[X]:rec[3]-MPP[X]:rec[4]-MPP[Z]:rec[5]-----------------------------MPP[Z]:rec[8]-MPP[Z]:rec[9]---Z_ERROR(0.5)-MPP[X]:rec[10]-------------------------------MPP[X]:rec[13]-MPP[X]:rec[14]-MPP[Z]:rec[15]-------------------------------MPP[Z]:rec[18]-MPP[Z]:rec[19]----------------------------DETECTOR:D4=rec[14]*rec[4]----------------------------DETECTOR:D9=rec[19]*rec[9]-|---------------------------------------------MPP[Z]:rec[21]--------------------------------MPP[Z]:rec[22]-------------------------------------------------------------------------------------------------------------MPP[Z]:rec[25]-OBSERVABLE_INCLUDE:L5*=rec[25]-\n                        |                                         |             |             |                                         |             |                            |                                            |              |              |                                            |              |                                                                                                                          |                                             |                                             |                                                                                                                          |\n q2: -QUBIT_COORDS(2,0)-MPP[X]:rec[0]-----------------------------|-------------MPP[X]:rec[4]-MPP[Z]:rec[5]-----------------------------|-------------MPP[Z]:rec[9]---Z_ERROR(0.5)-MPP[X]:rec[10]-------------------------------|--------------MPP[X]:rec[14]-MPP[Z]:rec[15]-------------------------------|--------------MPP[Z]:rec[19]-------------------------------------------------------------------------------------------------------------|---------------------------------------------MPP[Z]:rec[21]--------------------------------|--------------------------------------------------------------------------------------------------------------------------MPP[Z]:rec[25]--------------------------------\n                        |                                         |             |             |                                         |             |                            |                                            |              |              |                                            |              |                                                                                                                          |                                             |                                             |                                                                                                                          |\n q3: -QUBIT_COORDS(3,0)-MPP[X]:rec[0]-----------------------------|-------------|-------------MPP[Z]:rec[5]-----------------------------|-------------|----------------------------MPP[X]:rec[10]-------------------------------|--------------|--------------MPP[Z]:rec[15]-------------------------------|--------------|--------------------------------------------------------------------------------------------------------------------------|---------------------------------------------MPP[Z]:rec[21]--------------------------------|--------------------------------------------------------------------------------------------------------------------------|---------------------------------------------\n                        |                                         |             |             |                                         |             |                            |                                            |              |              |                                            |              |                                                                                                                          |                                                                                           |                                                                                                                          |\n q4: -QUBIT_COORDS(0,1)-MPP[X]:rec[0]-MPP[X]:rec[1]---------------MPP[X]:rec[3]-|-------------MPP[Z]:rec[5]-MPP[Z]:rec[6]---------------MPP[Z]:rec[8]-|----------------------------MPP[X]:rec[10]-MPP[X]:rec[11]----------------MPP[X]:rec[13]-|--------------MPP[Z]:rec[15]-MPP[Z]:rec[16]----------------MPP[Z]:rec[18]-|--------------DETECTOR:D1=rec[11]*rec[1]----------------------------DETECTOR:D6=rec[16]*rec[6]----------------------------MPP[Z]:rec[20]------------------------------------------------------------------------------MPP[Z]:rec[22]---------------------------------------------------------------MPP[Z]:rec[24]-OBSERVABLE_INCLUDE:L4*=rec[24]-|---------------------------------------------\n                        |             |                           |             |             |             |                           |             |                            |              |                             |              |              |              |                             |              |                                                                                                                          |                                                                                           |                                                                            |                                             |\n q5: -QUBIT_COORDS(1,1)-MPP[X]:rec[0]-MPP[X]:rec[1]---------------MPP[X]:rec[3]-MPP[X]:rec[4]-MPP[Z]:rec[5]-MPP[Z]:rec[6]---------------MPP[Z]:rec[8]-MPP[Z]:rec[9]---Z_ERROR(0.5)-MPP[X]:rec[10]-MPP[X]:rec[11]----------------MPP[X]:rec[13]-MPP[X]:rec[14]-MPP[Z]:rec[15]-MPP[Z]:rec[16]----------------MPP[Z]:rec[18]-MPP[Z]:rec[19]-------------------------------------------------------------------------------------------------------------|-------------------------------------------------------------------------------------------MPP[Z]:rec[22]-MPP[Z]:rec[23]-----------------OBSERVABLE_INCLUDE:L3*=rec[23]-MPP[Z]:rec[24]--------------------------------MPP[Z]:rec[25]--------------------------------\n                        |             |                           |             |             |             |                           |             |                            |              |                             |              |              |              |                             |              |                                                                                                                          |                                                                                                          |                                                             |                                             |\n q6: -QUBIT_COORDS(2,1)-MPP[X]:rec[0]-MPP[X]:rec[1]---------------|-------------MPP[X]:rec[4]-MPP[Z]:rec[5]-MPP[Z]:rec[6]---------------|-------------MPP[Z]:rec[9]----------------MPP[X]:rec[10]-MPP[X]:rec[11]----------------|--------------MPP[X]:rec[14]-MPP[Z]:rec[15]-MPP[Z]:rec[16]----------------|--------------MPP[Z]:rec[19]-------------------------------------------------------------------------------------------------------------|----------------------------------------------------------------------------------------------------------MPP[Z]:rec[23]------------------------------------------------|---------------------------------------------MPP[Z]:rec[25]--------------------------------\n                        |             |                           |             |             |             |                           |             |                            |              |                             |              |              |              |                             |              |                                                                                                                          |                                                                                                          |                                                             |\n q7: -QUBIT_COORDS(3,1)-MPP[X]:rec[0]-MPP[X]:rec[1]---------------|-------------|-------------MPP[Z]:rec[5]-MPP[Z]:rec[6]---------------|-------------|----------------------------MPP[X]:rec[10]-MPP[X]:rec[11]----------------|--------------|--------------MPP[Z]:rec[15]-MPP[Z]:rec[16]----------------|--------------|--------------------------------------------------------------------------------------------------------------------------|----------------------------------------------------------------------------------------------------------|-------------------------------------------------------------|-------------------------------------------------------------------------------------------\n                                      |                           |             |                           |                           |             |                                           |                             |              |                             |                             |              |                                                                                                                          |                                                                                                          |                                                             |\n q8: -QUBIT_COORDS(0,2)---------------MPP[X]:rec[1]-MPP[X]:rec[2]-MPP[X]:rec[3]-|---------------------------MPP[Z]:rec[6]-MPP[Z]:rec[7]-MPP[Z]:rec[8]-|-------------------------------------------MPP[X]:rec[11]-MPP[X]:rec[12]-MPP[X]:rec[13]-|-----------------------------MPP[Z]:rec[16]-MPP[Z]:rec[17]-MPP[Z]:rec[18]-|--------------DETECTOR:D2=rec[12]*rec[2]----------------------------DETECTOR:D7=rec[17]*rec[7]----------------------------MPP[Z]:rec[20]---------------------------------------------------------------------------------------------|-------------------------------------------------------------MPP[Z]:rec[24]------------------------------------------------------------------------------\n                                      |             |             |             |                           |             |             |             |                                           |              |              |              |                             |              |              |              |                                                                                                                          |                                                                                                          |                                                             |\n q9: -QUBIT_COORDS(1,2)---------------MPP[X]:rec[1]-MPP[X]:rec[2]-MPP[X]:rec[3]-MPP[X]:rec[4]---------------MPP[Z]:rec[6]-MPP[Z]:rec[7]-MPP[Z]:rec[8]-MPP[Z]:rec[9]-------------------------------MPP[X]:rec[11]-MPP[X]:rec[12]-MPP[X]:rec[13]-MPP[X]:rec[14]----------------MPP[Z]:rec[16]-MPP[Z]:rec[17]-MPP[Z]:rec[18]-MPP[Z]:rec[19]-------------------------------------------------------------------------------------------------------------|----------------------------------------------------------------------------------------------------------MPP[Z]:rec[23]------------------------------------------------MPP[Z]:rec[24]------------------------------------------------------------------------------\n                                      |             |             |             |                           |             |             |             |                                           |              |              |              |                             |              |              |              |                                                                                                                          |                                                                                                          |\nq10: -QUBIT_COORDS(2,2)---------------MPP[X]:rec[1]-MPP[X]:rec[2]-|-------------MPP[X]:rec[4]---------------MPP[Z]:rec[6]-MPP[Z]:rec[7]-|-------------MPP[Z]:rec[9]-------------------------------MPP[X]:rec[11]-MPP[X]:rec[12]-|--------------MPP[X]:rec[14]----------------MPP[Z]:rec[16]-MPP[Z]:rec[17]-|--------------MPP[Z]:rec[19]-------------------------------------------------------------------------------------------------------------|----------------------------------------------------------------------------------------------------------MPP[Z]:rec[23]--------------------------------------------------------------------------------------------------------------------------------------------\n                                      |             |             |             |                           |             |             |             |                                           |              |              |              |                             |              |              |              |                                                                                                                          |\nq11: -QUBIT_COORDS(3,2)---------------MPP[X]:rec[1]-MPP[X]:rec[2]-|-------------|---------------------------MPP[Z]:rec[6]-MPP[Z]:rec[7]-|-------------|-------------------------------------------MPP[X]:rec[11]-MPP[X]:rec[12]-|--------------|-----------------------------MPP[Z]:rec[16]-MPP[Z]:rec[17]-|--------------|--------------------------------------------------------------------------------------------------------------------------|--------------------------------------------------------------------------------------------------------------------------------------------------------------------------------------------------------------------------------------------------------------------\n                                                    |             |             |                                         |             |             |                                                          |              |              |                                            |              |              |                                                                                                                          |\nq12: -QUBIT_COORDS(0,3)-----------------------------MPP[X]:rec[2]-MPP[X]:rec[3]-|-----------------------------------------MPP[Z]:rec[7]-MPP[Z]:rec[8]-|----------------------------------------------------------MPP[X]:rec[12]-MPP[X]:rec[13]-|--------------------------------------------MPP[Z]:rec[17]-MPP[Z]:rec[18]-|--------------------------------------------------------------------------------------------------------------------------MPP[Z]:rec[20]-------------------------------------------------------------------------------------------------------------------------------------------------------------------------------------------------------------------------------------------------------\n                                                    |             |             |                                         |             |             |                                                          |              |              |                                            |              |              |\nq13: -QUBIT_COORDS(1,3)-----------------------------MPP[X]:rec[2]-MPP[X]:rec[3]-MPP[X]:rec[4]-----------------------------MPP[Z]:rec[7]-MPP[Z]:rec[8]-MPP[Z]:rec[9]----------------------------------------------MPP[X]:rec[12]-MPP[X]:rec[13]-MPP[X]:rec[14]-------------------------------MPP[Z]:rec[17]-MPP[Z]:rec[18]-MPP[Z]:rec[19]----------------------------------------------------------------------------------------------------------------------------------------------------------------------------------------------------------------------------------------------------------------------------------------------------------------------------------------------------------------------------------\n                                                    |                           |                                         |                           |                                                          |                             |                                            |                             |\nq14: -QUBIT_COORDS(2,3)-----------------------------MPP[X]:rec[2]---------------MPP[X]:rec[4]-----------------------------MPP[Z]:rec[7]---------------MPP[Z]:rec[9]----------------------------------------------MPP[X]:rec[12]----------------MPP[X]:rec[14]-------------------------------MPP[Z]:rec[17]----------------MPP[Z]:rec[19]----------------------------------------------------------------------------------------------------------------------------------------------------------------------------------------------------------------------------------------------------------------------------------------------------------------------------------------------------------------------------------\n                                                    |                                                                     |                                                                                      |                                                                          |\nq15: -QUBIT_COORDS(3,3)-----------------------------MPP[X]:rec[2]---------------------------------------------------------MPP[Z]:rec[7]-------------------------------Z_ERROR(0.5)-------------------------------MPP[X]:rec[12]-------------------------------------------------------------MPP[Z]:rec[17]----------------------------------------------------------------------------------------------------------------------------------------------------------------------------------------------------------------------------------------------------------------------------------------------------------------------------------------------------------------------------------------------------------------\n      \\-----------------------------/                                                                                                                                                                                                                                                                                                    \\------------------------------------------------------------------------------------------------------------------------/ \\-------------------------------------------/ \\-------------------------------------------/                                \\-------------------------------------------/ \\-------------------------------------------/</pre>"
     },
     "execution_count": 137,
     "metadata": {},
     "output_type": "execute_result"
    }
   ],
   "source": [
    "circuit.diagram(\"timeline-text\")"
   ],
   "metadata": {
    "collapsed": false,
    "ExecuteTime": {
     "start_time": "2024-11-22T22:57:47.150350Z",
     "end_time": "2024-11-22T22:57:47.201779Z"
    }
   }
  },
  {
   "cell_type": "code",
   "execution_count": 108,
   "outputs": [
    {
     "data": {
      "text/plain": "'https://algassert.com/crumble#circuit=Q(0,0)0;Q(1,0)1;Q(2,0)2;Q(3,0)3;Q(0,1)4;Q(1,1)5;Q(2,1)6;Q(3,1)7;Q(0,2)8;Q(1,2)9;Q(2,2)10;Q(3,2)11;Q(0,3)12;Q(1,3)13;Q(2,3)14;Q(3,3)15;MPP_X0*X1*X2*X3*X4*X5*X6*X7;TICK;MPP_X4*X5*X6*X7*X8*X9*X10*X11;TICK;MPP_X8*X9*X10*X11*X12*X13*X14*X15;TICK;MPP_X0*X1*X4*X5*X8*X9*X12*X13;TICK;MPP_X1*X2*X5*X6*X9*X10*X13*X14;TICK;MPP_Z0*Z1*Z2*Z3*Z4*Z5*Z6*Z7;TICK;MPP_Z4*Z5*Z6*Z7*Z8*Z9*Z10*Z11;TICK;MPP_Z8*Z9*Z10*Z11*Z12*Z13*Z14*Z15;TICK;MPP_Z0*Z1*Z4*Z5*Z8*Z9*Z12*Z13;TICK;MPP_Z1*Z2*Z5*Z6*Z9*Z10*Z13*Z14;TICK;TICK;X_ERROR(0.5)0;TICK;MPP_X0*X1*X2*X3*X4*X5*X6*X7;TICK;MPP_X4*X5*X6*X7*X8*X9*X10*X11;TICK;MPP_X8*X9*X10*X11*X12*X13*X14*X15;TICK;MPP_X0*X1*X4*X5*X8*X9*X12*X13;TICK;MPP_X1*X2*X5*X6*X9*X10*X13*X14;TICK;MPP_Z0*Z1*Z2*Z3*Z4*Z5*Z6*Z7;TICK;MPP_Z4*Z5*Z6*Z7*Z8*Z9*Z10*Z11;TICK;MPP_Z8*Z9*Z10*Z11*Z12*Z13*Z14*Z15;TICK;MPP_Z0*Z1*Z4*Z5*Z8*Z9*Z12*Z13;TICK;MPP_Z1*Z2*Z5*Z6*Z9*Z10*Z13*Z14;TICK;DT_rec[-10]_rec[-20];DT_rec[-9]_rec[-19];DT_rec[-8]_rec[-18];DT_rec[-7]_rec[-17];DT_rec[-6]_rec[-16];DT_rec[-5]_rec[-15];DT_rec[-4]_rec[-14];DT_rec[-3]_rec[-13];DT_rec[-2]_rec[-12];DT_rec[-1]_rec[-11];MPP_Z0*Z4*Z8*Z12;TICK;OI(0)rec[-1];MPP_Z0*Z1*Z2*Z3;TICK;OI(1)rec[-1];MPP_Z0*Z1*Z4*Z5;TICK;OI(2)rec[-1];MPP_Z5*Z6*Z9*Z10;TICK;OI(3)rec[-1];MPP_Z4*Z5*Z8*Z9;TICK;OI(4)rec[-1];MPP_Z1*Z2*Z5*Z6;TICK;OI(5)rec[-1]'"
     },
     "execution_count": 108,
     "metadata": {},
     "output_type": "execute_result"
    }
   ],
   "source": [
    "circuit.to_crumble_url()"
   ],
   "metadata": {
    "collapsed": false,
    "ExecuteTime": {
     "start_time": "2024-11-19T00:12:46.099688Z",
     "end_time": "2024-11-19T00:12:46.124566Z"
    }
   }
  },
  {
   "cell_type": "code",
   "execution_count": null,
   "outputs": [],
   "source": [],
   "metadata": {
    "collapsed": false
   }
  }
 ],
 "metadata": {
  "kernelspec": {
   "display_name": "Python 3",
   "language": "python",
   "name": "python3"
  },
  "language_info": {
   "codemirror_mode": {
    "name": "ipython",
    "version": 2
   },
   "file_extension": ".py",
   "mimetype": "text/x-python",
   "name": "python",
   "nbconvert_exporter": "python",
   "pygments_lexer": "ipython2",
   "version": "2.7.6"
  }
 },
 "nbformat": 4,
 "nbformat_minor": 0
}
