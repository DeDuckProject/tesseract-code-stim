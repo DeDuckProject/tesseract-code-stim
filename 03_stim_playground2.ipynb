{
 "cells": [
  {
   "cell_type": "code",
   "execution_count": 1,
   "metadata": {
    "collapsed": true,
    "ExecuteTime": {
     "start_time": "2024-11-07T22:22:04.973842Z",
     "end_time": "2024-11-07T22:22:16.649119Z"
    }
   },
   "outputs": [
    {
     "name": "stdout",
     "output_type": "stream",
     "text": [
      "Collecting stim~=1.14\r\n",
      "  Downloading stim-1.14.0-cp310-cp310-macosx_10_9_x86_64.whl.metadata (4.2 kB)\r\n",
      "Requirement already satisfied: numpy in /Users/iftachyakar/opt/miniconda3/envs/error-correction-jupyter/lib/python3.10/site-packages (from stim~=1.14) (1.26.4)\r\n",
      "Downloading stim-1.14.0-cp310-cp310-macosx_10_9_x86_64.whl (1.9 MB)\r\n",
      "\u001B[2K   \u001B[90m━━━━━━━━━━━━━━━━━━━━━━━━━━━━━━━━━━━━━━━━\u001B[0m \u001B[32m1.9/1.9 MB\u001B[0m \u001B[31m2.5 MB/s\u001B[0m eta \u001B[36m0:00:00\u001B[0ma \u001B[36m0:00:01\u001B[0m0m\r\n",
      "\u001B[?25hInstalling collected packages: stim\r\n",
      "Successfully installed stim-1.14.0\r\n",
      "Requirement already satisfied: numpy~=1.0 in /Users/iftachyakar/opt/miniconda3/envs/error-correction-jupyter/lib/python3.10/site-packages (1.26.4)\r\n",
      "Requirement already satisfied: scipy in /Users/iftachyakar/opt/miniconda3/envs/error-correction-jupyter/lib/python3.10/site-packages (1.11.4)\r\n",
      "Requirement already satisfied: numpy<1.28.0,>=1.21.6 in /Users/iftachyakar/opt/miniconda3/envs/error-correction-jupyter/lib/python3.10/site-packages (from scipy) (1.26.4)\r\n"
     ]
    }
   ],
   "source": [
    "!pip install stim~=1.14\n",
    "!pip install numpy~=1.0  # 1.0 instead of 2.0 for pymatching compatibility later\n",
    "!pip install scipy"
   ]
  },
  {
   "cell_type": "code",
   "execution_count": 1,
   "outputs": [
    {
     "name": "stdout",
     "output_type": "stream",
     "text": [
      "1.14.0\n"
     ]
    }
   ],
   "source": [
    "import stim\n",
    "import numpy as np\n",
    "import matplotlib.pyplot as plt\n",
    "import pymatching\n",
    "print(stim.__version__)"
   ],
   "metadata": {
    "collapsed": false,
    "ExecuteTime": {
     "start_time": "2024-11-15T22:54:16.856031Z",
     "end_time": "2024-11-15T22:54:18.889171Z"
    }
   }
  },
  {
   "cell_type": "markdown",
   "source": [
    "## Trying to create circuit from tableau based on stabilizer generators"
   ],
   "metadata": {
    "collapsed": false
   }
  },
  {
   "cell_type": "code",
   "execution_count": 2,
   "outputs": [],
   "source": [
    "def init_circuit():\n",
    "    circuit = stim.Circuit()\n",
    "    # Adding qubit coordinates metadata\n",
    "    for qubit in range(16):\n",
    "        x = qubit % 4\n",
    "        y = qubit // 4\n",
    "        circuit.append_operation(\"QUBIT_COORDS\", [qubit], [x, y])\n",
    "    print(\"Initialization complete.\")\n",
    "    return circuit\n",
    "\n",
    "def encode(circuit):\n",
    "    # Encoding step: Measuring X and Z stabilizers\n",
    "    circuit += stim.Circuit(\"\"\"\n",
    "        # X-type stabilizers\n",
    "        MPP X0*X1*X2*X3*X4*X5*X6*X7\n",
    "        MPP X4*X5*X6*X7*X8*X9*X10*X11\n",
    "        MPP X8*X9*X10*X11*X12*X13*X14*X15\n",
    "        MPP X0*X1*X4*X5*X8*X9*X12*X13\n",
    "        MPP X1*X2*X5*X6*X9*X10*X13*X14\n",
    "\n",
    "        # Z-type stabilizers\n",
    "        MPP Z0*Z1*Z2*Z3*Z4*Z5*Z6*Z7\n",
    "        MPP Z4*Z5*Z6*Z7*Z8*Z9*Z10*Z11\n",
    "        MPP Z8*Z9*Z10*Z11*Z12*Z13*Z14*Z15\n",
    "        MPP Z0*Z1*Z4*Z5*Z8*Z9*Z12*Z13\n",
    "        MPP Z1*Z2*Z5*Z6*Z9*Z10*Z13*Z14\n",
    "    \"\"\")\n",
    "    print(\"Encoding complete.\")\n",
    "\n",
    "def channel(circuit, error_rate):\n",
    "    # Noise channel: Adding X errors with probability 0 (for testing, can be adjusted)\n",
    "    circuit.append(\"TICK\")\n",
    "    circuit.append(\"X_ERROR\", list(range(16)), error_rate)  # 10% error probability for demonstration\n",
    "    circuit.append(\"TICK\")\n",
    "    print(\"Noise channel applied.\")\n",
    "\n",
    "def error_correction(circuit):\n",
    "    # Error correction: Measuring the stabilizers again\n",
    "    circuit += stim.Circuit(\"\"\"\n",
    "        # X-type stabilizers\n",
    "        MPP X0*X1*X2*X3*X4*X5*X6*X7\n",
    "        MPP X4*X5*X6*X7*X8*X9*X10*X11\n",
    "        MPP X8*X9*X10*X11*X12*X13*X14*X15\n",
    "        MPP X0*X1*X4*X5*X8*X9*X12*X13\n",
    "        MPP X1*X2*X5*X6*X9*X10*X13*X14\n",
    "\n",
    "        # Z-type stabilizers\n",
    "        MPP Z0*Z1*Z2*Z3*Z4*Z5*Z6*Z7\n",
    "        MPP Z4*Z5*Z6*Z7*Z8*Z9*Z10*Z11\n",
    "        MPP Z8*Z9*Z10*Z11*Z12*Z13*Z14*Z15\n",
    "        MPP Z0*Z1*Z4*Z5*Z8*Z9*Z12*Z13\n",
    "        MPP Z1*Z2*Z5*Z6*Z9*Z10*Z13*Z14\n",
    "    \"\"\")\n",
    "    # TODO we extracted the syndromes but didn't correct errors.\n",
    "\n",
    "    # Adding detectors for error syndrome extraction\n",
    "    circuit += stim.Circuit(\"\"\"\n",
    "        DETECTOR rec[-10] rec[-20]\n",
    "        DETECTOR rec[-9] rec[-19]\n",
    "        DETECTOR rec[-8] rec[-18]\n",
    "        DETECTOR rec[-7] rec[-17]\n",
    "        DETECTOR rec[-6] rec[-16]\n",
    "        DETECTOR rec[-5] rec[-15]\n",
    "        DETECTOR rec[-4] rec[-14]\n",
    "        DETECTOR rec[-3] rec[-13]\n",
    "        DETECTOR rec[-2] rec[-12]\n",
    "        DETECTOR rec[-1] rec[-11]\n",
    "    \"\"\")\n",
    "    print(\"Error correction complete.\")"
   ],
   "metadata": {
    "collapsed": false,
    "ExecuteTime": {
     "start_time": "2024-11-15T22:54:20.161802Z",
     "end_time": "2024-11-15T22:54:20.178496Z"
    }
   }
  },
  {
   "cell_type": "markdown",
   "source": [
    "## Creating 1 circuit:"
   ],
   "metadata": {
    "collapsed": false
   }
  },
  {
   "cell_type": "code",
   "execution_count": 14,
   "outputs": [
    {
     "name": "stdout",
     "output_type": "stream",
     "text": [
      "Initialization complete.\n",
      "Encoding complete.\n",
      "Noise channel applied.\n",
      "Error correction complete.\n",
      "QUBIT_COORDS(0, 0) 0\n",
      "QUBIT_COORDS(1, 0) 1\n",
      "QUBIT_COORDS(2, 0) 2\n",
      "QUBIT_COORDS(3, 0) 3\n",
      "QUBIT_COORDS(0, 1) 4\n",
      "QUBIT_COORDS(1, 1) 5\n",
      "QUBIT_COORDS(2, 1) 6\n",
      "QUBIT_COORDS(3, 1) 7\n",
      "QUBIT_COORDS(0, 2) 8\n",
      "QUBIT_COORDS(1, 2) 9\n",
      "QUBIT_COORDS(2, 2) 10\n",
      "QUBIT_COORDS(3, 2) 11\n",
      "QUBIT_COORDS(0, 3) 12\n",
      "QUBIT_COORDS(1, 3) 13\n",
      "QUBIT_COORDS(2, 3) 14\n",
      "QUBIT_COORDS(3, 3) 15\n",
      "MPP X0*X1*X2*X3*X4*X5*X6*X7 X4*X5*X6*X7*X8*X9*X10*X11 X8*X9*X10*X11*X12*X13*X14*X15 X0*X1*X4*X5*X8*X9*X12*X13 X1*X2*X5*X6*X9*X10*X13*X14 Z0*Z1*Z2*Z3*Z4*Z5*Z6*Z7 Z4*Z5*Z6*Z7*Z8*Z9*Z10*Z11 Z8*Z9*Z10*Z11*Z12*Z13*Z14*Z15 Z0*Z1*Z4*Z5*Z8*Z9*Z12*Z13 Z1*Z2*Z5*Z6*Z9*Z10*Z13*Z14\n",
      "TICK\n",
      "X_ERROR(0.4) 0 1 2 3 4 5 6 7 8 9 10 11 12 13 14 15\n",
      "TICK\n",
      "MPP X0*X1*X2*X3*X4*X5*X6*X7 X4*X5*X6*X7*X8*X9*X10*X11 X8*X9*X10*X11*X12*X13*X14*X15 X0*X1*X4*X5*X8*X9*X12*X13 X1*X2*X5*X6*X9*X10*X13*X14 Z0*Z1*Z2*Z3*Z4*Z5*Z6*Z7 Z4*Z5*Z6*Z7*Z8*Z9*Z10*Z11 Z8*Z9*Z10*Z11*Z12*Z13*Z14*Z15 Z0*Z1*Z4*Z5*Z8*Z9*Z12*Z13 Z1*Z2*Z5*Z6*Z9*Z10*Z13*Z14\n",
      "DETECTOR rec[-10] rec[-20]\n",
      "DETECTOR rec[-9] rec[-19]\n",
      "DETECTOR rec[-8] rec[-18]\n",
      "DETECTOR rec[-7] rec[-17]\n",
      "DETECTOR rec[-6] rec[-16]\n",
      "DETECTOR rec[-5] rec[-15]\n",
      "DETECTOR rec[-4] rec[-14]\n",
      "DETECTOR rec[-3] rec[-13]\n",
      "DETECTOR rec[-2] rec[-12]\n",
      "DETECTOR rec[-1] rec[-11]\n"
     ]
    }
   ],
   "source": [
    "\n",
    "# Initialize the circuit\n",
    "circuit = init_circuit()\n",
    "\n",
    "# Encode the logical qubit\n",
    "encode(circuit)\n",
    "\n",
    "# Apply noise channel\n",
    "channel(circuit, 0.4)\n",
    "\n",
    "# Perform error correction\n",
    "error_correction(circuit)\n",
    "\n",
    "# Print the final circuit for verification\n",
    "print(circuit)"
   ],
   "metadata": {
    "collapsed": false,
    "ExecuteTime": {
     "start_time": "2024-11-15T22:59:32.114775Z",
     "end_time": "2024-11-15T22:59:32.119272Z"
    }
   }
  },
  {
   "cell_type": "markdown",
   "source": [
    "## plot multiple runs with different error rates"
   ],
   "metadata": {
    "collapsed": false
   }
  },
  {
   "cell_type": "code",
   "execution_count": 61,
   "outputs": [
    {
     "name": "stdout",
     "output_type": "stream",
     "text": [
      "Initialization complete.\n",
      "Encoding complete.\n",
      "Running simulation for error rate: 0.00\n",
      "Noise channel applied.\n",
      "Error correction complete.\n",
      "Running simulation for error rate: 0.01\n",
      "Noise channel applied.\n",
      "Error correction complete.\n"
     ]
    },
    {
     "ename": "KeyboardInterrupt",
     "evalue": "",
     "output_type": "error",
     "traceback": [
      "\u001B[0;31m---------------------------------------------------------------------------\u001B[0m",
      "\u001B[0;31mKeyboardInterrupt\u001B[0m                         Traceback (most recent call last)",
      "Cell \u001B[0;32mIn[61], line 40\u001B[0m\n\u001B[1;32m     38\u001B[0m \u001B[38;5;28;01mfor\u001B[39;00m error_rate \u001B[38;5;129;01min\u001B[39;00m error_rates:\n\u001B[1;32m     39\u001B[0m     \u001B[38;5;28mprint\u001B[39m(\u001B[38;5;124mf\u001B[39m\u001B[38;5;124m\"\u001B[39m\u001B[38;5;124mRunning simulation for error rate: \u001B[39m\u001B[38;5;132;01m{\u001B[39;00merror_rate\u001B[38;5;132;01m:\u001B[39;00m\u001B[38;5;124m.2f\u001B[39m\u001B[38;5;132;01m}\u001B[39;00m\u001B[38;5;124m\"\u001B[39m)\n\u001B[0;32m---> 40\u001B[0m     detection_probability \u001B[38;5;241m=\u001B[39m \u001B[43mrun_simulation\u001B[49m\u001B[43m(\u001B[49m\u001B[43mcircuit\u001B[49m\u001B[38;5;241;43m.\u001B[39;49m\u001B[43mcopy\u001B[49m\u001B[43m(\u001B[49m\u001B[43m)\u001B[49m\u001B[43m,\u001B[49m\u001B[43m \u001B[49m\u001B[43merror_rate\u001B[49m\u001B[43m)\u001B[49m\n\u001B[1;32m     41\u001B[0m     detection_probabilities\u001B[38;5;241m.\u001B[39mappend(detection_probability)\n\u001B[1;32m     43\u001B[0m \u001B[38;5;66;03m# Plot the results\u001B[39;00m\n",
      "Cell \u001B[0;32mIn[61], line 16\u001B[0m, in \u001B[0;36mrun_simulation\u001B[0;34m(circuit, error_rate, shots)\u001B[0m\n\u001B[1;32m     13\u001B[0m detection_events \u001B[38;5;241m=\u001B[39m np\u001B[38;5;241m.\u001B[39many(samples, axis\u001B[38;5;241m=\u001B[39m\u001B[38;5;241m1\u001B[39m)\n\u001B[1;32m     14\u001B[0m detection_probability \u001B[38;5;241m=\u001B[39m np\u001B[38;5;241m.\u001B[39mmean(detection_events)\n\u001B[0;32m---> 16\u001B[0m \u001B[38;5;28;01mreturn\u001B[39;00m \u001B[43mdetection_probability\u001B[49m\n",
      "Cell \u001B[0;32mIn[61], line 16\u001B[0m, in \u001B[0;36mrun_simulation\u001B[0;34m(circuit, error_rate, shots)\u001B[0m\n\u001B[1;32m     13\u001B[0m detection_events \u001B[38;5;241m=\u001B[39m np\u001B[38;5;241m.\u001B[39many(samples, axis\u001B[38;5;241m=\u001B[39m\u001B[38;5;241m1\u001B[39m)\n\u001B[1;32m     14\u001B[0m detection_probability \u001B[38;5;241m=\u001B[39m np\u001B[38;5;241m.\u001B[39mmean(detection_events)\n\u001B[0;32m---> 16\u001B[0m \u001B[38;5;28;01mreturn\u001B[39;00m \u001B[43mdetection_probability\u001B[49m\n",
      "File \u001B[0;32m_pydevd_bundle/pydevd_cython_darwin_310_64.pyx:1179\u001B[0m, in \u001B[0;36m_pydevd_bundle.pydevd_cython_darwin_310_64.SafeCallWrapper.__call__\u001B[0;34m()\u001B[0m\n",
      "File \u001B[0;32m_pydevd_bundle/pydevd_cython_darwin_310_64.pyx:620\u001B[0m, in \u001B[0;36m_pydevd_bundle.pydevd_cython_darwin_310_64.PyDBFrame.trace_dispatch\u001B[0;34m()\u001B[0m\n",
      "File \u001B[0;32m_pydevd_bundle/pydevd_cython_darwin_310_64.pyx:1095\u001B[0m, in \u001B[0;36m_pydevd_bundle.pydevd_cython_darwin_310_64.PyDBFrame.trace_dispatch\u001B[0;34m()\u001B[0m\n",
      "File \u001B[0;32m_pydevd_bundle/pydevd_cython_darwin_310_64.pyx:1053\u001B[0m, in \u001B[0;36m_pydevd_bundle.pydevd_cython_darwin_310_64.PyDBFrame.trace_dispatch\u001B[0;34m()\u001B[0m\n",
      "File \u001B[0;32m/Applications/DataSpell.app/Contents/plugins/python-ce/helpers-pro/jupyter_debug/pydev_jupyter_plugin.py:169\u001B[0m, in \u001B[0;36mstop\u001B[0;34m(plugin, pydb, frame, event, args, stop_info, arg, step_cmd)\u001B[0m\n\u001B[1;32m    167\u001B[0m     frame \u001B[38;5;241m=\u001B[39m suspend_jupyter(main_debugger, thread, frame, step_cmd)\n\u001B[1;32m    168\u001B[0m     \u001B[38;5;28;01mif\u001B[39;00m frame:\n\u001B[0;32m--> 169\u001B[0m         \u001B[43mmain_debugger\u001B[49m\u001B[38;5;241;43m.\u001B[39;49m\u001B[43mdo_wait_suspend\u001B[49m\u001B[43m(\u001B[49m\u001B[43mthread\u001B[49m\u001B[43m,\u001B[49m\u001B[43m \u001B[49m\u001B[43mframe\u001B[49m\u001B[43m,\u001B[49m\u001B[43m \u001B[49m\u001B[43mevent\u001B[49m\u001B[43m,\u001B[49m\u001B[43m \u001B[49m\u001B[43marg\u001B[49m\u001B[43m)\u001B[49m\n\u001B[1;32m    170\u001B[0m         \u001B[38;5;28;01mreturn\u001B[39;00m \u001B[38;5;28;01mTrue\u001B[39;00m\n\u001B[1;32m    171\u001B[0m \u001B[38;5;28;01mreturn\u001B[39;00m \u001B[38;5;28;01mFalse\u001B[39;00m\n",
      "File \u001B[0;32m/Applications/DataSpell.app/Contents/plugins/python-ce/helpers/pydev/pydevd.py:1160\u001B[0m, in \u001B[0;36mPyDB.do_wait_suspend\u001B[0;34m(self, thread, frame, event, arg, send_suspend_message, is_unhandled_exception)\u001B[0m\n\u001B[1;32m   1157\u001B[0m         from_this_thread\u001B[38;5;241m.\u001B[39mappend(frame_id)\n\u001B[1;32m   1159\u001B[0m \u001B[38;5;28;01mwith\u001B[39;00m \u001B[38;5;28mself\u001B[39m\u001B[38;5;241m.\u001B[39m_threads_suspended_single_notification\u001B[38;5;241m.\u001B[39mnotify_thread_suspended(thread_id, stop_reason):\n\u001B[0;32m-> 1160\u001B[0m     \u001B[38;5;28;43mself\u001B[39;49m\u001B[38;5;241;43m.\u001B[39;49m\u001B[43m_do_wait_suspend\u001B[49m\u001B[43m(\u001B[49m\u001B[43mthread\u001B[49m\u001B[43m,\u001B[49m\u001B[43m \u001B[49m\u001B[43mframe\u001B[49m\u001B[43m,\u001B[49m\u001B[43m \u001B[49m\u001B[43mevent\u001B[49m\u001B[43m,\u001B[49m\u001B[43m \u001B[49m\u001B[43marg\u001B[49m\u001B[43m,\u001B[49m\u001B[43m \u001B[49m\u001B[43msuspend_type\u001B[49m\u001B[43m,\u001B[49m\u001B[43m \u001B[49m\u001B[43mfrom_this_thread\u001B[49m\u001B[43m)\u001B[49m\n",
      "File \u001B[0;32m/Applications/DataSpell.app/Contents/plugins/python-ce/helpers/pydev/pydevd.py:1175\u001B[0m, in \u001B[0;36mPyDB._do_wait_suspend\u001B[0;34m(self, thread, frame, event, arg, suspend_type, from_this_thread)\u001B[0m\n\u001B[1;32m   1172\u001B[0m             \u001B[38;5;28mself\u001B[39m\u001B[38;5;241m.\u001B[39m_call_mpl_hook()\n\u001B[1;32m   1174\u001B[0m         \u001B[38;5;28mself\u001B[39m\u001B[38;5;241m.\u001B[39mprocess_internal_commands()\n\u001B[0;32m-> 1175\u001B[0m         \u001B[43mtime\u001B[49m\u001B[38;5;241;43m.\u001B[39;49m\u001B[43msleep\u001B[49m\u001B[43m(\u001B[49m\u001B[38;5;241;43m0.01\u001B[39;49m\u001B[43m)\u001B[49m\n\u001B[1;32m   1177\u001B[0m \u001B[38;5;28mself\u001B[39m\u001B[38;5;241m.\u001B[39mcancel_async_evaluation(get_current_thread_id(thread), \u001B[38;5;28mstr\u001B[39m(\u001B[38;5;28mid\u001B[39m(frame)))\n\u001B[1;32m   1179\u001B[0m \u001B[38;5;66;03m# process any stepping instructions\u001B[39;00m\n",
      "\u001B[0;31mKeyboardInterrupt\u001B[0m: "
     ]
    }
   ],
   "source": [
    "def run_simulation(circuit, error_rate, shots=10000):\n",
    "    # Apply noise channel with the specified error rate\n",
    "    channel(circuit, error_rate)\n",
    "\n",
    "    # Perform error correction\n",
    "    error_correction(circuit)\n",
    "\n",
    "    # Compile the circuit and run the simulation\n",
    "    sampler = circuit.compile_detector_sampler()\n",
    "    samples = sampler.sample(shots=shots)\n",
    "\n",
    "    # Calculate the detection probability (fraction of shots with any detection event)\n",
    "    detection_events = np.any(samples, axis=1)\n",
    "    detection_probability = np.mean(detection_events)\n",
    "\n",
    "    return detection_probability\n",
    "\n",
    "def plot_detection_probability(error_rates, detection_probabilities):\n",
    "    plt.figure(figsize=(10, 6))\n",
    "    plt.plot(error_rates, detection_probabilities, marker='o', linestyle='-')\n",
    "    plt.xlabel(\"Error Rate\")\n",
    "    plt.ylabel(\"Detection Probability\")\n",
    "    plt.title(\"Detection Probability vs. Error Rate\")\n",
    "    plt.grid(True)\n",
    "    plt.show()\n",
    "\n",
    "# Initialize the circuit\n",
    "circuit = init_circuit()\n",
    "\n",
    "# Encode the logical qubit\n",
    "encode(circuit)\n",
    "\n",
    "# Define a range of error rates to test\n",
    "error_rates = np.linspace(0, 0.3, 21)  # From 0 to 0.2 in steps of 0.01\n",
    "detection_probabilities = []\n",
    "\n",
    "# Run the simulation for each error rate\n",
    "for error_rate in error_rates:\n",
    "    print(f\"Running simulation for error rate: {error_rate:.2f}\")\n",
    "    detection_probability = run_simulation(circuit.copy(), error_rate)\n",
    "    detection_probabilities.append(detection_probability)\n",
    "\n",
    "# Plot the results\n",
    "plot_detection_probability(error_rates, detection_probabilities)"
   ],
   "metadata": {
    "collapsed": false
   }
  },
  {
   "cell_type": "markdown",
   "source": [
    "## Plot multiple runs with different error rates - fidelity\n",
    "(probably not correct, was done with help of GPT)"
   ],
   "metadata": {
    "collapsed": false
   }
  },
  {
   "cell_type": "code",
   "execution_count": 63,
   "outputs": [
    {
     "name": "stdout",
     "output_type": "stream",
     "text": [
      "Initialization complete.\n",
      "Encoding complete.\n",
      "Calculating fidelity for error rate: 0.00\n",
      "Noise channel applied.\n",
      "Error correction complete.\n",
      "Calculating fidelity for error rate: 0.01\n",
      "Noise channel applied.\n",
      "Error correction complete.\n",
      "Calculating fidelity for error rate: 0.02\n",
      "Noise channel applied.\n",
      "Error correction complete.\n",
      "Calculating fidelity for error rate: 0.03\n",
      "Noise channel applied.\n",
      "Error correction complete.\n",
      "Calculating fidelity for error rate: 0.04\n",
      "Noise channel applied.\n",
      "Error correction complete.\n",
      "Calculating fidelity for error rate: 0.05\n",
      "Noise channel applied.\n",
      "Error correction complete.\n",
      "Calculating fidelity for error rate: 0.06\n",
      "Noise channel applied.\n",
      "Error correction complete.\n",
      "Calculating fidelity for error rate: 0.07\n",
      "Noise channel applied.\n",
      "Error correction complete.\n",
      "Calculating fidelity for error rate: 0.08\n",
      "Noise channel applied.\n",
      "Error correction complete.\n",
      "Calculating fidelity for error rate: 0.09\n",
      "Noise channel applied.\n",
      "Error correction complete.\n"
     ]
    },
    {
     "ename": "KeyboardInterrupt",
     "evalue": "",
     "output_type": "error",
     "traceback": [
      "\u001B[0;31m---------------------------------------------------------------------------\u001B[0m",
      "\u001B[0;31mKeyboardInterrupt\u001B[0m                         Traceback (most recent call last)",
      "Cell \u001B[0;32mIn[63], line 37\u001B[0m\n\u001B[1;32m     35\u001B[0m \u001B[38;5;28;01mfor\u001B[39;00m error_rate \u001B[38;5;129;01min\u001B[39;00m error_rates:\n\u001B[1;32m     36\u001B[0m     \u001B[38;5;28mprint\u001B[39m(\u001B[38;5;124mf\u001B[39m\u001B[38;5;124m\"\u001B[39m\u001B[38;5;124mCalculating fidelity for error rate: \u001B[39m\u001B[38;5;132;01m{\u001B[39;00merror_rate\u001B[38;5;132;01m:\u001B[39;00m\u001B[38;5;124m.2f\u001B[39m\u001B[38;5;132;01m}\u001B[39;00m\u001B[38;5;124m\"\u001B[39m)\n\u001B[0;32m---> 37\u001B[0m     fidelity \u001B[38;5;241m=\u001B[39m \u001B[43mcalculate_fidelity\u001B[49m\u001B[43m(\u001B[49m\u001B[43mcircuit\u001B[49m\u001B[38;5;241;43m.\u001B[39;49m\u001B[43mcopy\u001B[49m\u001B[43m(\u001B[49m\u001B[43m)\u001B[49m\u001B[43m,\u001B[49m\u001B[43m \u001B[49m\u001B[43merror_rate\u001B[49m\u001B[43m)\u001B[49m\n\u001B[1;32m     38\u001B[0m     fidelities\u001B[38;5;241m.\u001B[39mappend(fidelity)\n\u001B[1;32m     40\u001B[0m \u001B[38;5;66;03m# Plot the fidelity results\u001B[39;00m\n",
      "Cell \u001B[0;32mIn[63], line 14\u001B[0m, in \u001B[0;36mcalculate_fidelity\u001B[0;34m(circuit, error_rate, shots)\u001B[0m\n\u001B[1;32m     12\u001B[0m \u001B[38;5;66;03m# Count the fraction of samples where the logical state is measured as |0>_L\u001B[39;00m\n\u001B[1;32m     13\u001B[0m logical_measurements \u001B[38;5;241m=\u001B[39m np\u001B[38;5;241m.\u001B[39msum(samples, axis\u001B[38;5;241m=\u001B[39m\u001B[38;5;241m1\u001B[39m) \u001B[38;5;241m%\u001B[39m \u001B[38;5;241m2\u001B[39m  \u001B[38;5;66;03m# Parity check\u001B[39;00m\n\u001B[0;32m---> 14\u001B[0m fidelity \u001B[38;5;241m=\u001B[39m \u001B[43mnp\u001B[49m\u001B[38;5;241m.\u001B[39mmean(logical_measurements \u001B[38;5;241m==\u001B[39m \u001B[38;5;241m0\u001B[39m)  \u001B[38;5;66;03m# Fraction of times we get logical |0>\u001B[39;00m\n\u001B[1;32m     15\u001B[0m \u001B[38;5;28;01mreturn\u001B[39;00m fidelity\n",
      "Cell \u001B[0;32mIn[63], line 14\u001B[0m, in \u001B[0;36mcalculate_fidelity\u001B[0;34m(circuit, error_rate, shots)\u001B[0m\n\u001B[1;32m     12\u001B[0m \u001B[38;5;66;03m# Count the fraction of samples where the logical state is measured as |0>_L\u001B[39;00m\n\u001B[1;32m     13\u001B[0m logical_measurements \u001B[38;5;241m=\u001B[39m np\u001B[38;5;241m.\u001B[39msum(samples, axis\u001B[38;5;241m=\u001B[39m\u001B[38;5;241m1\u001B[39m) \u001B[38;5;241m%\u001B[39m \u001B[38;5;241m2\u001B[39m  \u001B[38;5;66;03m# Parity check\u001B[39;00m\n\u001B[0;32m---> 14\u001B[0m fidelity \u001B[38;5;241m=\u001B[39m \u001B[43mnp\u001B[49m\u001B[38;5;241m.\u001B[39mmean(logical_measurements \u001B[38;5;241m==\u001B[39m \u001B[38;5;241m0\u001B[39m)  \u001B[38;5;66;03m# Fraction of times we get logical |0>\u001B[39;00m\n\u001B[1;32m     15\u001B[0m \u001B[38;5;28;01mreturn\u001B[39;00m fidelity\n",
      "File \u001B[0;32m_pydevd_bundle/pydevd_cython_darwin_310_64.pyx:1179\u001B[0m, in \u001B[0;36m_pydevd_bundle.pydevd_cython_darwin_310_64.SafeCallWrapper.__call__\u001B[0;34m()\u001B[0m\n",
      "File \u001B[0;32m_pydevd_bundle/pydevd_cython_darwin_310_64.pyx:620\u001B[0m, in \u001B[0;36m_pydevd_bundle.pydevd_cython_darwin_310_64.PyDBFrame.trace_dispatch\u001B[0;34m()\u001B[0m\n",
      "File \u001B[0;32m_pydevd_bundle/pydevd_cython_darwin_310_64.pyx:929\u001B[0m, in \u001B[0;36m_pydevd_bundle.pydevd_cython_darwin_310_64.PyDBFrame.trace_dispatch\u001B[0;34m()\u001B[0m\n",
      "File \u001B[0;32m_pydevd_bundle/pydevd_cython_darwin_310_64.pyx:920\u001B[0m, in \u001B[0;36m_pydevd_bundle.pydevd_cython_darwin_310_64.PyDBFrame.trace_dispatch\u001B[0;34m()\u001B[0m\n",
      "File \u001B[0;32m_pydevd_bundle/pydevd_cython_darwin_310_64.pyx:317\u001B[0m, in \u001B[0;36m_pydevd_bundle.pydevd_cython_darwin_310_64.PyDBFrame.do_wait_suspend\u001B[0;34m()\u001B[0m\n",
      "File \u001B[0;32m/Applications/DataSpell.app/Contents/plugins/python-ce/helpers/pydev/pydevd.py:1160\u001B[0m, in \u001B[0;36mPyDB.do_wait_suspend\u001B[0;34m(self, thread, frame, event, arg, send_suspend_message, is_unhandled_exception)\u001B[0m\n\u001B[1;32m   1157\u001B[0m         from_this_thread\u001B[38;5;241m.\u001B[39mappend(frame_id)\n\u001B[1;32m   1159\u001B[0m \u001B[38;5;28;01mwith\u001B[39;00m \u001B[38;5;28mself\u001B[39m\u001B[38;5;241m.\u001B[39m_threads_suspended_single_notification\u001B[38;5;241m.\u001B[39mnotify_thread_suspended(thread_id, stop_reason):\n\u001B[0;32m-> 1160\u001B[0m     \u001B[38;5;28;43mself\u001B[39;49m\u001B[38;5;241;43m.\u001B[39;49m\u001B[43m_do_wait_suspend\u001B[49m\u001B[43m(\u001B[49m\u001B[43mthread\u001B[49m\u001B[43m,\u001B[49m\u001B[43m \u001B[49m\u001B[43mframe\u001B[49m\u001B[43m,\u001B[49m\u001B[43m \u001B[49m\u001B[43mevent\u001B[49m\u001B[43m,\u001B[49m\u001B[43m \u001B[49m\u001B[43marg\u001B[49m\u001B[43m,\u001B[49m\u001B[43m \u001B[49m\u001B[43msuspend_type\u001B[49m\u001B[43m,\u001B[49m\u001B[43m \u001B[49m\u001B[43mfrom_this_thread\u001B[49m\u001B[43m)\u001B[49m\n",
      "File \u001B[0;32m/Applications/DataSpell.app/Contents/plugins/python-ce/helpers/pydev/pydevd.py:1175\u001B[0m, in \u001B[0;36mPyDB._do_wait_suspend\u001B[0;34m(self, thread, frame, event, arg, suspend_type, from_this_thread)\u001B[0m\n\u001B[1;32m   1172\u001B[0m             \u001B[38;5;28mself\u001B[39m\u001B[38;5;241m.\u001B[39m_call_mpl_hook()\n\u001B[1;32m   1174\u001B[0m         \u001B[38;5;28mself\u001B[39m\u001B[38;5;241m.\u001B[39mprocess_internal_commands()\n\u001B[0;32m-> 1175\u001B[0m         \u001B[43mtime\u001B[49m\u001B[38;5;241;43m.\u001B[39;49m\u001B[43msleep\u001B[49m\u001B[43m(\u001B[49m\u001B[38;5;241;43m0.01\u001B[39;49m\u001B[43m)\u001B[49m\n\u001B[1;32m   1177\u001B[0m \u001B[38;5;28mself\u001B[39m\u001B[38;5;241m.\u001B[39mcancel_async_evaluation(get_current_thread_id(thread), \u001B[38;5;28mstr\u001B[39m(\u001B[38;5;28mid\u001B[39m(frame)))\n\u001B[1;32m   1179\u001B[0m \u001B[38;5;66;03m# process any stepping instructions\u001B[39;00m\n",
      "\u001B[0;31mKeyboardInterrupt\u001B[0m: "
     ]
    }
   ],
   "source": [
    "def calculate_fidelity(circuit, error_rate, shots=10000):\n",
    "    # Apply noise channel and error correction\n",
    "    channel(circuit, error_rate)\n",
    "    error_correction(circuit)\n",
    "\n",
    "    # TODO not sure if this is correct. we don't decode here so how do we know if we have a logical 0? also\n",
    "    # Logical measurement in the Z basis (ideal state is |0>_L)\n",
    "    circuit.append(\"M\", list(range(16)))\n",
    "    sampler = circuit.compile_sampler()\n",
    "    samples = sampler.sample(shots=shots)\n",
    "\n",
    "    # Count the fraction of samples where the logical state is measured as |0>_L\n",
    "    logical_measurements = np.sum(samples, axis=1) % 2  # Parity check\n",
    "    fidelity = np.mean(logical_measurements == 0)  # Fraction of times we get logical |0>\n",
    "    return fidelity\n",
    "\n",
    "def plot_fidelity(error_rates, fidelities):\n",
    "    plt.figure(figsize=(10, 6))\n",
    "    plt.plot(error_rates, fidelities, marker='o', linestyle='-')\n",
    "    plt.xlabel(\"Error Rate\")\n",
    "    plt.ylabel(\"Fidelity\")\n",
    "    plt.title(\"Fidelity vs. Error Rate\")\n",
    "    plt.grid(True)\n",
    "    plt.show()\n",
    "\n",
    "# Initialize the circuit\n",
    "circuit = init_circuit()\n",
    "encode(circuit)\n",
    "\n",
    "# Define a range of error rates to test\n",
    "error_rates = np.linspace(0, 0.2, 21)\n",
    "fidelities = []\n",
    "\n",
    "# Run fidelity calculations for each error rate\n",
    "for error_rate in error_rates:\n",
    "    print(f\"Calculating fidelity for error rate: {error_rate:.2f}\")\n",
    "    fidelity = calculate_fidelity(circuit.copy(), error_rate)\n",
    "    fidelities.append(fidelity)\n",
    "\n",
    "# Plot the fidelity results\n",
    "plot_fidelity(error_rates, fidelities)"
   ],
   "metadata": {
    "collapsed": false,
    "ExecuteTime": {
     "start_time": "2024-11-12T23:31:12.413246Z",
     "end_time": "2024-11-12T23:34:25.208213Z"
    }
   }
  },
  {
   "cell_type": "code",
   "execution_count": 48,
   "outputs": [
    {
     "data": {
      "text/plain": "'https://algassert.com/crumble#circuit=Q(0,0)0;Q(1,0)1;Q(2,0)2;Q(3,0)3;Q(0,1)4;Q(1,1)5;Q(2,1)6;Q(3,1)7;Q(0,2)8;Q(1,2)9;Q(2,2)10;Q(3,2)11;Q(0,3)12;Q(1,3)13;Q(2,3)14;Q(3,3)15;MPP_X0*X1*X2*X3*X4*X5*X6*X7_X4*X5*X6*X7*X8*X9*X10*X11_X8*X9*X10*X11*X12*X13*X14*X15_X0*X1*X4*X5*X8*X9*X12*X13_X1*X2*X5*X6*X9*X10*X13*X14_Z0*Z1*Z2*Z3*Z4*Z5*Z6*Z7_Z4*Z5*Z6*Z7*Z8*Z9*Z10*Z11_Z8*Z9*Z10*Z11*Z12*Z13*Z14*Z15_Z0*Z1*Z4*Z5*Z8*Z9*Z12*Z13_Z1*Z2*Z5*Z6*Z9*Z10*Z13*Z14;TICK;X_ERROR(0.1)0_1_2_3_4_5_6_7_8_9_10_11_12_13_14_15;TICK;MPP_X0*X1*X2*X3*X4*X5*X6*X7_X4*X5*X6*X7*X8*X9*X10*X11_X8*X9*X10*X11*X12*X13*X14*X15_X0*X1*X4*X5*X8*X9*X12*X13_X1*X2*X5*X6*X9*X10*X13*X14_Z0*Z1*Z2*Z3*Z4*Z5*Z6*Z7_Z4*Z5*Z6*Z7*Z8*Z9*Z10*Z11_Z8*Z9*Z10*Z11*Z12*Z13*Z14*Z15_Z0*Z1*Z4*Z5*Z8*Z9*Z12*Z13_Z1*Z2*Z5*Z6*Z9*Z10*Z13*Z14;DT_rec[-10]_rec[-20];DT_rec[-9]_rec[-19];DT_rec[-8]_rec[-18];DT_rec[-7]_rec[-17];DT_rec[-6]_rec[-16];DT_rec[-5]_rec[-15];DT_rec[-4]_rec[-14];DT_rec[-3]_rec[-13];DT_rec[-2]_rec[-12];DT_rec[-1]_rec[-11]'"
     },
     "execution_count": 48,
     "metadata": {},
     "output_type": "execute_result"
    }
   ],
   "source": [
    "circuit.to_crumble_url()"
   ],
   "metadata": {
    "collapsed": false,
    "ExecuteTime": {
     "start_time": "2024-11-12T22:43:10.750734Z",
     "end_time": "2024-11-12T22:43:10.754976Z"
    }
   }
  },
  {
   "cell_type": "code",
   "execution_count": 51,
   "outputs": [
    {
     "data": {
      "text/plain": "array([[False,  True, False,  True,  True, False, False, False, False,\n        False, False,  True, False,  True,  True,  True,  True,  True,\n         True,  True],\n       [False, False, False, False,  True, False, False, False, False,\n        False, False, False, False, False,  True,  True,  True, False,\n        False, False],\n       [ True, False, False, False, False, False, False, False, False,\n        False,  True, False, False, False, False, False,  True,  True,\n        False,  True],\n       [False,  True, False, False,  True, False, False, False, False,\n        False, False,  True, False, False,  True, False, False, False,\n        False, False],\n       [ True,  True,  True, False,  True, False, False, False, False,\n        False,  True,  True,  True, False,  True,  True, False, False,\n        False, False],\n       [ True, False,  True,  True, False, False, False, False, False,\n        False,  True, False,  True,  True, False, False, False, False,\n        False, False],\n       [ True, False,  True, False, False, False, False, False, False,\n        False,  True, False,  True, False, False,  True, False,  True,\n         True,  True],\n       [False, False,  True,  True,  True, False, False, False, False,\n        False, False, False,  True,  True,  True, False,  True,  True,\n         True, False],\n       [ True,  True,  True, False,  True, False, False, False, False,\n        False,  True,  True,  True, False,  True, False, False, False,\n        False, False],\n       [ True,  True, False,  True,  True, False, False, False, False,\n        False,  True,  True, False,  True,  True,  True, False,  True,\n        False, False]])"
     },
     "execution_count": 51,
     "metadata": {},
     "output_type": "execute_result"
    }
   ],
   "source": [
    "sampler = circuit.compile_sampler()\n",
    "sampler.sample(shots=10)"
   ],
   "metadata": {
    "collapsed": false,
    "ExecuteTime": {
     "start_time": "2024-11-12T22:45:35.913524Z",
     "end_time": "2024-11-12T22:45:35.923110Z"
    }
   }
  },
  {
   "cell_type": "code",
   "execution_count": 13,
   "outputs": [
    {
     "data": {
      "text/plain": "array([[False, False, False, False, False, False, False, False,  True,\n        False],\n       [False, False, False, False, False, False,  True, False, False,\n         True],\n       [False, False, False, False, False,  True,  True, False,  True,\n         True],\n       [False, False, False, False, False, False, False, False, False,\n         True],\n       [False, False, False, False, False,  True, False,  True, False,\n         True]])"
     },
     "execution_count": 13,
     "metadata": {},
     "output_type": "execute_result"
    }
   ],
   "source": [
    "sampler = circuit.compile_detector_sampler()\n",
    "sampler.sample(shots=5)"
   ],
   "metadata": {
    "collapsed": false,
    "ExecuteTime": {
     "start_time": "2024-11-15T22:59:19.003918Z",
     "end_time": "2024-11-15T22:59:19.012888Z"
    }
   }
  },
  {
   "cell_type": "markdown",
   "source": [
    "## Error correction with pymatching\n",
    "Attempt at actually doing the error correction using pymatching\n",
    "currently not working"
   ],
   "metadata": {
    "collapsed": false
   }
  },
  {
   "cell_type": "code",
   "execution_count": 8,
   "outputs": [],
   "source": [
    "# Counting errors using pymatching to create a decoder\n",
    "def count_logical_errors(circuit: stim.Circuit, num_shots: int) -> int:\n",
    "    # Sample the circuit.\n",
    "    sampler = circuit.compile_detector_sampler()\n",
    "    detection_events, observable_flips = sampler.sample(num_shots, separate_observables=True)\n",
    "\n",
    "    # Configure a decoder using the circuit.\n",
    "    detector_error_model = circuit.detector_error_model(decompose_errors=True)\n",
    "    matcher = pymatching.Matching.from_detector_error_model(detector_error_model)\n",
    "\n",
    "    # Run the decoder.\n",
    "    predictions = matcher.decode_batch(detection_events)\n",
    "\n",
    "    # Count the mistakes.\n",
    "    num_errors = 0\n",
    "    for shot in range(num_shots):\n",
    "        actual_for_shot = observable_flips[shot]\n",
    "        predicted_for_shot = predictions[shot]\n",
    "        if not np.array_equal(actual_for_shot, predicted_for_shot):\n",
    "            num_errors += 1\n",
    "    return num_errors"
   ],
   "metadata": {
    "collapsed": false,
    "ExecuteTime": {
     "start_time": "2024-11-15T22:58:22.598047Z",
     "end_time": "2024-11-15T22:58:22.603626Z"
    }
   }
  },
  {
   "cell_type": "code",
   "execution_count": 15,
   "outputs": [
    {
     "name": "stdout",
     "output_type": "stream",
     "text": [
      "there were 0 wrong predictions (logical errors) out of 100000 shots\n"
     ]
    }
   ],
   "source": [
    "num_shots = 100_000\n",
    "num_logical_errors = count_logical_errors(circuit, num_shots)\n",
    "print(\"there were\", num_logical_errors, \"wrong predictions (logical errors) out of\", num_shots, \"shots\")"
   ],
   "metadata": {
    "collapsed": false,
    "ExecuteTime": {
     "start_time": "2024-11-15T22:59:36.966794Z",
     "end_time": "2024-11-15T22:59:37.568872Z"
    }
   }
  },
  {
   "cell_type": "code",
   "execution_count": null,
   "outputs": [],
   "source": [],
   "metadata": {
    "collapsed": false
   }
  }
 ],
 "metadata": {
  "kernelspec": {
   "display_name": "Python 3",
   "language": "python",
   "name": "python3"
  },
  "language_info": {
   "codemirror_mode": {
    "name": "ipython",
    "version": 2
   },
   "file_extension": ".py",
   "mimetype": "text/x-python",
   "name": "python",
   "nbconvert_exporter": "python",
   "pygments_lexer": "ipython2",
   "version": "2.7.6"
  }
 },
 "nbformat": 4,
 "nbformat_minor": 0
}
