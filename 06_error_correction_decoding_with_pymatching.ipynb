{
 "cells": [
  {
   "cell_type": "code",
   "execution_count": 1,
   "outputs": [],
   "source": [
    "import stim\n",
    "import pymatching\n",
    "import numpy as np"
   ],
   "metadata": {
    "collapsed": false,
    "ExecuteTime": {
     "start_time": "2024-11-16T21:40:19.433155Z",
     "end_time": "2024-11-16T21:40:21.714403Z"
    }
   }
  },
  {
   "cell_type": "code",
   "execution_count": 8,
   "outputs": [
    {
     "name": "stderr",
     "output_type": "stream",
     "text": [
      "\n",
      "KeyboardInterrupt\n",
      "\n"
     ]
    }
   ],
   "source": [
    "# code from https://github.com/quantumlib/Stim/blob/main/doc/getting_started.ipynb\n",
    "def count_logical_errors(circuit: stim.Circuit, num_shots: int) -> int:\n",
    "    # Sample the circuit.\n",
    "    sampler = circuit.compile_detector_sampler()\n",
    "    detection_events, observable_flips = sampler.sample(num_shots, separate_observables=True)\n",
    "\n",
    "    # Configure a decoder using the circuit.\n",
    "    detector_error_model = circuit.detector_error_model(decompose_errors=True)\n",
    "    matcher = pymatching.Matching.from_detector_error_model(detector_error_model)\n",
    "\n",
    "    # Run the decoder.\n",
    "    predictions = matcher.decode_batch(detection_events)\n",
    "\n",
    "    # Count the mistakes.\n",
    "    num_errors = 0\n",
    "    for shot in range(num_shots):\n",
    "        actual_for_shot = observable_flips[shot]\n",
    "        predicted_for_shot = predictions[shot]\n",
    "        if not np.array_equal(actual_for_shot, predicted_for_shot):\n",
    "            num_errors += 1\n",
    "    return num_errors\n",
    "\n",
    "circuit = stim.Circuit.generated(\"repetition_code:memory\", rounds=1, distance=9, before_round_data_depolarization=0.15)\n",
    "num_shots = 100_000\n",
    "num_logical_errors = count_logical_errors(circuit, num_shots)\n",
    "print(\"there were\", num_logical_errors, \"wrong predictions (logical errors) out of\", num_shots, \"shots\")"
   ],
   "metadata": {
    "collapsed": false,
    "ExecuteTime": {
     "start_time": "2024-11-16T21:44:39.870335Z",
     "end_time": "2024-11-16T22:25:06.074176Z"
    }
   }
  },
  {
   "cell_type": "code",
   "execution_count": 6,
   "outputs": [
    {
     "data": {
      "text/plain": "'https://algassert.com/crumble#circuit=R_0_1_2_3_4_5_6_7_8_9_10_11_12_13_14_15_16;TICK;DEPOLARIZE1(0.15)0_2_4_6_8_10_12_14_16;CX_0_1_2_3_4_5_6_7_8_9_10_11_12_13_14_15;TICK;CX_2_1_4_3_6_5_8_7_10_9_12_11_14_13_16_15;TICK;MR_1_3_5_7_9_11_13_15;DT(1,0)rec[-8];DT(3,0)rec[-7];DT(5,0)rec[-6];DT(7,0)rec[-5];DT(9,0)rec[-4];DT(11,0)rec[-3];DT(13,0)rec[-2];DT(15,0)rec[-1];M_0_2_4_6_8_10_12_14_16;DT(1,1)rec[-8]_rec[-9]_rec[-17];DT(3,1)rec[-7]_rec[-8]_rec[-16];DT(5,1)rec[-6]_rec[-7]_rec[-15];DT(7,1)rec[-5]_rec[-6]_rec[-14];DT(9,1)rec[-4]_rec[-5]_rec[-13];DT(11,1)rec[-3]_rec[-4]_rec[-12];DT(13,1)rec[-2]_rec[-3]_rec[-11];DT(15,1)rec[-1]_rec[-2]_rec[-10];OI(0)rec[-1]'"
     },
     "execution_count": 6,
     "metadata": {},
     "output_type": "execute_result"
    }
   ],
   "source": [
    "circuit.to_crumble_url()"
   ],
   "metadata": {
    "collapsed": false,
    "ExecuteTime": {
     "start_time": "2024-11-16T21:41:21.790806Z",
     "end_time": "2024-11-16T21:41:21.797283Z"
    }
   }
  },
  {
   "cell_type": "code",
   "execution_count": null,
   "outputs": [],
   "source": [],
   "metadata": {
    "collapsed": false
   }
  }
 ],
 "metadata": {
  "kernelspec": {
   "display_name": "Python 3",
   "language": "python",
   "name": "python3"
  },
  "language_info": {
   "codemirror_mode": {
    "name": "ipython",
    "version": 2
   },
   "file_extension": ".py",
   "mimetype": "text/x-python",
   "name": "python",
   "nbconvert_exporter": "python",
   "pygments_lexer": "ipython2",
   "version": "2.7.6"
  }
 },
 "nbformat": 4,
 "nbformat_minor": 0
}
