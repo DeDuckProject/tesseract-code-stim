{
 "cells": [
  {
   "cell_type": "code",
   "execution_count": 1,
   "metadata": {
    "collapsed": true,
    "ExecuteTime": {
     "start_time": "2024-11-07T22:22:04.973842Z",
     "end_time": "2024-11-07T22:22:16.649119Z"
    }
   },
   "outputs": [
    {
     "name": "stdout",
     "output_type": "stream",
     "text": [
      "Collecting stim~=1.14\r\n",
      "  Downloading stim-1.14.0-cp310-cp310-macosx_10_9_x86_64.whl.metadata (4.2 kB)\r\n",
      "Requirement already satisfied: numpy in /Users/iftachyakar/opt/miniconda3/envs/error-correction-jupyter/lib/python3.10/site-packages (from stim~=1.14) (1.26.4)\r\n",
      "Downloading stim-1.14.0-cp310-cp310-macosx_10_9_x86_64.whl (1.9 MB)\r\n",
      "\u001B[2K   \u001B[90m━━━━━━━━━━━━━━━━━━━━━━━━━━━━━━━━━━━━━━━━\u001B[0m \u001B[32m1.9/1.9 MB\u001B[0m \u001B[31m2.5 MB/s\u001B[0m eta \u001B[36m0:00:00\u001B[0ma \u001B[36m0:00:01\u001B[0m0m\r\n",
      "\u001B[?25hInstalling collected packages: stim\r\n",
      "Successfully installed stim-1.14.0\r\n",
      "Requirement already satisfied: numpy~=1.0 in /Users/iftachyakar/opt/miniconda3/envs/error-correction-jupyter/lib/python3.10/site-packages (1.26.4)\r\n",
      "Requirement already satisfied: scipy in /Users/iftachyakar/opt/miniconda3/envs/error-correction-jupyter/lib/python3.10/site-packages (1.11.4)\r\n",
      "Requirement already satisfied: numpy<1.28.0,>=1.21.6 in /Users/iftachyakar/opt/miniconda3/envs/error-correction-jupyter/lib/python3.10/site-packages (from scipy) (1.26.4)\r\n"
     ]
    }
   ],
   "source": [
    "!pip install stim~=1.14\n",
    "!pip install numpy~=1.0  # 1.0 instead of 2.0 for pymatching compatibility later\n",
    "!pip install scipy"
   ]
  },
  {
   "cell_type": "code",
   "execution_count": 2,
   "outputs": [
    {
     "name": "stdout",
     "output_type": "stream",
     "text": [
      "1.14.0\n"
     ]
    }
   ],
   "source": [
    "import stim\n",
    "print(stim.__version__)"
   ],
   "metadata": {
    "collapsed": false,
    "ExecuteTime": {
     "start_time": "2024-11-07T22:22:34.542531Z",
     "end_time": "2024-11-07T22:22:34.565893Z"
    }
   }
  },
  {
   "cell_type": "code",
   "execution_count": 9,
   "outputs": [],
   "source": [
    "circuit = stim.Circuit()\n",
    "\n",
    "# First, the circuit will initialize a Bell pair.\n",
    "circuit.append(\"H\", [0])\n",
    "circuit.append(\"CNOT\", [0, 1])\n",
    "\n",
    "# Then, the circuit will measure both qubits of the Bell pair in the Z basis.\n",
    "circuit.append(\"M\", [0, 1])"
   ],
   "metadata": {
    "collapsed": false,
    "ExecuteTime": {
     "start_time": "2024-11-07T22:30:22.370437Z",
     "end_time": "2024-11-07T22:30:22.374038Z"
    }
   }
  },
  {
   "cell_type": "code",
   "execution_count": 10,
   "outputs": [
    {
     "data": {
      "text/plain": "q0: -H-@-@-M:rec[0]-\n       | |\nq1: ---X-|-M:rec[1]-\n         |\nq2: -----X----------",
      "text/html": "<pre>q0: -H-@-@-M:rec[0]-\n       | |\nq1: ---X-|-M:rec[1]-\n         |\nq2: -----X----------</pre>"
     },
     "execution_count": 10,
     "metadata": {},
     "output_type": "execute_result"
    }
   ],
   "source": [
    "circuit.diagram()"
   ],
   "metadata": {
    "collapsed": false,
    "ExecuteTime": {
     "start_time": "2024-11-07T22:30:22.916021Z",
     "end_time": "2024-11-07T22:30:22.923434Z"
    }
   }
  },
  {
   "cell_type": "code",
   "execution_count": 11,
   "outputs": [
    {
     "data": {
      "text/plain": "<svg viewBox=\"0 0 352 288\"  version=\"1.1\" xmlns=\"http://www.w3.org/2000/svg\">\n<g id=\"qubit_lines\">\n<path id=\"qubit_line:0\" d=\"M64,64 L320,64 \" stroke=\"black\"/>\n<text dominant-baseline=\"central\" text-anchor=\"end\" font-family=\"monospace\" font-size=\"12\" x=\"64\" y=\"64\">q0</text>\n<path id=\"qubit_line:1\" d=\"M64,128 L320,128 \" stroke=\"black\"/>\n<text dominant-baseline=\"central\" text-anchor=\"end\" font-family=\"monospace\" font-size=\"12\" x=\"64\" y=\"128\">q1</text>\n<path id=\"qubit_line:2\" d=\"M64,192 L320,192 \" stroke=\"black\"/>\n<text dominant-baseline=\"central\" text-anchor=\"end\" font-family=\"monospace\" font-size=\"12\" x=\"64\" y=\"192\">q2</text>\n</g>\n<rect x=\"80\" y=\"48\" width=\"32\" height=\"32\" stroke=\"black\" fill=\"white\"/>\n<text dominant-baseline=\"central\" text-anchor=\"middle\" font-family=\"monospace\" font-size=\"30\" x=\"96\" y=\"64\">H</text>\n<path d=\"M160,64 L160,128 \" stroke=\"black\"/>\n<circle cx=\"160\" cy=\"64\" r=\"12\" stroke=\"none\" fill=\"black\"/>\n<circle cx=\"160\" cy=\"128\" r=\"12\" stroke=\"black\" fill=\"white\"/>\n<path d=\"M148,128 L172,128 M160,116 L160,140 \" stroke=\"black\"/>\n<path d=\"M224,64 L224,192 \" stroke=\"black\"/>\n<circle cx=\"224\" cy=\"64\" r=\"12\" stroke=\"none\" fill=\"black\"/>\n<circle cx=\"224\" cy=\"192\" r=\"12\" stroke=\"black\" fill=\"white\"/>\n<path d=\"M212,192 L236,192 M224,180 L224,204 \" stroke=\"black\"/>\n<rect x=\"272\" y=\"48\" width=\"32\" height=\"32\" stroke=\"black\" fill=\"black\"/>\n<text dominant-baseline=\"central\" text-anchor=\"middle\" font-family=\"monospace\" font-size=\"30\" x=\"288\" y=\"64\" fill=\"white\">M</text>\n<text text-anchor=\"middle\" font-family=\"monospace\" font-size=\"8\" x=\"288\" y=\"44\">rec[0]</text>\n<rect x=\"272\" y=\"112\" width=\"32\" height=\"32\" stroke=\"black\" fill=\"black\"/>\n<text dominant-baseline=\"central\" text-anchor=\"middle\" font-family=\"monospace\" font-size=\"30\" x=\"288\" y=\"128\" fill=\"white\">M</text>\n<text text-anchor=\"middle\" font-family=\"monospace\" font-size=\"8\" x=\"288\" y=\"108\">rec[1]</text>\n</svg>",
      "image/svg+xml": "<svg viewBox=\"0 0 352 288\"  version=\"1.1\" xmlns=\"http://www.w3.org/2000/svg\">\n<g id=\"qubit_lines\">\n<path id=\"qubit_line:0\" d=\"M64,64 L320,64 \" stroke=\"black\"/>\n<text dominant-baseline=\"central\" text-anchor=\"end\" font-family=\"monospace\" font-size=\"12\" x=\"64\" y=\"64\">q0</text>\n<path id=\"qubit_line:1\" d=\"M64,128 L320,128 \" stroke=\"black\"/>\n<text dominant-baseline=\"central\" text-anchor=\"end\" font-family=\"monospace\" font-size=\"12\" x=\"64\" y=\"128\">q1</text>\n<path id=\"qubit_line:2\" d=\"M64,192 L320,192 \" stroke=\"black\"/>\n<text dominant-baseline=\"central\" text-anchor=\"end\" font-family=\"monospace\" font-size=\"12\" x=\"64\" y=\"192\">q2</text>\n</g>\n<rect x=\"80\" y=\"48\" width=\"32\" height=\"32\" stroke=\"black\" fill=\"white\"/>\n<text dominant-baseline=\"central\" text-anchor=\"middle\" font-family=\"monospace\" font-size=\"30\" x=\"96\" y=\"64\">H</text>\n<path d=\"M160,64 L160,128 \" stroke=\"black\"/>\n<circle cx=\"160\" cy=\"64\" r=\"12\" stroke=\"none\" fill=\"black\"/>\n<circle cx=\"160\" cy=\"128\" r=\"12\" stroke=\"black\" fill=\"white\"/>\n<path d=\"M148,128 L172,128 M160,116 L160,140 \" stroke=\"black\"/>\n<path d=\"M224,64 L224,192 \" stroke=\"black\"/>\n<circle cx=\"224\" cy=\"64\" r=\"12\" stroke=\"none\" fill=\"black\"/>\n<circle cx=\"224\" cy=\"192\" r=\"12\" stroke=\"black\" fill=\"white\"/>\n<path d=\"M212,192 L236,192 M224,180 L224,204 \" stroke=\"black\"/>\n<rect x=\"272\" y=\"48\" width=\"32\" height=\"32\" stroke=\"black\" fill=\"black\"/>\n<text dominant-baseline=\"central\" text-anchor=\"middle\" font-family=\"monospace\" font-size=\"30\" x=\"288\" y=\"64\" fill=\"white\">M</text>\n<text text-anchor=\"middle\" font-family=\"monospace\" font-size=\"8\" x=\"288\" y=\"44\">rec[0]</text>\n<rect x=\"272\" y=\"112\" width=\"32\" height=\"32\" stroke=\"black\" fill=\"black\"/>\n<text dominant-baseline=\"central\" text-anchor=\"middle\" font-family=\"monospace\" font-size=\"30\" x=\"288\" y=\"128\" fill=\"white\">M</text>\n<text text-anchor=\"middle\" font-family=\"monospace\" font-size=\"8\" x=\"288\" y=\"108\">rec[1]</text>\n</svg>"
     },
     "execution_count": 11,
     "metadata": {},
     "output_type": "execute_result"
    }
   ],
   "source": [
    "circuit.diagram('timeline-svg')"
   ],
   "metadata": {
    "collapsed": false,
    "ExecuteTime": {
     "start_time": "2024-11-07T22:30:25.016958Z",
     "end_time": "2024-11-07T22:30:25.035732Z"
    }
   }
  },
  {
   "cell_type": "code",
   "execution_count": 6,
   "outputs": [
    {
     "name": "stdout",
     "output_type": "stream",
     "text": [
      "[[ True  True]\n",
      " [False False]\n",
      " [ True  True]\n",
      " [False False]\n",
      " [ True  True]\n",
      " [False False]\n",
      " [ True  True]\n",
      " [False False]\n",
      " [ True  True]\n",
      " [False False]]\n"
     ]
    }
   ],
   "source": [
    "sampler = circuit.compile_sampler()\n",
    "print(sampler.sample(shots=10))"
   ],
   "metadata": {
    "collapsed": false,
    "ExecuteTime": {
     "start_time": "2024-11-07T22:22:57.268051Z",
     "end_time": "2024-11-07T22:23:04.365754Z"
    }
   }
  },
  {
   "cell_type": "code",
   "execution_count": 7,
   "outputs": [
    {
     "name": "stdout",
     "output_type": "stream",
     "text": [
      "stim.Circuit('''\n",
      "    H 0\n",
      "    CX 0 1\n",
      "    M 0 1\n",
      "    DETECTOR rec[-1] rec[-2]\n",
      "''')\n"
     ]
    }
   ],
   "source": [
    "# Indicate the two previous measurements are supposed to consistently agree.\n",
    "circuit.append(\"DETECTOR\", [stim.target_rec(-1), stim.target_rec(-2)])\n",
    "print(repr(circuit))"
   ],
   "metadata": {
    "collapsed": false,
    "ExecuteTime": {
     "start_time": "2024-11-07T22:23:16.873055Z",
     "end_time": "2024-11-07T22:23:16.880163Z"
    }
   }
  },
  {
   "cell_type": "code",
   "execution_count": 8,
   "outputs": [
    {
     "name": "stdout",
     "output_type": "stream",
     "text": [
      "[[False]\n",
      " [False]\n",
      " [False]\n",
      " [False]\n",
      " [False]]\n"
     ]
    }
   ],
   "source": [
    "sampler = circuit.compile_detector_sampler()\n",
    "print(sampler.sample(shots=5))"
   ],
   "metadata": {
    "collapsed": false,
    "ExecuteTime": {
     "start_time": "2024-11-07T22:23:25.582495Z",
     "end_time": "2024-11-07T22:23:25.601101Z"
    }
   }
  },
  {
   "cell_type": "code",
   "execution_count": 12,
   "outputs": [
    {
     "data": {
      "text/plain": "'https://algassert.com/crumble#circuit=H_0;CX_0_1_0_2;M_0_1'"
     },
     "execution_count": 12,
     "metadata": {},
     "output_type": "execute_result"
    }
   ],
   "source": [
    "circuit.to_crumble_url()"
   ],
   "metadata": {
    "collapsed": false,
    "ExecuteTime": {
     "start_time": "2024-11-07T22:40:37.615239Z",
     "end_time": "2024-11-07T22:40:37.627576Z"
    }
   }
  },
  {
   "cell_type": "markdown",
   "source": [
    "## Trying to create circuit from tableau based on stabilizer generators"
   ],
   "metadata": {
    "collapsed": false
   }
  },
  {
   "cell_type": "code",
   "execution_count": 14,
   "outputs": [
    {
     "data": {
      "text/plain": "stim.Tableau.from_conjugated_generators(\n    xs=[\n        stim.PauliString(\"-__X_Z\"),\n        stim.PauliString(\"+____Z\"),\n        stim.PauliString(\"-Z_X_Z\"),\n        stim.PauliString(\"+_Z__Z\"),\n        stim.PauliString(\"-Z_XX_\"),\n    ],\n    zs=[\n        stim.PauliString(\"+XZZX_\"),\n        stim.PauliString(\"+_XZZX\"),\n        stim.PauliString(\"+X_XZZ\"),\n        stim.PauliString(\"+ZX_XZ\"),\n        stim.PauliString(\"-_ZXZ_\"),\n    ],\n)"
     },
     "execution_count": 14,
     "metadata": {},
     "output_type": "execute_result"
    }
   ],
   "source": [
    "# 5-qubit code from generators:\n",
    "stim.Tableau.from_stabilizers([\n",
    "    stim.PauliString(\"XZZXI\"),\n",
    "    stim.PauliString(\"IXZZX\"),\n",
    "    stim.PauliString(\"XIXZZ\"),\n",
    "    stim.PauliString(\"ZXIXZ\")\n",
    "], allow_redundant=True, allow_underconstrained=True)"
   ],
   "metadata": {
    "collapsed": false,
    "ExecuteTime": {
     "start_time": "2024-11-07T23:06:30.610581Z",
     "end_time": "2024-11-07T23:06:30.616821Z"
    }
   }
  },
  {
   "cell_type": "code",
   "execution_count": 0,
   "outputs": [],
   "source": [
    "# EPR pair:\n",
    "circuit1 = stim.Circuit()\n",
    "circuit1.append(\"H\", 0)\n",
    "# circuit1.append(\"H\", 0)\n",
    "circuit1.append(\"CNOT\", [0,1])\n",
    "# circuit1.append(\"CNOT\", [0,1])\n",
    "stim.Tableau.from_circuit(circuit1)"
   ],
   "metadata": {
    "collapsed": false,
    "ExecuteTime": {
     "start_time": "2024-11-07T23:35:41.109332Z",
     "end_time": "2024-11-07T23:35:41.114286Z"
    }
   }
  },
  {
   "cell_type": "code",
   "execution_count": 39,
   "outputs": [],
   "source": [
    "#create tesseract subsystem color code (http://arxiv.org/abs/2409.04628) from stabilizer generators:\n",
    "tesseract_code = stim.Tableau.from_stabilizers([\n",
    "    stim.PauliString(\"XXXXXXXXIIIIIIII\"), #rows 1-2\n",
    "    stim.PauliString(\"IIIIXXXXXXXXIIII\"), #rows 2-3\n",
    "    stim.PauliString(\"IIIIIIIIXXXXXXXX\"), #rows 3-4\n",
    "    stim.PauliString(\"ZZZZZZZZIIIIIIII\"), #rows 1-2\n",
    "    stim.PauliString(\"IIIIZZZZZZZZIIII\"), #rows 2-3\n",
    "    stim.PauliString(\"IIIIIIIIZZZZZZZZ\"), #rows 3-4\n",
    "    stim.PauliString(\"XXIIXXIIXXIIXXII\"), #columns 1-2\n",
    "    stim.PauliString(\"ZZIIZZIIZZIIZZII\"), #columns 1-2\n",
    "    stim.PauliString(\"IXXIIXXIIXXIIXXI\"), #columns 2-3\n",
    "    stim.PauliString(\"IZZIIZZIIZZIIZZI\"), #columns 2-3\n",
    "], allow_redundant=False, allow_underconstrained=True)"
   ],
   "metadata": {
    "collapsed": false,
    "ExecuteTime": {
     "start_time": "2024-11-07T23:38:20.451993Z",
     "end_time": "2024-11-07T23:38:20.454895Z"
    }
   }
  },
  {
   "cell_type": "code",
   "execution_count": 40,
   "outputs": [],
   "source": [
    "tesseract_circuit = tesseract_code.to_circuit()"
   ],
   "metadata": {
    "collapsed": false,
    "ExecuteTime": {
     "start_time": "2024-11-07T23:38:37.591726Z",
     "end_time": "2024-11-07T23:38:37.621762Z"
    }
   }
  },
  {
   "cell_type": "code",
   "execution_count": 41,
   "outputs": [
    {
     "data": {
      "text/plain": "'https://algassert.com/crumble#circuit=CX_6_0_0_6_6_0;H_0_1_8;CX_0_1_0_3_0_7_0_8_0_11_0_12_0_14;H_6;CX_6_0_6_1_1_6_6_1;H_2;CX_1_2_1_6_1_9_1_12_1_13_1_14_1_15_8_1_9_2_2_9_9_2_2_3_7_2_8_2_10_2_12_2_14_2_4_3_5_3_7_3_10_3_13_3_15_3_6_4_4_6_6_4_4_6_4_8_4_9_4_10_4_12_4_15_7_5_5_7_7_5_5_6_7_5_8_5_10_5_11_5_14_5_15_5_8_6_6_8_8_6_6_10_6_13_6_14_8_7_7_8_8_7_10_7_11_7_12_7_13_7_9_8_8_9_9_8_8_9_8_10_8_11_8_12_8_13_8_14_8_15_10_9_11_9_12_9_13_9_14_9_15_9'"
     },
     "execution_count": 41,
     "metadata": {},
     "output_type": "execute_result"
    }
   ],
   "source": [
    "tesseract_circuit.to_crumble_url()"
   ],
   "metadata": {
    "collapsed": false,
    "ExecuteTime": {
     "start_time": "2024-11-07T23:38:42.847434Z",
     "end_time": "2024-11-07T23:38:42.866163Z"
    }
   }
  },
  {
   "cell_type": "code",
   "execution_count": null,
   "outputs": [],
   "source": [],
   "metadata": {
    "collapsed": false
   }
  }
 ],
 "metadata": {
  "kernelspec": {
   "display_name": "Python 3",
   "language": "python",
   "name": "python3"
  },
  "language_info": {
   "codemirror_mode": {
    "name": "ipython",
    "version": 2
   },
   "file_extension": ".py",
   "mimetype": "text/x-python",
   "name": "python",
   "nbconvert_exporter": "python",
   "pygments_lexer": "ipython2",
   "version": "2.7.6"
  }
 },
 "nbformat": 4,
 "nbformat_minor": 0
}
